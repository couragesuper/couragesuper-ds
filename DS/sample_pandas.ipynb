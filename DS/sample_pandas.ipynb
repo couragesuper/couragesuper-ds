{
 "cells": [
  {
   "cell_type": "code",
   "execution_count": 153,
   "metadata": {
    "collapsed": true
   },
   "outputs": [
    {
     "name": "stdout",
     "output_type": "stream",
     "text": [
      "*\n    Name  Age        Job\n0   John   20    student\n1  Jenny   30  developer\n2   Nate   30   teatcher\n3  Julia   40    dentist\n4  Brian   45    manager\n5  Chris   25     intern\n"
     ]
    }
   ],
   "source": [
    "import pandas as pd \n",
    "\n",
    "# initalize the path row \n",
    "import os \n",
    "path_tar = \"/couragesuper-ds/DS/\"\n",
    "root_path = os.getcwd().replace(\"\\\\\",\"/\") + path_tar \n",
    "\n",
    "# function to help showing the results\n",
    "def printnl( target ) :\n",
    "    print( \"*\\n{}\".format(target))\n",
    "    \n",
    "# 1.create New dataframe with list of dict\n",
    "listName = ['John','Jenny','Nate','Julia','Brian','Chris']\n",
    "listAge  = [20,30,30,40,45,25]\n",
    "listJob  = ['student','developer','teatcher','dentist','manager','intern']\n",
    " \n",
    "df = pd.DataFrame( {'Name':listName, 'Age':listAge, 'Job':listJob})\n",
    "printnl( df )\n",
    "\n",
    "# 2.save to csv \n",
    "df.to_csv( root_path + 'sample_noopt.csv' )    \n",
    "    # if pandas has rangeIndex , you need to save with this option     \n",
    "df.to_csv( root_path + 'sample_opt_noindex.csv' , index = False) "
   ]
  },
  {
   "cell_type": "code",
   "execution_count": 154,
   "metadata": {},
   "outputs": [
    {
     "name": "stdout",
     "output_type": "stream",
     "text": [
      "<class 'pandas.core.frame.DataFrame'>\nRangeIndex: 6 entries, 0 to 5\nData columns (total 3 columns):\nName    6 non-null object\nAge     6 non-null int64\nJob     6 non-null object\ndtypes: int64(1), object(2)\nmemory usage: 224.0+ bytes\n*\nNone\n*\nRangeIndex(start=0, stop=6, step=1)\n*\n[['John' 20 'student']\n ['Jenny' 30 'developer']\n ['Nate' 30 'teatcher']\n ['Julia' 40 'dentist']\n ['Brian' 45 'manager']\n ['Chris' 25 'intern']]\n*\nIndex(['Name', 'Age', 'Job'], dtype='object')\n*\n(6, 3)\n*\n<pandas.core.strings.StringMethods object at 0x00000000055AFE10>\n*\n<pandas.core.strings.StringMethods object at 0x00000000055AFE10>\n*\nstudent\n"
     ]
    }
   ],
   "source": [
    "printnl( df.info() )\n",
    "printnl( df.index )\n",
    "printnl( df.values )\n",
    "printnl( df.columns )\n",
    "printnl( df.shape )\n",
    "printnl( df.Job.str )\n",
    "printnl( df['Job'].str )\n",
    "printnl( df['Job'][0])"
   ]
  },
  {
   "cell_type": "code",
   "execution_count": 155,
   "metadata": {},
   "outputs": [
    {
     "name": "stdout",
     "output_type": "stream",
     "text": [
      "*\n   Age        Job\n0   20    student\n1   30  developer\n2   30   teatcher\n3   40    dentist\n4   45    manager\n5   25     intern\n*\n   Age        Job\n0   20    student\n1   30  developer\n2   30   teatcher\n3   40    dentist\n4   45    manager\n5   25     intern\n"
     ]
    }
   ],
   "source": [
    "# create dataframe with series \n",
    "s1 = pd.core.series.Series(listAge)\n",
    "s2 = pd.core.series.Series(listJob)\n",
    "\n",
    "    # with no opt \n",
    "df2 = pd.DataFrame( dict(Age=s1,Job=s2))\n",
    "printnl(df2)\n",
    "\n",
    "    # with data arguments\n",
    "df3 = pd.DataFrame( data = dict(Age=s1,Job=s2))\n",
    "printnl(df3)"
   ]
  },
  {
   "cell_type": "code",
   "execution_count": 156,
   "metadata": {},
   "outputs": [
    {
     "name": "stdout",
     "output_type": "stream",
     "text": [
      "*\n   Unnamed: 0   Name  Age        Job\n0           0   John   20    student\n1           1  Jenny   30  developer\n2           2   Nate   30   teatcher\n3           3  Julia   40    dentist\n4           4  Brian   45    manager\n5           5  Chris   25     intern\n*\n          ,Name,Age,Job\n0     0,John,20,student\n1  1,Jenny,30,developer\n2    2,Nate,30,teatcher\n3    3,Julia,40,dentist\n4    4,Brian,45,manager\n5     5,Chris,25,intern\n"
     ]
    }
   ],
   "source": [
    "# create dataframe with csv \n",
    "df_def = pd.read_csv( root_path + 'sample_noopt.csv')\n",
    "df_tab = pd.read_csv( root_path + 'sample_noopt.csv' , delimiter= '\\t') \n",
    "    # ! : default delimiter is comma\n",
    "printnl( df_def )\n",
    "printnl( df_tab )\n"
   ]
  },
  {
   "cell_type": "code",
   "execution_count": 159,
   "metadata": {},
   "outputs": [
    {
     "name": "stdout",
     "output_type": "stream",
     "text": [
      "*\n     0      1    2          3\n0  NaN   Name  Age        Job\n1  0.0   John   20    student\n2  1.0  Jenny   30  developer\n3  2.0   Nate   30   teatcher\n4  3.0  Julia   40    dentist\n5  4.0  Brian   45    manager\n6  5.0  Chris   25     intern\n*\n   index   name  age        job\n0    NaN   Name  Age        Job\n1    0.0   John   20    student\n2    1.0  Jenny   30  developer\n3    2.0   Nate   30   teatcher\n4    3.0  Julia   40    dentist\n5    4.0  Brian   45    manager\n6    5.0  Chris   25     intern\n"
     ]
    }
   ],
   "source": [
    "# header == none ignore one row and def col\n",
    "    # this makes first line use to one row -_- \n",
    "df_noheader = pd.read_csv( root_path + \"sample_noopt.csv\", header = None ) \n",
    "printnl( df_noheader)\n",
    "df_noheader.columns = ['index','name','age','job']\n",
    "printnl( df_noheader )"
   ]
  },
  {
   "cell_type": "code",
   "execution_count": 160,
   "metadata": {},
   "outputs": [
    {
     "name": "stdout",
     "output_type": "stream",
     "text": [
      "*\n    Name  Age        Job\n0   John   20    student\n1  Jenny   30  developer\n2   Nate   30   teatcher\n3  Julia   40    dentist\n4  Brian   45    manager\n5  Chris   25     intern\n"
     ]
    }
   ],
   "source": [
    "# header == none ignore one row and def col\n",
    "    # this makes first line use to one row -_- \n",
    "df_noopt = pd.read_csv( root_path + \"sample_opt_noindex.csv\" ) \n",
    "printnl( df_noopt)"
   ]
  },
  {
   "cell_type": "code",
   "execution_count": 163,
   "metadata": {
    "collapsed": true
   },
   "outputs": [
    {
     "name": "stdout",
     "output_type": "stream",
     "text": [
      "*\n    Name  Age        Job\n1  Jenny   30  developer\n2   Nate   30   teatcher\n3  Julia   40    dentist\n4  Brian   45    manager\n*\n    Name  Age      Job\n3  Julia   40  dentist\n*\n    Name  Age      Job\n3  Julia   40  dentist\n"
     ]
    }
   ],
   "source": [
    "# filtering with entry\n",
    "\n",
    "    # filtering  \n",
    "df[ df['Age'] > 20 ].shape[1]\n",
    "ret = df.query('Age > 25') \n",
    "printnl( ret )\n",
    "\n",
    "    # AND operations  \n",
    "ret = df.query('Age > 25').query('Job == \"dentist\"')\n",
    "printnl( ret )\n",
    "\n",
    "ret = df[ (df['Age'] > 25) & (df['Job'] == \"dentist\") ]\n",
    "printnl( ret )\n"
   ]
  },
  {
   "cell_type": "code",
   "execution_count": 103,
   "metadata": {},
   "outputs": [
    {
     "name": "stdout",
     "output_type": "stream",
     "text": [
      "    Name  Age        Job\n0   John   20    student\n1  Jenny   30  developer\n2   Nate   30   teatcher\n4  Brian   45    manager\n5  Chris   25     intern\n"
     ]
    }
   ],
   "source": [
    "#filtering columns field \n",
    "\n",
    "df.filter(like='e' , axis = 1)\n",
    "\n",
    "#like는 포함하는 문자열\n",
    "#regex를 쓸수도 있는데.... \n",
    "print(df)"
   ]
  },
  {
   "cell_type": "code",
   "execution_count": 170,
   "metadata": {},
   "outputs": [
    {
     "name": "stdout",
     "output_type": "stream",
     "text": [
      "*\n   name        job\n0  John    teacher\n1  Nate    student\n2  Fred  developer\n*\n   name       job\n0    Ed   dentist\n1  Jack    farmer\n2   Ted  designer\n*\n   name        job\n0  John    teacher\n1  Nate    student\n2  Fred  developer\n3    Ed    dentist\n4  Jack     farmer\n5   Ted   designer\n*\n   name        job\n0  John    teacher\n1  Nate    student\n2  Fred  developer\n3    Ed    dentist\n4  Jack     farmer\n5   Ted   designer\n"
     ]
    }
   ],
   "source": [
    "# concatenations\n",
    "l1 = [{'name': 'John', 'job': \"teacher\"},\n",
    "      {'name': 'Nate', 'job': \"student\"},\n",
    "      {'name': 'Fred', 'job': \"developer\"}]\n",
    "\n",
    "l2 = [{'name': 'Ed', 'job': \"dentist\"},\n",
    "      {'name': 'Jack', 'job': \"farmer\"},\n",
    "      {'name': 'Ted', 'job': \"designer\"}]\n",
    "         \n",
    "df1 = pd.DataFrame(l1, columns = ['name', 'job'])\n",
    "printnl(df1)\n",
    "df2 = pd.DataFrame(l2, columns = ['name', 'job'])\n",
    "printnl(df2)\n",
    "\n",
    "# concat 두 개의 DF를 연결하여, 새로운 DF를 만들어낸다. global function\n",
    "result = pd.concat([df1, df2], ignore_index=True)\n",
    "printnl( result )\n",
    "\n",
    "# append is internal function in df\n",
    "result = df1.append(df2,ignore_index=True)\n",
    "printnl( result )"
   ]
  },
  {
   "cell_type": "code",
   "execution_count": 187,
   "metadata": {},
   "outputs": [
    {
     "name": "stdout",
     "output_type": "stream",
     "text": [
      "*\n    Name  Age        Job\n0   John   20    student\n1  Jenny   30  developer\n2   Nate   30   teatcher\n3  Julia   40    dentist\n4  Brian   45    manager\n5  Chris   25     intern\n*\n0     John\n1    Jenny\n2     Nate\n3    Julia\n4    Brian\n5    Chris\nName: Name, dtype: object\n*\n    Name        Job\n0   John    student\n1  Jenny  developer\n2   Nate   teatcher\n3  Julia    dentist\n4  Brian    manager\n5  Chris     intern\n*\n   Name  Age      Job\n0  John   20  student\n*\n    Name  Age        Job\n0   John   20    student\n1  Jenny   30  developer\n*\n   Name  Age      Job\n0  John   20  student\n"
     ]
    }
   ],
   "source": [
    "#indexing \n",
    "printnl( df )\n",
    "\n",
    "    # [] \n",
    "    # default function directs column\n",
    "printnl( df['Name'] )\n",
    "    # with list \n",
    "printnl( df[['Name','Job']] )\n",
    "\n",
    "printnl(df[0:1])      # [] is closed \n",
    "printnl(df.loc[0:1])  # loc is opend (because this isnt range) \n",
    "printnl(df.iloc[0:1]) # iloc is closed "
   ]
  },
  {
   "cell_type": "code",
   "execution_count": 189,
   "metadata": {},
   "outputs": [
    {
     "name": "stdout",
     "output_type": "stream",
     "text": [
      "*\n0     John\n1    Jenny\nName: Name, dtype: object\n*\n   Name\n0  John\n"
     ]
    }
   ],
   "source": [
    "\n",
    "# [] and filtering row,col doesnt works \n",
    "if False : printnl(df[0:1,0:1]) # fail\n",
    "elif False  : \n",
    "    printnl(df[0:1,'Name']) # fail\n",
    "    \n",
    "# loc and filtering filed name works well\n",
    "if False : printnl(df.loc[0:1,0:1]) # loc needs filed name\n",
    "else : \n",
    "    printnl(df.loc[0:1,'Name']) # OK\n",
    "    \n",
    "# iloc and filtering range works well\n",
    "\n",
    "printnl(df.iloc[0:1,0:1])\n"
   ]
  }
 ],
 "metadata": {
  "kernelspec": {
   "display_name": "Python 2",
   "language": "python",
   "name": "python2"
  },
  "language_info": {
   "codemirror_mode": {
    "name": "ipython",
    "version": 2
   },
   "file_extension": ".py",
   "mimetype": "text/x-python",
   "name": "python",
   "nbconvert_exporter": "python",
   "pygments_lexer": "ipython2",
   "version": "2.7.6"
  }
 },
 "nbformat": 4,
 "nbformat_minor": 0
}
