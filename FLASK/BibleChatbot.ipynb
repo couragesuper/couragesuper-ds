{
 "cells": [
  {
   "cell_type": "code",
   "execution_count": 1,
   "metadata": {},
   "outputs": [],
   "source": [
    "from flask import Flask\n",
    "from flask import Response\n",
    "from flask import request\n",
    "from flask_restful import Resource\n",
    "from flask_restful import Api\n",
    "from flaskext.mysql import MySQL\n",
    "from functools import wraps\n",
    "\n",
    "import json\n",
    "import re\n",
    "import sys\n",
    "\n",
    "sys.path.append(\"../Common\")\n",
    "\n",
    "from modelChatbot import modelChatbot\n",
    "\n",
    "#helper functions\n",
    "def dictToJson(f):\n",
    "    @wraps(f)\n",
    "    def decorated_function(*args, **kwargs):\n",
    "        res = f(*args, **kwargs)\n",
    "        res = json.dumps(res, ensure_ascii=False).encode('utf8')\n",
    "        return Response(res, content_type='application/json; charset=utf-8')\n",
    "    return decorated_function\n",
    "\n",
    "#global variables \n",
    "app = Flask(__name__)\n",
    "api = Api(app)    "
   ]
  },
  {
   "cell_type": "code",
   "execution_count": 2,
   "metadata": {},
   "outputs": [],
   "source": [
    "# 동작하는지를 주소로 확인하기 위해서. \n",
    "@app.route(\"/\")\n",
    "def indexslash():\n",
    "    return { 'data': u'파워프로그래머' }\n",
    "\n",
    "@app.route(\"/index\")\n",
    "def index():\n",
    "    return { 'data': u'파워프로그래머' }\n",
    "\n",
    "# db test \n",
    "@app.route(\"/db2json\", methods=[\"GET\",\"POST\"])    \n",
    "def db2json():                    \n",
    "    config_bible = {\n",
    "      'user': 'root',\n",
    "      'password': 'karisma*3%7*4',\n",
    "      'host': 'mthx.cafe24.com',\n",
    "      'database': 'bible',\n",
    "      'raise_on_warnings': True,\n",
    "    }\n",
    "    dbbible = dbConMysql( config_bible )\n",
    "    query = \"select * from TB_BIBLE\"\n",
    "    result = dbbible.selectQuery(query)\n",
    "    print(result)        \n",
    "    res = json.dumps(result, ensure_ascii=False).encode('utf8')\n",
    "    return Response(res, content_type='application/json; charset=utf-8')\n",
    "\n",
    "@app.route(\"/modtest\", methods=[\"GET\",\"POST\"])    \n",
    "@dictToJson\n",
    "def modtest():                         \n",
    "    print( modBot.isExistUsr( 'aaaa' ) )\n",
    "    modBot.addUser( 'dddd' )            \n",
    "    modBot.updateUserStat('U9A9agpChomm',0,0,0)        \n",
    "    print(\"except\")    \n",
    "\n",
    "@app.route(\"/keyboard\", methods=[\"GET\",\"POST\"])    \n",
    "def keyboard() :\n",
    "    print(request)\n",
    "    return \"{\\\"type\\\":\\\"text\\\"}\"\n",
    "\n",
    "def makeKakaoMsg( szMsg , listMenu ):\n",
    "    print(szMsg, listMenu )\n",
    "    if( len(listMenu) != 0 ):\n",
    "        dicOutput = {\"message\":{\"text\":str(szMsg)},\"keyboard\":{\"type\":\"buttons\",\"buttons\":listMenu}}        \n",
    "    else :\n",
    "        dicOutput = {\"message\":{\"text\":str(szMsg)}}\n",
    "    return dicOutput\n",
    "\n",
    "def parseSearch( msg ) :\n",
    "    pats = [\"([가-힣]*)([0-9]*):([0-9]*)(-)([0-9]*)\" ,\"([가-힣]*)([0-9]*):([0-9]*)(-)\" ,\"([가-힣]*)([0-9]*):([0-9]*)\" ,\"([가-힣]*)([0-9]*):\" ,\"([가-힣]*)([0-9]*)\",\"([가-힣]*)\"]\n",
    "    listDesc = [\"book\",\"chap\",\"no_start\",\"isDash\",\"no_end\"]    \n",
    "    dicRet = {}\n",
    "    for pat in pats : \n",
    "        parser = re.compile( pat )\n",
    "        m = parser.match(msg)\n",
    "        if( m != None ) : \n",
    "            print( m.groups() , type(m.groups()))\n",
    "            ret_tuple = m.groups()\n",
    "            if( len(ret_tuple) ) : \n",
    "                dicRet['ret']='ok'\n",
    "                for i in range(0,len(ret_tuple)) :\n",
    "                    if( ret_tuple[i] != \"\" ) :                         \n",
    "                        if( listDesc[i] in ['chap','no_start','no_end'] ) : dicRet[listDesc[i]] = int(ret_tuple[i])\n",
    "                        else : dicRet[listDesc[i]] = ret_tuple[i]                    \n",
    "    print( dicRet )            \n",
    "    return dicRet\n",
    "            \n",
    "@app.route(\"/message\", methods=[\"GET\",\"POST\"])    \n",
    "@dictToJson\n",
    "def message() :       \n",
    "    if False : \n",
    "        dicJson = json.loads(request.data)\n",
    "        print(dicJson['user_key'])\n",
    "        print(dicJson['type'])        \n",
    "        print(dicJson['content'])\n",
    "        dicMessage = {\"message\":{\"text\":dicJson['content']}}\n",
    "        return dicMessage\n",
    "    else :        \n",
    "        dicJson = json.loads(request.data)        \n",
    "        usr = dicJson['user_key']\n",
    "        media_type = dicJson['type']\n",
    "        msg = dicJson['content']        \n",
    "        reply,menu = replayFunction( usr, msg )\n",
    "        ret = makeKakaoMsg(reply,menu)        \n",
    "        return ret"
   ]
  },
  {
   "cell_type": "code",
   "execution_count": 3,
   "metadata": {},
   "outputs": [
    {
     "name": "stdout",
     "output_type": "stream",
     "text": [
      "[dbConMysql] initalized ... = <mysql.connector.connection.MySQLConnection object at 0x7f2cd0096cc0>\n",
      "[dbConMysql] initalized ... = <mysql.connector.connection.MySQLConnection object at 0x7f2cd00c00f0>\n"
     ]
    }
   ],
   "source": [
    "modBot = modelChatbot()"
   ]
  },
  {
   "cell_type": "code",
   "execution_count": 4,
   "metadata": {},
   "outputs": [],
   "source": [
    "\n",
    "def replayFunction(usr ,msg ):\n",
    "    listBaseMenu = ['성경검색','성경구절검색','성경요절','성경QT','파파고번역K->E','파파고번역E->K']    \n",
    "    listMenuMsg = ['기능','메뉴','처음으로','처음']\n",
    "    \n",
    "    if( modBot.isExistUsr( usr ) == False ) : \n",
    "        modBot.addUser( usr )        \n",
    "        reply = \"새로운 유저이신구요\\n %s님 환영합니다\\n사용하실 수 있는 기능은 다음과 같아요\" % (usr)\n",
    "        listMenu = listBaseMenu\n",
    "    else :\n",
    "        dicUsrStat = modBot.getUserStat(usr)[0];\n",
    "        print( \"dicUsrStat=\",dicUsrStat)\n",
    "                \n",
    "        # selecting menu \n",
    "        if dicUsrStat['statel1'] == 0 : \n",
    "            selIdx = 9999 #invalid object\n",
    "            for i,menu in enumerate(listBaseMenu) :\n",
    "                if menu == msg : \n",
    "                    selIdx = i\n",
    "                    break\n",
    "            if( selIdx != 9999 ) : \n",
    "                modBot.updateUserStat(usr,selIdx+1,0,0)\n",
    "                reply = \"%s님 %s를 선택하셨군요\" % (usr,listBaseMenu[selIdx])\n",
    "                listMenu = []                \n",
    "            else: \n",
    "                modBot.updateUserStat(usr,0,0,0)\n",
    "                reply =\"%s님 사용하실 수 있는 기능은 다음과 같아요 ^^\" % (usr)\n",
    "                listMenu = listBaseMenu                \n",
    "        else : \n",
    "            if( msg in listMenuMsg ) : \n",
    "                modBot.updateUserStat(usr,0,0,0)\n",
    "                reply =\"%s님 기능 메뉴를 다시 보여드릴게요 ^^\" % (usr)\n",
    "                listMenu = listBaseMenu                \n",
    "            else : \n",
    "                # function별 \n",
    "                if dicUsrStat['statel1'] == 1 : # 성경검색 \n",
    "                    ret_parse = parseSearch (msg) \n",
    "                    ret = modBot.searchBible( ret_parse )\n",
    "                    if( ret['ret'] == 'ok') :\n",
    "                        reply =\"%s님 선택하신 구절은 다음과 같아요\\n%s\" % (usr,ret['msg'])                        \n",
    "                    else :\n",
    "                        reply =\"%s님 선택하신 구절은 유효하지 않습니다.\" % (usr)\n",
    "                    listMenu = []                \n",
    "                elif dicUsrStat['statel1'] == 2:\n",
    "                    ret = modBot.searchBibleKey( msg )\n",
    "                    if( ret['ret'] == 'ok') :\n",
    "                        reply =\"%s님 선택하신 키워드 검색 결과는 다음과 같아요\\n%s\" % (usr,ret['msg'])                        \n",
    "                    else :\n",
    "                        reply =\"%s님 선택하신 키워드 검색 결과가 없습니다.\" % (usr)\n",
    "                    listMenu = []                \n",
    "                else :                    \n",
    "                    modBot.updateUserStat(usr,0,0,0)\n",
    "                    reply =\"%s님 기능 메뉴를 다시 보여드릴게요 ^^\" % (usr)\n",
    "                    listMenu = listBaseMenu                                        \n",
    "    return reply,listMenu\n"
   ]
  },
  {
   "cell_type": "code",
   "execution_count": null,
   "metadata": {
    "scrolled": true
   },
   "outputs": [
    {
     "name": "stderr",
     "output_type": "stream",
     "text": [
      " * Running on http://0.0.0.0:5000/ (Press CTRL+C to quit)\n",
      "110.76.143.234 - - [15/Oct/2018 14:51:03] \"GET /keyboard HTTP/1.1\" 200 -\n"
     ]
    },
    {
     "name": "stdout",
     "output_type": "stream",
     "text": [
      "<Request 'http://mthx.cafe24.com:5000/keyboard' [GET]>\n"
     ]
    },
    {
     "name": "stderr",
     "output_type": "stream",
     "text": [
      "[2018-10-15 14:51:06,049] ERROR in app: Exception on /message [POST]\n",
      "Traceback (most recent call last):\n",
      "  File \"/root/anaconda3/lib/python3.6/site-packages/flask/app.py\", line 2292, in wsgi_app\n",
      "    response = self.full_dispatch_request()\n",
      "  File \"/root/anaconda3/lib/python3.6/site-packages/flask/app.py\", line 1815, in full_dispatch_request\n",
      "    rv = self.handle_user_exception(e)\n",
      "  File \"/root/anaconda3/lib/python3.6/site-packages/flask_restful/__init__.py\", line 273, in error_router\n",
      "    return original_handler(e)\n",
      "  File \"/root/anaconda3/lib/python3.6/site-packages/flask/app.py\", line 1718, in handle_user_exception\n",
      "    reraise(exc_type, exc_value, tb)\n",
      "  File \"/root/anaconda3/lib/python3.6/site-packages/flask/_compat.py\", line 35, in reraise\n",
      "    raise value\n",
      "  File \"/root/anaconda3/lib/python3.6/site-packages/flask/app.py\", line 1813, in full_dispatch_request\n",
      "    rv = self.dispatch_request()\n",
      "  File \"/root/anaconda3/lib/python3.6/site-packages/flask/app.py\", line 1799, in dispatch_request\n",
      "    return self.view_functions[rule.endpoint](**req.view_args)\n",
      "  File \"<ipython-input-1-67684dcf2bfc>\", line 21, in decorated_function\n",
      "    res = f(*args, **kwargs)\n",
      "  File \"<ipython-input-2-c020d9807af6>\", line 80, in message\n",
      "    reply,menu = replayFunction( usr, msg )\n",
      "  File \"<ipython-input-4-df12833a5dac>\", line 37, in replayFunction\n",
      "    ret = modBot.searchBible( ret_parse )\n",
      "  File \"/root/Python/couragesuper-ds/FLASK/modelChatbot.py\", line 94, in searchBible\n",
      "    ret = self.dbBible.selectQuery( qry )\n",
      "IndexError: list index out of range\n",
      "110.76.143.235 - - [15/Oct/2018 14:51:06] \"POST /message HTTP/1.1\" 500 -\n"
     ]
    },
    {
     "name": "stdout",
     "output_type": "stream",
     "text": [
      "dicUsrStat= {'userkey': 'U9A9agpChomm', 'statel1': 1, 'statel2': 0, 'statel3': 0}\n",
      "('가나다', '') <class 'tuple'>\n",
      "('가나다',) <class 'tuple'>\n",
      "{'ret': 'ok', 'book': '가나다'}\n",
      "dict_keys(['ret', 'book'])\n"
     ]
    },
    {
     "name": "stderr",
     "output_type": "stream",
     "text": [
      "[2018-10-15 14:51:17,769] ERROR in app: Exception on /message [POST]\n",
      "Traceback (most recent call last):\n",
      "  File \"/root/anaconda3/lib/python3.6/site-packages/flask/app.py\", line 2292, in wsgi_app\n",
      "    response = self.full_dispatch_request()\n",
      "  File \"/root/anaconda3/lib/python3.6/site-packages/flask/app.py\", line 1815, in full_dispatch_request\n",
      "    rv = self.handle_user_exception(e)\n",
      "  File \"/root/anaconda3/lib/python3.6/site-packages/flask_restful/__init__.py\", line 273, in error_router\n",
      "    return original_handler(e)\n",
      "  File \"/root/anaconda3/lib/python3.6/site-packages/flask/app.py\", line 1718, in handle_user_exception\n",
      "    reraise(exc_type, exc_value, tb)\n",
      "  File \"/root/anaconda3/lib/python3.6/site-packages/flask/_compat.py\", line 35, in reraise\n",
      "    raise value\n",
      "  File \"/root/anaconda3/lib/python3.6/site-packages/flask/app.py\", line 1813, in full_dispatch_request\n",
      "    rv = self.dispatch_request()\n",
      "  File \"/root/anaconda3/lib/python3.6/site-packages/flask/app.py\", line 1799, in dispatch_request\n",
      "    return self.view_functions[rule.endpoint](**req.view_args)\n",
      "  File \"<ipython-input-1-67684dcf2bfc>\", line 21, in decorated_function\n",
      "    res = f(*args, **kwargs)\n",
      "  File \"<ipython-input-2-c020d9807af6>\", line 80, in message\n",
      "    reply,menu = replayFunction( usr, msg )\n",
      "  File \"<ipython-input-4-df12833a5dac>\", line 37, in replayFunction\n",
      "    ret = modBot.searchBible( ret_parse )\n",
      "  File \"/root/Python/couragesuper-ds/FLASK/modelChatbot.py\", line 94, in searchBible\n",
      "    ret = self.dbBible.selectQuery( qry )\n",
      "IndexError: list index out of range\n",
      "110.76.143.234 - - [15/Oct/2018 14:51:17] \"POST /message HTTP/1.1\" 500 -\n"
     ]
    },
    {
     "name": "stdout",
     "output_type": "stream",
     "text": [
      "dicUsrStat= {'userkey': 'U9A9agpChomm', 'statel1': 1, 'statel2': 0, 'statel3': 0}\n",
      "('가나다', '') <class 'tuple'>\n",
      "('가나다',) <class 'tuple'>\n",
      "{'ret': 'ok', 'book': '가나다'}\n",
      "dict_keys(['ret', 'book'])\n"
     ]
    },
    {
     "name": "stderr",
     "output_type": "stream",
     "text": [
      "110.76.143.235 - - [15/Oct/2018 14:52:34] \"POST /message HTTP/1.1\" 200 -\n"
     ]
    },
    {
     "name": "stdout",
     "output_type": "stream",
     "text": [
      "dicUsrStat= {'userkey': 'U9A9agpChomm', 'statel1': 1, 'statel2': 0, 'statel3': 0}\n",
      "('요', '1') <class 'tuple'>\n",
      "('요',) <class 'tuple'>\n",
      "{'ret': 'ok', 'book': '요', 'chap': 1}\n",
      "dict_keys(['ret', 'book', 'chap'])\n",
      "SELECT * from TB_BIBLE_BOOK_DATA WHERE BOOK_SEQNO = 43 and BIBLE_SEQNO in (3,4) and BOOK_CHAP_NO = 1 \n",
      "U9A9agpChomm님 선택하신 구절은 다음과 같아요\n",
      "(요1:1) 태초에 말씀이 계시니라 이 말씀이 하나님과 함께 계셨으니 이 말씀은 곧 하나님이시니라 \n",
      "(요1:2) 그가 태초에 하나님과 함께 계셨고 \n",
      "(요1:3) 만물이 그로 말미암아 지은 바 되었으니 지은 것이 하나도 그가 없이는 된 것이 없느니라 \n",
      "(요1:4) 그 안에 생명이 있었으니 이 생명은 사람들의 빛이라 \n",
      "(요1:5) 빛이 어둠에 비치되 어둠이 깨닫지 못하더라 \n",
      "(요1:6) 하나님께로부터 보내심을 받은 사람이 있으니 그의 이름은 요한이라 \n",
      "(요1:7) 그가 증언하러 왔으니 곧 빛에 대하여 증언하고 모든 사람이 자기로 말미암아 믿게 하려 함이라 \n",
      "(요1:8) 그는 이 빛이 아니요 이 빛에 대하여 증언하러 온 자라 \n",
      "(요1:9) 참 빛 곧 세상에 와서 각 사람에게 비추는 빛이 있었나니 \n",
      "(요1:10) 그가 세상에 계셨으며 세상은 그로 말미암아 지은 바 되었으되 세상이 그를 알지 못하였고 \n",
      "(요1:11) 자기 땅에 오매 자기 백성이 영접하지 아니하였으나 \n",
      "(요1:12) 영접하는 자 곧 그 이름을 믿는 자들에게는 하나님의 자녀가 되는 권세를 주셨으니 \n",
      "(요1:13) 이는 혈통으로나 육정으로나 사람의 뜻으로 나지 아니하고 오직 하나님께로부터 난 자들이니라 \n",
      "(요1:14) 말씀이 육신이 되어 우리 가운데 거하시매 우리가 그의 영광을 보니 아버지의 독생자의 영광이요 은혜와 진리가 충만하더라 \n",
      "(요1:15) 요한이 그에 대하여 증언하여 외쳐 이르되 내가 전에 말하기를 내 뒤에 오시는 이가 나보다 앞선 것은 나보다 먼저 계심이라 한 것이 이 사람을 가리킴이라 하니라 \n",
      "(요1:16) 우리가 다 그의 충만한 데서 받으니 은혜 위에 은혜러라 \n",
      "(요1:17) 율법은 모세로 말미암아 주어진 것이요 은혜와 진리는 예수 그리스도로 말미암아 온 것이라 \n",
      "(요1:18) 본래 하나님을 본 사람이 없으되 아버지 품 속에 있는 독생하신 하나님이 나타내셨느니라 \n",
      "(요1:19) 유대인들이 예루살렘에서 제사장들과 레위인들을 요한에게 보내어 네가 누구냐 물을 때에 요한의 증언이 이러하니라 \n",
      "(요1:20) 요한이 드러내어 말하고 숨기지 아니하니 드러내어 하는 말이 나는 그리스도가 아니라 한대 \n",
      "(요1:21) 또 묻되 그러면 누구냐 네가 엘리야냐 이르되 나는 아니라 또 묻되 네가 그 선지자냐 대답하되 아니라 \n",
      "(요1:22) 또 말하되 누구냐 우리를 보낸 이들에게 대답하게 하라 너는 네게 대하여 무엇이라 하느냐 \n",
      "(요1:23) 이르되 나는 선지자 이사야의 말과 같이 주의 길을 곧게 하라고 광야에서 외치는 자의 소리로라 하니라 \n",
      "(요1:24) 그들은 바리새인들이 보낸 자라 \n",
      "(요1:25) 또 물어 이르되 네가 만일 그리스도도 아니요 엘리야도 아니요 그 선지자도 아닐진대 어찌하여 세례를 베푸느냐 \n",
      "(요1:26) 요한이 대답하되 나는 물로 세례를 베풀거니와 너희 가운데 너희가 알지 못하는 한 사람이 섰으니 \n",
      "(요1:27) 곧 내 뒤에 오시는 그이라 나는 그의 신발끈을 풀기도 감당하지 못하겠노라 하더라 \n",
      "(요1:28) 이 일은 요한이 세례 베풀던 곳 요단 강 건너편 베다니에서 일어난 일이니라 \n",
      "(요1:29) 이튿날 요한이 예수께서 자기에게 나아오심을 보고 이르되 보라 세상 죄를 지고 가는 하나님의 어린 양이로다 \n",
      "(요1:30) 내가 전에 말하기를 내 뒤에 오는 사람이 있는데 나보다 앞선 것은 그가 나보다 먼저 계심이라 한 것이 이 사람을 가리킴이라 \n",
      "(요1:31) 나도 그를 알지 못하였으나 내가 와서 물로 세례를 베푸는 것은 그를 이스라엘에 나타내려 함이라 하니라 \n",
      "(요1:32) 요한이 또 증언하여 이르되 내가 보매 성령이 비둘기 같이 하늘로부터 내려와서 그의 위에 머물렀더라 \n",
      "(요1:33) 나도 그를 알지 못하였으나 나를 보내어 물로 세례를 베풀라 하신 그이가 나에게 말씀하시되 성령이 내려서 누구 위에든지 머무는 것을 보거든 그가 곧 성령으로 세례를 베푸는 이인 줄 알라 하셨기에 \n",
      "(요1:34) 내가 보고 그가 하나님의 아들이심을 증언하였노라 하니라\n",
      "(요1:35) 또 이튿날 요한이 자기 제자 중 두 사람과 함께 섰다가 \n",
      "(요1:36) 예수께서 거니심을 보고 말하되 보라 하나님의 어린 양이로다 \n",
      "(요1:37) 두 제자가 그의 말을 듣고 예수를 따르거늘 \n",
      "(요1:38) 예수께서 돌이켜 그 따르는 것을 보시고 물어 이르시되 무엇을 구하느냐 이르되 랍비여 어디 계시오니이까 하니 (랍비는 번역하면 선생이라) \n",
      "(요1:39) 예수께서 이르시되 와서 보라 그러므로 그들이 가서 계신 데를 보고 그 날 함께 거하니 때가 열 시쯤 되었더라 \n",
      "(요1:40) 요한의 말을 듣고 예수를 따르는 두 사람 중의 하나는 시몬 베드로의 형제 안드레라 \n",
      "(요1:41) 그가 먼저 자기의 형제 시몬을 찾아 말하되 우리가 메시야를 만났다 하고 (메시야는 번역하면 그리스도라) \n",
      "(요1:42) 데리고 예수께로 오니 예수께서 보시고 이르시되 네가 요한의 아들 시몬이니 장차 게바라 하리라 하시니라 (게바는 번역하면 베드로라)\n",
      "(요1:43) 이튿날 예수께서 갈릴리로 나가려 하시다가 빌립을 만나 이르시되 나를 따르라 하시니 \n",
      "(요1:44) 빌립은 안드레와 베드로와 한 동네 벳새다 사람이라 \n",
      "(요1:45) 빌립이 나다나엘을 찾아 이르되 모세가 율법에 기록하였고 여러 선지자가 기록한 그이를 우리가 만났으니 요셉의 아들 나사렛 예수니라 \n",
      "(요1:46) 나다나엘이 이르되 나사렛에서 무슨 선한 것이 날 수 있느냐 빌립이 이르되 와서 보라 하니라 \n",
      "(요1:47) 예수께서 나다나엘이 자기에게 오는 것을 보시고 그를 가리켜 이르시되 보라 이는 참으로 이스라엘 사람이라 그 속에 간사한 것이 없도다 \n",
      "(요1:48) 나다나엘이 이르되 어떻게 나를 아시나이까 예수께서 대답하여 이르시되 빌립이 너를 부르기 전에 네가 무화과나무 아래에 있을 때에 보았노라 \n",
      "(요1:49) 나다나엘이 대답하되 랍비여 당신은 하나님의 아들이시요 당신은 이스라엘의 임금이로소이다 \n",
      "(요1:50) 예수께서 대답하여 이르시되 내가 너를 무화과나무 아래에서 보았다 하므로 믿느냐 이보다 더 큰 일을 보리라 \n",
      "(요1:51) 또 이르시되 진실로 진실로 너희에게 이르노니 하늘이 열리고 하나님의 사자들이 인자 위에 오르락 내리락 하는 것을 보리라 하시니라\n",
      " []\n"
     ]
    },
    {
     "name": "stderr",
     "output_type": "stream",
     "text": [
      "110.76.143.236 - - [15/Oct/2018 14:52:40] \"POST /message HTTP/1.1\" 200 -\n"
     ]
    },
    {
     "name": "stdout",
     "output_type": "stream",
     "text": [
      "dicUsrStat= {'userkey': 'U9A9agpChomm', 'statel1': 1, 'statel2': 0, 'statel3': 0}\n",
      "update tUserChatState set statel1 = 0, statel2 = 0, statel3 = 0 where userkey = 'U9A9agpChomm'\n",
      "U9A9agpChomm님 기능 메뉴를 다시 보여드릴게요 ^^ ['성경검색', '성경구절검색', '성경요절', '성경QT', '파파고번역K->E', '파파고번역E->K']\n"
     ]
    },
    {
     "name": "stderr",
     "output_type": "stream",
     "text": [
      "110.76.143.235 - - [15/Oct/2018 14:52:47] \"POST /message HTTP/1.1\" 200 -\n"
     ]
    },
    {
     "name": "stdout",
     "output_type": "stream",
     "text": [
      "dicUsrStat= {'userkey': 'U9A9agpChomm', 'statel1': 0, 'statel2': 0, 'statel3': 0}\n",
      "update tUserChatState set statel1 = 5, statel2 = 0, statel3 = 0 where userkey = 'U9A9agpChomm'\n",
      "U9A9agpChomm님 파파고번역K->E를 선택하셨군요 []\n"
     ]
    },
    {
     "name": "stderr",
     "output_type": "stream",
     "text": [
      "110.76.143.235 - - [15/Oct/2018 14:52:52] \"POST /message HTTP/1.1\" 200 -\n"
     ]
    },
    {
     "name": "stdout",
     "output_type": "stream",
     "text": [
      "dicUsrStat= {'userkey': 'U9A9agpChomm', 'statel1': 5, 'statel2': 0, 'statel3': 0}\n",
      "update tUserChatState set statel1 = 0, statel2 = 0, statel3 = 0 where userkey = 'U9A9agpChomm'\n",
      "U9A9agpChomm님 기능 메뉴를 다시 보여드릴게요 ^^ ['성경검색', '성경구절검색', '성경요절', '성경QT', '파파고번역K->E', '파파고번역E->K']\n"
     ]
    },
    {
     "name": "stderr",
     "output_type": "stream",
     "text": [
      "110.76.143.235 - - [15/Oct/2018 14:53:01] \"POST /message HTTP/1.1\" 200 -\n"
     ]
    },
    {
     "name": "stdout",
     "output_type": "stream",
     "text": [
      "dicUsrStat= {'userkey': 'U9A9agpChomm', 'statel1': 0, 'statel2': 0, 'statel3': 0}\n",
      "update tUserChatState set statel1 = 1, statel2 = 0, statel3 = 0 where userkey = 'U9A9agpChomm'\n",
      "U9A9agpChomm님 성경검색를 선택하셨군요 []\n"
     ]
    },
    {
     "name": "stderr",
     "output_type": "stream",
     "text": [
      "[2018-10-15 14:53:03,423] ERROR in app: Exception on /message [POST]\n",
      "Traceback (most recent call last):\n",
      "  File \"/root/anaconda3/lib/python3.6/site-packages/flask/app.py\", line 2292, in wsgi_app\n",
      "    response = self.full_dispatch_request()\n",
      "  File \"/root/anaconda3/lib/python3.6/site-packages/flask/app.py\", line 1815, in full_dispatch_request\n",
      "    rv = self.handle_user_exception(e)\n",
      "  File \"/root/anaconda3/lib/python3.6/site-packages/flask_restful/__init__.py\", line 273, in error_router\n",
      "    return original_handler(e)\n",
      "  File \"/root/anaconda3/lib/python3.6/site-packages/flask/app.py\", line 1718, in handle_user_exception\n",
      "    reraise(exc_type, exc_value, tb)\n",
      "  File \"/root/anaconda3/lib/python3.6/site-packages/flask/_compat.py\", line 35, in reraise\n",
      "    raise value\n",
      "  File \"/root/anaconda3/lib/python3.6/site-packages/flask/app.py\", line 1813, in full_dispatch_request\n",
      "    rv = self.dispatch_request()\n",
      "  File \"/root/anaconda3/lib/python3.6/site-packages/flask/app.py\", line 1799, in dispatch_request\n",
      "    return self.view_functions[rule.endpoint](**req.view_args)\n",
      "  File \"<ipython-input-1-67684dcf2bfc>\", line 21, in decorated_function\n",
      "    res = f(*args, **kwargs)\n",
      "  File \"<ipython-input-2-c020d9807af6>\", line 80, in message\n",
      "    reply,menu = replayFunction( usr, msg )\n",
      "  File \"<ipython-input-4-df12833a5dac>\", line 37, in replayFunction\n",
      "    ret = modBot.searchBible( ret_parse )\n",
      "  File \"/root/Python/couragesuper-ds/FLASK/modelChatbot.py\", line 94, in searchBible\n",
      "    ret = self.dbBible.selectQuery( qry )\n",
      "IndexError: list index out of range\n",
      "110.76.143.235 - - [15/Oct/2018 14:53:03] \"POST /message HTTP/1.1\" 500 -\n"
     ]
    },
    {
     "name": "stdout",
     "output_type": "stream",
     "text": [
      "dicUsrStat= {'userkey': 'U9A9agpChomm', 'statel1': 1, 'statel2': 0, 'statel3': 0}\n",
      "('가나다', '') <class 'tuple'>\n",
      "('가나다',) <class 'tuple'>\n",
      "{'ret': 'ok', 'book': '가나다'}\n",
      "dict_keys(['ret', 'book'])\n"
     ]
    },
    {
     "name": "stderr",
     "output_type": "stream",
     "text": [
      "110.76.143.235 - - [15/Oct/2018 14:53:06] \"POST /message HTTP/1.1\" 200 -\n"
     ]
    },
    {
     "name": "stdout",
     "output_type": "stream",
     "text": [
      "dicUsrStat= {'userkey': 'U9A9agpChomm', 'statel1': 1, 'statel2': 0, 'statel3': 0}\n",
      "update tUserChatState set statel1 = 0, statel2 = 0, statel3 = 0 where userkey = 'U9A9agpChomm'\n",
      "U9A9agpChomm님 기능 메뉴를 다시 보여드릴게요 ^^ ['성경검색', '성경구절검색', '성경요절', '성경QT', '파파고번역K->E', '파파고번역E->K']\n"
     ]
    },
    {
     "name": "stderr",
     "output_type": "stream",
     "text": [
      "110.76.143.236 - - [15/Oct/2018 14:53:17] \"POST /message HTTP/1.1\" 200 -\n"
     ]
    },
    {
     "name": "stdout",
     "output_type": "stream",
     "text": [
      "dicUsrStat= {'userkey': 'U9A9agpChomm', 'statel1': 0, 'statel2': 0, 'statel3': 0}\n",
      "update tUserChatState set statel1 = 3, statel2 = 0, statel3 = 0 where userkey = 'U9A9agpChomm'\n",
      "U9A9agpChomm님 성경요절를 선택하셨군요 []\n"
     ]
    },
    {
     "name": "stderr",
     "output_type": "stream",
     "text": [
      "110.76.143.236 - - [15/Oct/2018 14:53:22] \"POST /message HTTP/1.1\" 200 -\n"
     ]
    },
    {
     "name": "stdout",
     "output_type": "stream",
     "text": [
      "dicUsrStat= {'userkey': 'U9A9agpChomm', 'statel1': 3, 'statel2': 0, 'statel3': 0}\n",
      "update tUserChatState set statel1 = 0, statel2 = 0, statel3 = 0 where userkey = 'U9A9agpChomm'\n",
      "U9A9agpChomm님 기능 메뉴를 다시 보여드릴게요 ^^ ['성경검색', '성경구절검색', '성경요절', '성경QT', '파파고번역K->E', '파파고번역E->K']\n"
     ]
    },
    {
     "name": "stderr",
     "output_type": "stream",
     "text": [
      "110.76.143.235 - - [15/Oct/2018 14:53:27] \"POST /message HTTP/1.1\" 200 -\n"
     ]
    },
    {
     "name": "stdout",
     "output_type": "stream",
     "text": [
      "dicUsrStat= {'userkey': 'U9A9agpChomm', 'statel1': 0, 'statel2': 0, 'statel3': 0}\n",
      "update tUserChatState set statel1 = 3, statel2 = 0, statel3 = 0 where userkey = 'U9A9agpChomm'\n",
      "U9A9agpChomm님 성경요절를 선택하셨군요 []\n"
     ]
    },
    {
     "name": "stderr",
     "output_type": "stream",
     "text": [
      "110.76.143.235 - - [15/Oct/2018 14:53:28] \"POST /message HTTP/1.1\" 200 -\n"
     ]
    },
    {
     "name": "stdout",
     "output_type": "stream",
     "text": [
      "dicUsrStat= {'userkey': 'U9A9agpChomm', 'statel1': 3, 'statel2': 0, 'statel3': 0}\n",
      "update tUserChatState set statel1 = 0, statel2 = 0, statel3 = 0 where userkey = 'U9A9agpChomm'\n",
      "U9A9agpChomm님 기능 메뉴를 다시 보여드릴게요 ^^ ['성경검색', '성경구절검색', '성경요절', '성경QT', '파파고번역K->E', '파파고번역E->K']\n"
     ]
    },
    {
     "name": "stderr",
     "output_type": "stream",
     "text": [
      "110.76.143.236 - - [15/Oct/2018 14:53:34] \"POST /message HTTP/1.1\" 200 -\n"
     ]
    },
    {
     "name": "stdout",
     "output_type": "stream",
     "text": [
      "dicUsrStat= {'userkey': 'U9A9agpChomm', 'statel1': 0, 'statel2': 0, 'statel3': 0}\n",
      "update tUserChatState set statel1 = 1, statel2 = 0, statel3 = 0 where userkey = 'U9A9agpChomm'\n",
      "U9A9agpChomm님 성경검색를 선택하셨군요 []\n"
     ]
    },
    {
     "name": "stderr",
     "output_type": "stream",
     "text": [
      "110.76.143.236 - - [15/Oct/2018 14:53:35] \"POST /message HTTP/1.1\" 200 -\n"
     ]
    },
    {
     "name": "stdout",
     "output_type": "stream",
     "text": [
      "dicUsrStat= {'userkey': 'U9A9agpChomm', 'statel1': 1, 'statel2': 0, 'statel3': 0}\n",
      "('요', '1') <class 'tuple'>\n",
      "('요',) <class 'tuple'>\n",
      "{'ret': 'ok', 'book': '요', 'chap': 1}\n",
      "dict_keys(['ret', 'book', 'chap'])\n",
      "SELECT * from TB_BIBLE_BOOK_DATA WHERE BOOK_SEQNO = 43 and BIBLE_SEQNO in (3,4) and BOOK_CHAP_NO = 1 \n",
      "U9A9agpChomm님 선택하신 구절은 다음과 같아요\n",
      "(요1:1) 태초에 말씀이 계시니라 이 말씀이 하나님과 함께 계셨으니 이 말씀은 곧 하나님이시니라 \n",
      "(요1:2) 그가 태초에 하나님과 함께 계셨고 \n",
      "(요1:3) 만물이 그로 말미암아 지은 바 되었으니 지은 것이 하나도 그가 없이는 된 것이 없느니라 \n",
      "(요1:4) 그 안에 생명이 있었으니 이 생명은 사람들의 빛이라 \n",
      "(요1:5) 빛이 어둠에 비치되 어둠이 깨닫지 못하더라 \n",
      "(요1:6) 하나님께로부터 보내심을 받은 사람이 있으니 그의 이름은 요한이라 \n",
      "(요1:7) 그가 증언하러 왔으니 곧 빛에 대하여 증언하고 모든 사람이 자기로 말미암아 믿게 하려 함이라 \n",
      "(요1:8) 그는 이 빛이 아니요 이 빛에 대하여 증언하러 온 자라 \n",
      "(요1:9) 참 빛 곧 세상에 와서 각 사람에게 비추는 빛이 있었나니 \n",
      "(요1:10) 그가 세상에 계셨으며 세상은 그로 말미암아 지은 바 되었으되 세상이 그를 알지 못하였고 \n",
      "(요1:11) 자기 땅에 오매 자기 백성이 영접하지 아니하였으나 \n",
      "(요1:12) 영접하는 자 곧 그 이름을 믿는 자들에게는 하나님의 자녀가 되는 권세를 주셨으니 \n",
      "(요1:13) 이는 혈통으로나 육정으로나 사람의 뜻으로 나지 아니하고 오직 하나님께로부터 난 자들이니라 \n",
      "(요1:14) 말씀이 육신이 되어 우리 가운데 거하시매 우리가 그의 영광을 보니 아버지의 독생자의 영광이요 은혜와 진리가 충만하더라 \n",
      "(요1:15) 요한이 그에 대하여 증언하여 외쳐 이르되 내가 전에 말하기를 내 뒤에 오시는 이가 나보다 앞선 것은 나보다 먼저 계심이라 한 것이 이 사람을 가리킴이라 하니라 \n",
      "(요1:16) 우리가 다 그의 충만한 데서 받으니 은혜 위에 은혜러라 \n",
      "(요1:17) 율법은 모세로 말미암아 주어진 것이요 은혜와 진리는 예수 그리스도로 말미암아 온 것이라 \n",
      "(요1:18) 본래 하나님을 본 사람이 없으되 아버지 품 속에 있는 독생하신 하나님이 나타내셨느니라 \n",
      "(요1:19) 유대인들이 예루살렘에서 제사장들과 레위인들을 요한에게 보내어 네가 누구냐 물을 때에 요한의 증언이 이러하니라 \n",
      "(요1:20) 요한이 드러내어 말하고 숨기지 아니하니 드러내어 하는 말이 나는 그리스도가 아니라 한대 \n",
      "(요1:21) 또 묻되 그러면 누구냐 네가 엘리야냐 이르되 나는 아니라 또 묻되 네가 그 선지자냐 대답하되 아니라 \n",
      "(요1:22) 또 말하되 누구냐 우리를 보낸 이들에게 대답하게 하라 너는 네게 대하여 무엇이라 하느냐 \n",
      "(요1:23) 이르되 나는 선지자 이사야의 말과 같이 주의 길을 곧게 하라고 광야에서 외치는 자의 소리로라 하니라 \n",
      "(요1:24) 그들은 바리새인들이 보낸 자라 \n",
      "(요1:25) 또 물어 이르되 네가 만일 그리스도도 아니요 엘리야도 아니요 그 선지자도 아닐진대 어찌하여 세례를 베푸느냐 \n",
      "(요1:26) 요한이 대답하되 나는 물로 세례를 베풀거니와 너희 가운데 너희가 알지 못하는 한 사람이 섰으니 \n",
      "(요1:27) 곧 내 뒤에 오시는 그이라 나는 그의 신발끈을 풀기도 감당하지 못하겠노라 하더라 \n",
      "(요1:28) 이 일은 요한이 세례 베풀던 곳 요단 강 건너편 베다니에서 일어난 일이니라 \n",
      "(요1:29) 이튿날 요한이 예수께서 자기에게 나아오심을 보고 이르되 보라 세상 죄를 지고 가는 하나님의 어린 양이로다 \n",
      "(요1:30) 내가 전에 말하기를 내 뒤에 오는 사람이 있는데 나보다 앞선 것은 그가 나보다 먼저 계심이라 한 것이 이 사람을 가리킴이라 \n",
      "(요1:31) 나도 그를 알지 못하였으나 내가 와서 물로 세례를 베푸는 것은 그를 이스라엘에 나타내려 함이라 하니라 \n",
      "(요1:32) 요한이 또 증언하여 이르되 내가 보매 성령이 비둘기 같이 하늘로부터 내려와서 그의 위에 머물렀더라 \n",
      "(요1:33) 나도 그를 알지 못하였으나 나를 보내어 물로 세례를 베풀라 하신 그이가 나에게 말씀하시되 성령이 내려서 누구 위에든지 머무는 것을 보거든 그가 곧 성령으로 세례를 베푸는 이인 줄 알라 하셨기에 \n",
      "(요1:34) 내가 보고 그가 하나님의 아들이심을 증언하였노라 하니라\n",
      "(요1:35) 또 이튿날 요한이 자기 제자 중 두 사람과 함께 섰다가 \n",
      "(요1:36) 예수께서 거니심을 보고 말하되 보라 하나님의 어린 양이로다 \n",
      "(요1:37) 두 제자가 그의 말을 듣고 예수를 따르거늘 \n",
      "(요1:38) 예수께서 돌이켜 그 따르는 것을 보시고 물어 이르시되 무엇을 구하느냐 이르되 랍비여 어디 계시오니이까 하니 (랍비는 번역하면 선생이라) \n",
      "(요1:39) 예수께서 이르시되 와서 보라 그러므로 그들이 가서 계신 데를 보고 그 날 함께 거하니 때가 열 시쯤 되었더라 \n",
      "(요1:40) 요한의 말을 듣고 예수를 따르는 두 사람 중의 하나는 시몬 베드로의 형제 안드레라 \n",
      "(요1:41) 그가 먼저 자기의 형제 시몬을 찾아 말하되 우리가 메시야를 만났다 하고 (메시야는 번역하면 그리스도라) \n",
      "(요1:42) 데리고 예수께로 오니 예수께서 보시고 이르시되 네가 요한의 아들 시몬이니 장차 게바라 하리라 하시니라 (게바는 번역하면 베드로라)\n",
      "(요1:43) 이튿날 예수께서 갈릴리로 나가려 하시다가 빌립을 만나 이르시되 나를 따르라 하시니 \n",
      "(요1:44) 빌립은 안드레와 베드로와 한 동네 벳새다 사람이라 \n",
      "(요1:45) 빌립이 나다나엘을 찾아 이르되 모세가 율법에 기록하였고 여러 선지자가 기록한 그이를 우리가 만났으니 요셉의 아들 나사렛 예수니라 \n",
      "(요1:46) 나다나엘이 이르되 나사렛에서 무슨 선한 것이 날 수 있느냐 빌립이 이르되 와서 보라 하니라 \n",
      "(요1:47) 예수께서 나다나엘이 자기에게 오는 것을 보시고 그를 가리켜 이르시되 보라 이는 참으로 이스라엘 사람이라 그 속에 간사한 것이 없도다 \n",
      "(요1:48) 나다나엘이 이르되 어떻게 나를 아시나이까 예수께서 대답하여 이르시되 빌립이 너를 부르기 전에 네가 무화과나무 아래에 있을 때에 보았노라 \n",
      "(요1:49) 나다나엘이 대답하되 랍비여 당신은 하나님의 아들이시요 당신은 이스라엘의 임금이로소이다 \n",
      "(요1:50) 예수께서 대답하여 이르시되 내가 너를 무화과나무 아래에서 보았다 하므로 믿느냐 이보다 더 큰 일을 보리라 \n",
      "(요1:51) 또 이르시되 진실로 진실로 너희에게 이르노니 하늘이 열리고 하나님의 사자들이 인자 위에 오르락 내리락 하는 것을 보리라 하시니라\n",
      " []\n"
     ]
    },
    {
     "name": "stderr",
     "output_type": "stream",
     "text": [
      "110.76.143.235 - - [15/Oct/2018 14:54:31] \"POST /message HTTP/1.1\" 200 -\n"
     ]
    },
    {
     "name": "stdout",
     "output_type": "stream",
     "text": [
      "dicUsrStat= {'userkey': 'U9A9agpChomm', 'statel1': 1, 'statel2': 0, 'statel3': 0}\n",
      "('요', '1', '1', '-', '2') <class 'tuple'>\n",
      "('요', '1', '1', '-') <class 'tuple'>\n",
      "('요', '1', '1') <class 'tuple'>\n",
      "('요', '1') <class 'tuple'>\n",
      "('요', '1') <class 'tuple'>\n",
      "('요',) <class 'tuple'>\n",
      "{'ret': 'ok', 'book': '요', 'chap': 1, 'no_start': 1, 'isDash': '-', 'no_end': 2}\n",
      "dict_keys(['ret', 'book', 'chap', 'no_start', 'isDash', 'no_end'])\n",
      "SELECT * from TB_BIBLE_BOOK_DATA WHERE BOOK_SEQNO = 43 and BIBLE_SEQNO in (3,4) and BOOK_CHAP_NO = 1  and BOOK_NO >= 1 and BOOK_NO <= 2 \n",
      "U9A9agpChomm님 선택하신 구절은 다음과 같아요\n",
      "(요1:1) 태초에 말씀이 계시니라 이 말씀이 하나님과 함께 계셨으니 이 말씀은 곧 하나님이시니라 \n",
      "(요1:2) 그가 태초에 하나님과 함께 계셨고 \n",
      " []\n"
     ]
    },
    {
     "name": "stderr",
     "output_type": "stream",
     "text": [
      "110.76.143.234 - - [15/Oct/2018 14:57:26] \"GET /keyboard HTTP/1.1\" 200 -\n"
     ]
    },
    {
     "name": "stdout",
     "output_type": "stream",
     "text": [
      "<Request 'http://mthx.cafe24.com:5000/keyboard' [GET]>\n"
     ]
    }
   ],
   "source": [
    "if __name__ == '__main__':        \n",
    "    if False :\n",
    "        app.run(debug=True , host='0.0.0.0')\n",
    "    else : #jupyer\n",
    "        from werkzeug.serving import run_simple\n",
    "        run_simple('0.0.0.0', 5000, app)"
   ]
  },
  {
   "cell_type": "code",
   "execution_count": null,
   "metadata": {},
   "outputs": [],
   "source": []
  }
 ],
 "metadata": {
  "kernelspec": {
   "display_name": "Python 3",
   "language": "python",
   "name": "python3"
  },
  "language_info": {
   "codemirror_mode": {
    "name": "ipython",
    "version": 3
   },
   "file_extension": ".py",
   "mimetype": "text/x-python",
   "name": "python",
   "nbconvert_exporter": "python",
   "pygments_lexer": "ipython3",
   "version": "3.6.5"
  }
 },
 "nbformat": 4,
 "nbformat_minor": 2
}
