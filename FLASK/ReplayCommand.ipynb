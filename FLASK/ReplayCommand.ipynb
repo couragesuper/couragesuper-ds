{
 "cells": [
  {
   "cell_type": "code",
   "execution_count": 123,
   "metadata": {},
   "outputs": [],
   "source": [
    "from modelChatbot import modelChatbot\n",
    "import re\n",
    "import json\n",
    "\n",
    "dictMenus = {\"base\":['성경검색','성경구절검색','성경요절','성경QT','파파고번역K->E','파파고번역E->K'] \n",
    "             ,\"srchIWord\":[\"이전\",\"다음\",\"직접 입력\",\"분류보기\"]}\n",
    "\n",
    "class CallTest():\n",
    "    def __call__(self) :\n",
    "        print(\"I have called\")\n",
    "\n",
    "class ReplyCmdSuper():\n",
    "    def __call__ (self , usr, modbot,  jsondata , datatype , content) :                \n",
    "        #format of command \n",
    "        dicRet = {\"ret\":\"None\" , \"msg\":\"default\" , \"menu\" :[] }        \n",
    "        \n",
    "        #process the user\n",
    "        if modbot.isExistUsrJSON(usr) == False : \n",
    "            modbot.addUserJSON( usr )\n",
    "            dicRet['ret']  = \"addnewuser\"\n",
    "            dicRet['msg']  = \"새로운 유저이신구요\\n %s님 환영합니다\\n사용하실 수 있는 기능은 다음과 같아요\" % (usr)\n",
    "            dicRet['menu'] = dicMenus['base']\n",
    "            usrdata = {}\n",
    "        else :\n",
    "            dicRet['ret']  = \"userexist\"\n",
    "            usrdata = modbot.getUserJSON(usr) \n",
    "            \n",
    "        return dicRet, usrdata ;\n",
    "        "
   ]
  },
  {
   "cell_type": "code",
   "execution_count": 124,
   "metadata": {},
   "outputs": [],
   "source": [
    "class ReplyCmdBible ( ReplyCmdSuper ) :    \n",
    "    def __call__( self, usr, modbot, jsondata, datatype, content):\n",
    "        dicRet, usrData = ReplyCmdSuper.__call__( self, usr, modbot, jsondata, datatype, content )\n",
    "        print(dicRet)\n",
    "        print(usrData)\n",
    "        if( dicRet['ret'] == \"addnewuser\" ) :            \n",
    "            return dicRet, usrData \n",
    "        elif( dicRet['ret'] == 'userexist' ) :            \n",
    "            dicRet['ret']  = 'ok'            \n",
    "            dicRet['msg']  = '검색한 결과는 다음과 같습니다.'\n",
    "            dicRet['menu'] = []            \n",
    "            dicParse = self.parseSearch( content )\n",
    "            dicSearch = modbot.searchBible( dicParse )            \n",
    "            modbot.updateUserStateJSON(usr,json.dumps(dicRet,ensure_ascii=False))\n",
    "            return dicSearch,usrData\n",
    "    def parseSearch( self, msg ) :\n",
    "        pats = [\"([가-힣]*)([0-9]*):([0-9]*)(-)([0-9]*)\" ,\n",
    "                \"([가-힣]*)([0-9]*):([0-9]*)(-)\" ,\n",
    "                \"([가-힣]*)([0-9]*):([0-9]*)\" ,\n",
    "                \"([가-힣]*)([0-9]*):\" ,\n",
    "                \"([가-힣]*)([0-9]*)\",\n",
    "                \"([가-힣]*)\"]\n",
    "        listDesc = [\"book\",\"chap\",\"no_start\",\"isDash\",\"no_end\"]    \n",
    "        dicRet = {}\n",
    "        for pat in pats : \n",
    "            parser = re.compile( pat )\n",
    "            m = parser.match(msg)\n",
    "            if( m != None ) : \n",
    "                print( m.groups() , type(m.groups()))\n",
    "                ret_tuple = m.groups()\n",
    "                if( len(ret_tuple) ) : \n",
    "                    dicRet['ret']='ok'\n",
    "                    for i in range(0,len(ret_tuple)) :\n",
    "                        if( ret_tuple[i] != \"\" ) :                         \n",
    "                            if( listDesc[i] in ['chap','no_start','no_end'] ) : dicRet[listDesc[i]] = int(ret_tuple[i])\n",
    "                            else : dicRet[listDesc[i]] = ret_tuple[i]                    \n",
    "        print( dicRet )            \n",
    "        return dicRet\n",
    "        \n"
   ]
  },
  {
   "cell_type": "code",
   "execution_count": 125,
   "metadata": {},
   "outputs": [
    {
     "name": "stdout",
     "output_type": "stream",
     "text": [
      "True\n",
      "True\n"
     ]
    }
   ],
   "source": [
    "mdChatbot = modelChatbot()\n",
    "print( mdChatbot.isExistUsr('U9A9agpChomm') )\n",
    "print( mdChatbot.isExistUsrJSON('U9A9agpChomm') )"
   ]
  },
  {
   "cell_type": "code",
   "execution_count": 126,
   "metadata": {},
   "outputs": [
    {
     "name": "stdout",
     "output_type": "stream",
     "text": [
      "{'ret': 'userexist', 'msg': 'default', 'menu': []}\n"
     ]
    }
   ],
   "source": [
    "replyCmdSuper = ReplyCmdSuper()\n",
    "dictRet, usrData = replyCmdSuper('abcd', mdChatbot, {}, \"text\", \"요1\"  )\n",
    "print( dictRet )"
   ]
  },
  {
   "cell_type": "code",
   "execution_count": 133,
   "metadata": {},
   "outputs": [
    {
     "name": "stdout",
     "output_type": "stream",
     "text": [
      "{'ret': 'userexist', 'msg': 'default', 'menu': []}\n",
      "{'userkey': 'abcd2', 'jsondata': '{\"ret\": \"ok\", \"msg\": \"검색한 결과는 다음과 같습니다.\", \"menu\": []}'}\n",
      "('요', '1', '3') <class 'tuple'>\n",
      "('요', '1') <class 'tuple'>\n",
      "('요', '1') <class 'tuple'>\n",
      "('요',) <class 'tuple'>\n",
      "{'ret': 'ok', 'book': '요', 'chap': 1, 'no_start': 3}\n",
      "dict_keys(['ret', 'book', 'chap', 'no_start'])\n",
      "SELECT * from TB_BIBLE_BOOK_DATA WHERE BOOK_SEQNO = 43 and BIBLE_SEQNO in (3,4) and BOOK_CHAP_NO = 1  and BOOK_NO = 3 \n",
      "UPDATE tUserChatStatJson SET jsondata = '{\"ret\": \"ok\", \"msg\": \"검색한 결과는 다음과 같습니다.\", \"menu\": []}' WHERE userkey = 'abcd2'\n",
      "{'ret': 'ok', 'msg': '(요1:3) 만물이 그로 말미암아 지은 바 되었으니 지은 것이 하나도 그가 없이는 된 것이 없느니라 \\n'}\n",
      "{'userkey': 'abcd2', 'jsondata': '{\"ret\": \"ok\", \"msg\": \"검색한 결과는 다음과 같습니다.\", \"menu\": []}'}\n"
     ]
    }
   ],
   "source": [
    "replyBible = ReplyCmdBible()\n",
    "dictRet ,usrData = replyBible('abcd2', mdChatbot, {\"data\":\"Data1\",\"data2\":\"data2\"}, \"text\", \"요1:3\" ) \n",
    "print(dictRet)\n",
    "print(usrData)\n"
   ]
  },
  {
   "cell_type": "code",
   "execution_count": 32,
   "metadata": {},
   "outputs": [
    {
     "name": "stdout",
     "output_type": "stream",
     "text": [
      "{\"mode\": \"기본메뉴선택\"}\n"
     ]
    }
   ],
   "source": []
  }
 ],
 "metadata": {
  "kernelspec": {
   "display_name": "Python 3",
   "language": "python",
   "name": "python3"
  },
  "language_info": {
   "codemirror_mode": {
    "name": "ipython",
    "version": 3
   },
   "file_extension": ".py",
   "mimetype": "text/x-python",
   "name": "python",
   "nbconvert_exporter": "python",
   "pygments_lexer": "ipython3",
   "version": "3.6.5"
  }
 },
 "nbformat": 4,
 "nbformat_minor": 2
}
