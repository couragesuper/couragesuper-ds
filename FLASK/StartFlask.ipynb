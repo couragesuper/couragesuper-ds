{
 "cells": [
  {
   "cell_type": "code",
   "execution_count": 11,
   "metadata": {},
   "outputs": [],
   "source": [
    "#시작\n",
    "#https://medium.com/@feedbots/python-flask-%EB%A1%9C-%EA%B0%84%EB%8B%A8%ED%95%9C-rest-api-%EC%9E%91%EC%84%B1%ED%95%98%EA%B8%B0-60a29a9ebd8c\n",
    "\n",
    "#외부접속\n",
    "#https://hudi.kr/flask-%EC%99%B8%EB%B6%80%EC%97%90%EC%84%9C-%EC%A0%91%EC%86%8D-%EA%B0%80%EB%8A%A5%ED%95%98%EA%B2%8C-%ED%95%98%EA%B8%B0/\n",
    "\n",
    "#다음 예제가 갑이다.\\\n",
    "#https://www.slideshare.net/arload/flask-restful-api\n",
    "\n",
    "#한글 출력이 안되. \n",
    "#http://toughrogrammer.tistory.com/222\n",
    "\n",
    "#카카오톡 에코봇 \n",
    "\n",
    "from flask import Flask\n",
    "from flask import Response\n",
    "from flask import request\n",
    "from flask_restful import Resource\n",
    "from flask_restful import Api\n",
    "from flaskext.mysql import MySQL\n",
    "from functools import wraps\n",
    "import json\n",
    "\n",
    "# 한글이 깨지는 문제를 해결하려면....\n",
    "def as_json(f):\n",
    "    @wraps(f)\n",
    "    def decorated_function(*args, **kwargs):\n",
    "        res = f(*args, **kwargs)\n",
    "        res = json.dumps(res, ensure_ascii=False).encode('utf8')\n",
    "        return Response(res, content_type='application/json; charset=utf-8')\n",
    "    return decorated_function\n",
    "\n",
    "\n",
    "app = Flask(__name__)\n",
    "api = Api(app)\n",
    "\n",
    "# flask mysql 이 필수는 아닌듯 한디.\n",
    "mysql = MySQL()\n",
    "app.config['MYSQL_DATABASE_USER'] = 'root'\n",
    "app.config['MYSQL_DATABASE_PASSWORD'] = 'karisma*3%7*4'\n",
    "app.config['MYSQL_DATABASE_DB'] = 'bible'\n",
    "app.config['MYSQL_DATABASE_HOST'] = 'mthx.cafe24.com'\n",
    "mysql.init_app(app)\n",
    "\n",
    "\n",
    "#index route (index가 안된다. )\n",
    "#http://mthx.cafe24.com:5000\n",
    "#http://mthx.cafe24.com:5000/\n",
    "@app.route(\"/\")\n",
    "@as_json # 있으나 없으나 똑같다.\n",
    "def index():\n",
    "    return { 'data': u'김용기 couragesuper' }\n",
    "\n",
    "@app.route(\"/index\")\n",
    "@as_json \n",
    "def index_root():\n",
    "    return { 'data': u'index' }\n",
    "\n",
    "#http://mthx.cafe24.com:5000/krtest\n",
    "@app.route('/krtest')\n",
    "def helloWorld():\n",
    "    return \"한글이다\"\n",
    "\n",
    "#http://mthx.cafe24.com:5000/api\n",
    "@app.route(\"/api\", methods=[\"GET\",\"POST\"])    \n",
    "#@as_json\n",
    "def loadData():                \n",
    "    cursor = mysql.connect().cursor()\n",
    "    cursor.execute(\"select * from TB_BIBLE\")\n",
    "    result = []\n",
    "    columns = tuple( [d[0] for d in cursor.description])\n",
    "    for row in cursor:\n",
    "        result.append(dict(zip(columns,row)))\n",
    "    print(result)        \n",
    "    res = json.dumps(result, ensure_ascii=False).encode('utf8')\n",
    "    return Response(res, content_type='application/json; charset=utf-8')\n",
    "\n",
    "@app.route(\"/dbtest\", methods=[\"GET\",\"POST\"])    \n",
    "@as_json\n",
    "def dbtest():                \n",
    "    print( request )\n",
    "    cursor = mysql.connect().cursor()\n",
    "    cursor.execute(\"select * from TB_BIBLE\")\n",
    "    result = []\n",
    "    columns = tuple( [d[0] for d in cursor.description])\n",
    "    for row in cursor:\n",
    "        result.append(dict(zip(columns,row)))\n",
    "    return result\n",
    "\n",
    "@app.route(\"/Arg/<arg1>\")    \n",
    "def arg(arg1):\n",
    "    print(arg1)\n",
    "    return \"arg={}\".format(arg1)\n",
    "\n",
    "@app.route(\"/keyboard\", methods=[\"GET\",\"POST\"])    \n",
    "def keyboard() :\n",
    "    print(request)\n",
    "    return \"{\\\"type\\\":\\\"text\\\"}\"\n",
    "\n",
    "@app.route(\"/message\", methods=[\"GET\",\"POST\"])    \n",
    "def message() :   \n",
    "    type = 1\n",
    "    if type == 1 :\n",
    "        #request data 가 우리가 필요한 데이터이다.\n",
    "        print(request.form)\n",
    "        print(request.args)\n",
    "        print(request.files)\n",
    "        print(request.values)\n",
    "        print(request.data)\n",
    "        return \"{\\\"message\\\":{\\\"text\\\":\\\"가나다\\\"}}\"\n",
    "    elif type == 2 :\n",
    "        print(request.data)\n",
    "        dicJson = json.loads(request.data)\n",
    "        print(dicJson['user_key'])\n",
    "        print(dicJson['type'])        \n",
    "        print(dicJson['content'])\n",
    "        dicMessage = {\"message\":{\"text\":dicJson['content']}}\n",
    "        return json.dumps(dicMessage)\n",
    "        #return \"{\\\"message\\\":{\\\"text\\\":\\\"{}\\\"}}\".format(request.data['content'])\n",
    "\n"
   ]
  },
  {
   "cell_type": "code",
   "execution_count": null,
   "metadata": {
    "scrolled": true
   },
   "outputs": [
    {
     "name": "stderr",
     "output_type": "stream",
     "text": [
      " * Running on http://0.0.0.0:5000/ (Press CTRL+C to quit)\n",
      "110.76.143.235 - - [15/Oct/2018 13:52:47] \"POST /message HTTP/1.1\" 200 -\n"
     ]
    },
    {
     "name": "stdout",
     "output_type": "stream",
     "text": [
      "ImmutableMultiDict([])\n",
      "ImmutableMultiDict([])\n",
      "ImmutableMultiDict([])\n",
      "CombinedMultiDict([ImmutableMultiDict([]), ImmutableMultiDict([])])\n",
      "b'{\"user_key\":\"U9A9agpChomm\",\"type\":\"text\",\"content\":\"\\xea\\xb0\\x80\\xeb\\x82\\x98\\xeb\\x8b\\xa4\"}'\n"
     ]
    },
    {
     "name": "stderr",
     "output_type": "stream",
     "text": [
      "112.216.85.250 - - [15/Oct/2018 13:52:55] \"GET /index HTTP/1.1\" 200 -\n"
     ]
    }
   ],
   "source": [
    "if __name__ == '__main__':\n",
    "    if False :\n",
    "        app.run(debug=True , host='0.0.0.0')\n",
    "    else : #jupyer\n",
    "        from werkzeug.serving import run_simple\n",
    "        run_simple('0.0.0.0', 5000, app)"
   ]
  },
  {
   "cell_type": "code",
   "execution_count": null,
   "metadata": {},
   "outputs": [],
   "source": []
  },
  {
   "cell_type": "code",
   "execution_count": null,
   "metadata": {},
   "outputs": [],
   "source": []
  },
  {
   "cell_type": "code",
   "execution_count": null,
   "metadata": {},
   "outputs": [],
   "source": []
  }
 ],
 "metadata": {
  "kernelspec": {
   "display_name": "Python 3",
   "language": "python",
   "name": "python3"
  },
  "language_info": {
   "codemirror_mode": {
    "name": "ipython",
    "version": 3
   },
   "file_extension": ".py",
   "mimetype": "text/x-python",
   "name": "python",
   "nbconvert_exporter": "python",
   "pygments_lexer": "ipython3",
   "version": "3.6.5"
  }
 },
 "nbformat": 4,
 "nbformat_minor": 2
}
