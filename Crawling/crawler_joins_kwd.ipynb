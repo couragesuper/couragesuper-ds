{
 "cells": [
  {
   "cell_type": "code",
   "execution_count": 5,
   "metadata": {},
   "outputs": [
    {
     "ename": "SyntaxError",
     "evalue": "invalid syntax (mod_crawler_base.py, line 41)",
     "traceback": [
      "Traceback \u001b[0;36m(most recent call last)\u001b[0m:\n",
      "  File \u001b[1;32m\"/root/anaconda3/lib/python3.6/site-packages/IPython/core/interactiveshell.py\"\u001b[0m, line \u001b[1;32m2963\u001b[0m, in \u001b[1;35mrun_code\u001b[0m\n    exec(code_obj, self.user_global_ns, self.user_ns)\n",
      "\u001b[0;36m  File \u001b[0;32m\"<ipython-input-5-2ef4f43437d6>\"\u001b[0;36m, line \u001b[0;32m6\u001b[0;36m, in \u001b[0;35m<module>\u001b[0;36m\u001b[0m\n\u001b[0;31m    from Crawler.mod_crawler_base import crawler_base as crawler_main\u001b[0m\n",
      "\u001b[0;36m  File \u001b[0;32m\"../Common/Crawler/mod_crawler_base.py\"\u001b[0;36m, line \u001b[0;32m41\u001b[0m\n\u001b[0;31m    print( \"[crawler_base] path of chrome driver is {} \".format( self.path_chrome_driver  );\u001b[0m\n\u001b[0m                                                                                           ^\u001b[0m\n\u001b[0;31mSyntaxError\u001b[0m\u001b[0;31m:\u001b[0m invalid syntax\n"
     ],
     "output_type": "error"
    }
   ],
   "source": [
    "import sys\n",
    "import time\n",
    "\n",
    "sys.path.append(\"../Common\")\n",
    "\n",
    "from Crawler.mod_crawler_base import crawler_base as crawler_main\n",
    "from time import sleep\n",
    "from selenium import webdriver\n",
    "\n",
    "szKeyword    = \"키워드로 보는 사설\"\n",
    "szKeyword_En = \"Keywordsasul\""
   ]
  },
  {
   "cell_type": "code",
   "execution_count": 11,
   "metadata": {},
   "outputs": [],
   "source": [
    "#book cosmos용 entity checker이다.\n",
    "class crawler_joins_kwd (crawler_main):\n",
    "    def __init__( self , isLinux, isHidden, keyword_en, keyword ) :\n",
    "        self.keyword = keyword\n",
    "        super().__init__(isHidden, keyword_en)\n",
    "    def run(self):\n",
    "        baseUrl = \"https://news.joins.com/find/list?IsDuplicate=True&key=EditorialColumn&Keyword=%s&SourceGroupType=Joongang\" % (self.keyword)\n",
    "        super().run( baseUrl )\n",
    "    def naviSites(self):\n",
    "        baseUrl = \"https://news.joins.com/find/list?page=%d&IsDuplicate=True&key=EditorialColumn&Keyword=%s&SourceGroupType=Joongang\" % (1, self.keyword)\n",
    "        self.openPage(baseUrl)\n",
    "        self.navigate(baseUrl)\n",
    "        sleep(1)\n",
    "    def getMaxPages(self):\n",
    "        baseUrl = \"https://news.joins.com/find/list?page=1&IsDuplicate=True&key=EditorialColumn&Keyword=%s&SourceGroupType=Joongang\" % (self.keyword)\n",
    "        css_name = \"btn_next\"\n",
    "        self.openPage(baseUrl)\n",
    "        while (True):\n",
    "            elem = self.webDrv.find_element_by_class_name(css_name)\n",
    "            pos = elem.text.find(\"없음\")\n",
    "            if (pos == -1):\n",
    "                print(\"다음페이지 있음\")\n",
    "                elem.click()\n",
    "            else:\n",
    "                print(\"다음페이지 없음\")\n",
    "                elems = self.webDrv.find_elements_by_class_name('link_page')\n",
    "                listPages = []\n",
    "                for eobj in elems:\n",
    "                    listPages.append(int(eobj.text))\n",
    "                listPages = sorted(listPages, reverse=True)\n",
    "                return listPages[0]\n",
    "            sleep(0.5)\n",
    "    def navigate(self , link):\n",
    "        max_page = self.getMaxPages( )\n",
    "        for i in range(1, max_page + 1):\n",
    "            self.navigatePage( i, False )\n",
    "            sleep(2)\n",
    "    def navigatePage( self,page, isShowContent ):\n",
    "        now = time.localtime()\n",
    "        print(page)\n",
    "        baseUrl = \"https://news.joins.com/find/list?page=%d&IsDuplicate=True&key=EditorialColumn&Keyword=%s&SourceGroupType=Joongang\" % (page, self.keyword )\n",
    "        self.openPage( baseUrl )\n",
    "        listLink = []\n",
    "        listElem = self.webDrv.find_elements_by_class_name('headline')\n",
    "        if (self.isTxt == False ) :\n",
    "            print(\"text file isnt configured.\")\n",
    "            return\n",
    "        for i, elem in enumerate(listElem):\n",
    "            listLink.append(elem.find_element_by_tag_name('a').get_attribute('href'))\n",
    "        for i, elem in enumerate(listLink):\n",
    "            url = listLink[i]\n",
    "            if( self.logger.getHistory(url) == False ) :\n",
    "                try:\n",
    "                    start_time = time.time()\n",
    "                    self.openPage(url)\n",
    "                    self.crawContents(True)\n",
    "                    self.logger.updateHistory(url, \"ok\")\n",
    "                except:\n",
    "                    self.logger.updateHistory(url, \"fail\")\n",
    "            sleep(1)\n",
    "        self.logger.close()\n",
    "    def crawContents(self,isShowContent):\n",
    "        #article_title\n",
    "        elem = self.webDrv.find_element_by_id('article_title')\n",
    "        txt_head = elem.text\n",
    "        self.txt.write(txt_head)\n",
    "        #byline\n",
    "        elem = self.webDrv.find_element_by_class_name('byline')\n",
    "        txt_date_input = elem.text.split()[2]\n",
    "        self.txt.write(txt_date_input)\n",
    "        #profile\n",
    "        elem = self.webDrv.find_element_by_class_name('profile')\n",
    "        txt_profile = elem.text\n",
    "        self.txt.write(txt_profile)\n",
    "        # tags , |로 구분\n",
    "        elem = self.webDrv.find_element_by_class_name('tag_list')\n",
    "        listTags = elem.text.split(\"#\")[1:]\n",
    "        szTags = \"\"\n",
    "        for tags in listTags:\n",
    "            szTags += tags.replace(\"\\n\", \"\")\n",
    "            szTags += \"|\"\n",
    "        if (isShowContent): print(szTags)\n",
    "        self.txt.write(szTags)\n",
    "        #article_body\n",
    "        elem = self.webDrv.find_element_by_class_name('article_body')\n",
    "        txt_org = elem.text\n",
    "        txt_proc = txt_org.replace(\"\\n\", \"  \")\n",
    "        if (isShowContent): print(txt_proc)\n",
    "        self.txt.writeLast(txt_proc)\n"
   ]
  },
  {
   "cell_type": "code",
   "execution_count": 12,
   "metadata": {},
   "outputs": [
    {
     "name": "stdout",
     "output_type": "stream",
     "text": [
      "[crawler_base] -  linux\n",
      "[Crawler_Logger] create new file\n",
      "[Crawler_Logger] history node: None\n"
     ]
    }
   ],
   "source": [
    "MOD = crawler_joins_kwd( False, False, \"joins_keywordNSasul\" , \"키워드로 보는 사설\" )"
   ]
  },
  {
   "cell_type": "code",
   "execution_count": 13,
   "metadata": {},
   "outputs": [
    {
     "name": "stdout",
     "output_type": "stream",
     "text": [
      "  openpage = https://news.joins.com/find/list?IsDuplicate=True&key=EditorialColumn&Keyword=키워드로 보는 사설&SourceGroupType=Joongang\n",
      "  openpage = https://news.joins.com/find/list?page=1&IsDuplicate=True&key=EditorialColumn&Keyword=키워드로 보는 사설&SourceGroupType=Joongang\n",
      "  openpage = https://news.joins.com/find/list?page=1&IsDuplicate=True&key=EditorialColumn&Keyword=키워드로 보는 사설&SourceGroupType=Joongang\n",
      "다음페이지 있음\n",
      "다음페이지 없음\n",
      "1\n",
      "  openpage = https://news.joins.com/find/list?page=1&IsDuplicate=True&key=EditorialColumn&Keyword=키워드로 보는 사설&SourceGroupType=Joongang\n",
      "  openpage = https://news.joins.com/article/22846477\n",
      "[Crawler_Logger] history node: {'url': 'https://news.joins.com/article/22846477'}\n",
      "  openpage = https://news.joins.com/article/22827287\n",
      "[Crawler_Logger] history node: {'url': 'https://news.joins.com/article/22827287'}\n",
      "  openpage = https://news.joins.com/article/22807018\n",
      "[Crawler_Logger] history node: {'url': 'https://news.joins.com/article/22807018'}\n",
      "  openpage = https://news.joins.com/article/22786674\n",
      "[Crawler_Logger] history node: {'url': 'https://news.joins.com/article/22786674'}\n",
      "  openpage = https://news.joins.com/article/22766860\n",
      "[Crawler_Logger] history node: {'url': 'https://news.joins.com/article/22766860'}\n",
      "  openpage = https://news.joins.com/article/22747007\n",
      "[Crawler_Logger] history node: {'url': 'https://news.joins.com/article/22747007'}\n"
     ]
    },
    {
     "ename": "KeyboardInterrupt",
     "evalue": "",
     "traceback": [
      "\u001b[0;31m---------------------------------------------------------------------------\u001b[0m",
      "\u001b[0;31mKeyboardInterrupt\u001b[0m                         Traceback (most recent call last)",
      "\u001b[0;32m<ipython-input-13-19bd652c95b6>\u001b[0m in \u001b[0;36m<module>\u001b[0;34m()\u001b[0m\n\u001b[0;32m----> 1\u001b[0;31m \u001b[0mMOD\u001b[0m\u001b[0;34m.\u001b[0m\u001b[0mrun\u001b[0m\u001b[0;34m(\u001b[0m\u001b[0;34m)\u001b[0m\u001b[0;34m\u001b[0m\u001b[0m\n\u001b[0m",
      "\u001b[0;32m<ipython-input-11-986d0e29af92>\u001b[0m in \u001b[0;36mrun\u001b[0;34m(self)\u001b[0m\n\u001b[1;32m      6\u001b[0m     \u001b[0;32mdef\u001b[0m \u001b[0mrun\u001b[0m\u001b[0;34m(\u001b[0m\u001b[0mself\u001b[0m\u001b[0;34m)\u001b[0m\u001b[0;34m:\u001b[0m\u001b[0;34m\u001b[0m\u001b[0m\n\u001b[1;32m      7\u001b[0m         \u001b[0mbaseUrl\u001b[0m \u001b[0;34m=\u001b[0m \u001b[0;34m\"https://news.joins.com/find/list?IsDuplicate=True&key=EditorialColumn&Keyword=%s&SourceGroupType=Joongang\"\u001b[0m \u001b[0;34m%\u001b[0m \u001b[0;34m(\u001b[0m\u001b[0mself\u001b[0m\u001b[0;34m.\u001b[0m\u001b[0mkeyword\u001b[0m\u001b[0;34m)\u001b[0m\u001b[0;34m\u001b[0m\u001b[0m\n\u001b[0;32m----> 8\u001b[0;31m         \u001b[0msuper\u001b[0m\u001b[0;34m(\u001b[0m\u001b[0;34m)\u001b[0m\u001b[0;34m.\u001b[0m\u001b[0mrun\u001b[0m\u001b[0;34m(\u001b[0m \u001b[0mbaseUrl\u001b[0m \u001b[0;34m)\u001b[0m\u001b[0;34m\u001b[0m\u001b[0m\n\u001b[0m\u001b[1;32m      9\u001b[0m     \u001b[0;32mdef\u001b[0m \u001b[0mnaviSites\u001b[0m\u001b[0;34m(\u001b[0m\u001b[0mself\u001b[0m\u001b[0;34m)\u001b[0m\u001b[0;34m:\u001b[0m\u001b[0;34m\u001b[0m\u001b[0m\n\u001b[1;32m     10\u001b[0m         \u001b[0mbaseUrl\u001b[0m \u001b[0;34m=\u001b[0m \u001b[0;34m\"https://news.joins.com/find/list?page=%d&IsDuplicate=True&key=EditorialColumn&Keyword=%s&SourceGroupType=Joongang\"\u001b[0m \u001b[0;34m%\u001b[0m \u001b[0;34m(\u001b[0m\u001b[0;36m1\u001b[0m\u001b[0;34m,\u001b[0m \u001b[0mself\u001b[0m\u001b[0;34m.\u001b[0m\u001b[0mkeyword\u001b[0m\u001b[0;34m)\u001b[0m\u001b[0;34m\u001b[0m\u001b[0m\n",
      "\u001b[0;32m~/Python/couragesuper-ds/Common/Crawler/mod_crawler_base.py\u001b[0m in \u001b[0;36mrun\u001b[0;34m(self, mainUrl)\u001b[0m\n\u001b[1;32m     71\u001b[0m         \u001b[0mprint\u001b[0m\u001b[0;34m(\u001b[0m \u001b[0;34m\"  [crawler_base] run()\"\u001b[0m \u001b[0;34m)\u001b[0m\u001b[0;34m\u001b[0m\u001b[0m\n\u001b[1;32m     72\u001b[0m         \u001b[0mself\u001b[0m\u001b[0;34m.\u001b[0m\u001b[0mopenPage\u001b[0m\u001b[0;34m(\u001b[0m\u001b[0mmainUrl\u001b[0m\u001b[0;34m)\u001b[0m\u001b[0;34m\u001b[0m\u001b[0m\n\u001b[0;32m---> 73\u001b[0;31m         \u001b[0mself\u001b[0m\u001b[0;34m.\u001b[0m\u001b[0mlogin\u001b[0m\u001b[0;34m(\u001b[0m\u001b[0;34m)\u001b[0m\u001b[0;34m\u001b[0m\u001b[0m\n\u001b[0m\u001b[1;32m     74\u001b[0m         \u001b[0mself\u001b[0m\u001b[0;34m.\u001b[0m\u001b[0mmakeCateLinks\u001b[0m\u001b[0;34m(\u001b[0m\u001b[0;34m)\u001b[0m\u001b[0;34m\u001b[0m\u001b[0m\n\u001b[1;32m     75\u001b[0m         \u001b[0mself\u001b[0m\u001b[0;34m.\u001b[0m\u001b[0mnaviSites\u001b[0m\u001b[0;34m(\u001b[0m\u001b[0;34m)\u001b[0m\u001b[0;34m\u001b[0m\u001b[0m\n",
      "\u001b[0;32m<ipython-input-11-986d0e29af92>\u001b[0m in \u001b[0;36mnaviSites\u001b[0;34m(self)\u001b[0m\n\u001b[1;32m     10\u001b[0m         \u001b[0mbaseUrl\u001b[0m \u001b[0;34m=\u001b[0m \u001b[0;34m\"https://news.joins.com/find/list?page=%d&IsDuplicate=True&key=EditorialColumn&Keyword=%s&SourceGroupType=Joongang\"\u001b[0m \u001b[0;34m%\u001b[0m \u001b[0;34m(\u001b[0m\u001b[0;36m1\u001b[0m\u001b[0;34m,\u001b[0m \u001b[0mself\u001b[0m\u001b[0;34m.\u001b[0m\u001b[0mkeyword\u001b[0m\u001b[0;34m)\u001b[0m\u001b[0;34m\u001b[0m\u001b[0m\n\u001b[1;32m     11\u001b[0m         \u001b[0mself\u001b[0m\u001b[0;34m.\u001b[0m\u001b[0mopenPage\u001b[0m\u001b[0;34m(\u001b[0m\u001b[0mbaseUrl\u001b[0m\u001b[0;34m)\u001b[0m\u001b[0;34m\u001b[0m\u001b[0m\n\u001b[0;32m---> 12\u001b[0;31m         \u001b[0mself\u001b[0m\u001b[0;34m.\u001b[0m\u001b[0mnavigate\u001b[0m\u001b[0;34m(\u001b[0m\u001b[0mbaseUrl\u001b[0m\u001b[0;34m)\u001b[0m\u001b[0;34m\u001b[0m\u001b[0m\n\u001b[0m\u001b[1;32m     13\u001b[0m         \u001b[0msleep\u001b[0m\u001b[0;34m(\u001b[0m\u001b[0;36m1\u001b[0m\u001b[0;34m)\u001b[0m\u001b[0;34m\u001b[0m\u001b[0m\n\u001b[1;32m     14\u001b[0m     \u001b[0;32mdef\u001b[0m \u001b[0mgetMaxPages\u001b[0m\u001b[0;34m(\u001b[0m\u001b[0mself\u001b[0m\u001b[0;34m)\u001b[0m\u001b[0;34m:\u001b[0m\u001b[0;34m\u001b[0m\u001b[0m\n",
      "\u001b[0;32m<ipython-input-11-986d0e29af92>\u001b[0m in \u001b[0;36mnavigate\u001b[0;34m(self, link)\u001b[0m\n\u001b[1;32m     34\u001b[0m         \u001b[0mmax_page\u001b[0m \u001b[0;34m=\u001b[0m \u001b[0mself\u001b[0m\u001b[0;34m.\u001b[0m\u001b[0mgetMaxPages\u001b[0m\u001b[0;34m(\u001b[0m \u001b[0;34m)\u001b[0m\u001b[0;34m\u001b[0m\u001b[0m\n\u001b[1;32m     35\u001b[0m         \u001b[0;32mfor\u001b[0m \u001b[0mi\u001b[0m \u001b[0;32min\u001b[0m \u001b[0mrange\u001b[0m\u001b[0;34m(\u001b[0m\u001b[0;36m1\u001b[0m\u001b[0;34m,\u001b[0m \u001b[0mmax_page\u001b[0m \u001b[0;34m+\u001b[0m \u001b[0;36m1\u001b[0m\u001b[0;34m)\u001b[0m\u001b[0;34m:\u001b[0m\u001b[0;34m\u001b[0m\u001b[0m\n\u001b[0;32m---> 36\u001b[0;31m             \u001b[0mself\u001b[0m\u001b[0;34m.\u001b[0m\u001b[0mnavigatePage\u001b[0m\u001b[0;34m(\u001b[0m \u001b[0mi\u001b[0m\u001b[0;34m,\u001b[0m \u001b[0;32mFalse\u001b[0m \u001b[0;34m)\u001b[0m\u001b[0;34m\u001b[0m\u001b[0m\n\u001b[0m\u001b[1;32m     37\u001b[0m             \u001b[0msleep\u001b[0m\u001b[0;34m(\u001b[0m\u001b[0;36m2\u001b[0m\u001b[0;34m)\u001b[0m\u001b[0;34m\u001b[0m\u001b[0m\n\u001b[1;32m     38\u001b[0m     \u001b[0;32mdef\u001b[0m \u001b[0mnavigatePage\u001b[0m\u001b[0;34m(\u001b[0m \u001b[0mself\u001b[0m\u001b[0;34m,\u001b[0m\u001b[0mpage\u001b[0m\u001b[0;34m,\u001b[0m \u001b[0misShowContent\u001b[0m \u001b[0;34m)\u001b[0m\u001b[0;34m:\u001b[0m\u001b[0;34m\u001b[0m\u001b[0m\n",
      "\u001b[0;32m<ipython-input-11-986d0e29af92>\u001b[0m in \u001b[0;36mnavigatePage\u001b[0;34m(self, page, isShowContent)\u001b[0m\n\u001b[1;32m     58\u001b[0m                 \u001b[0;32mexcept\u001b[0m\u001b[0;34m:\u001b[0m\u001b[0;34m\u001b[0m\u001b[0m\n\u001b[1;32m     59\u001b[0m                     \u001b[0mself\u001b[0m\u001b[0;34m.\u001b[0m\u001b[0mlogger\u001b[0m\u001b[0;34m.\u001b[0m\u001b[0mupdateHistory\u001b[0m\u001b[0;34m(\u001b[0m\u001b[0murl\u001b[0m\u001b[0;34m,\u001b[0m \u001b[0;34m\"fail\"\u001b[0m\u001b[0;34m)\u001b[0m\u001b[0;34m\u001b[0m\u001b[0m\n\u001b[0;32m---> 60\u001b[0;31m             \u001b[0msleep\u001b[0m\u001b[0;34m(\u001b[0m\u001b[0;36m1\u001b[0m\u001b[0;34m)\u001b[0m\u001b[0;34m\u001b[0m\u001b[0m\n\u001b[0m\u001b[1;32m     61\u001b[0m         \u001b[0mself\u001b[0m\u001b[0;34m.\u001b[0m\u001b[0mlogger\u001b[0m\u001b[0;34m.\u001b[0m\u001b[0mclose\u001b[0m\u001b[0;34m(\u001b[0m\u001b[0;34m)\u001b[0m\u001b[0;34m\u001b[0m\u001b[0m\n\u001b[1;32m     62\u001b[0m     \u001b[0;32mdef\u001b[0m \u001b[0mcrawContents\u001b[0m\u001b[0;34m(\u001b[0m\u001b[0mself\u001b[0m\u001b[0;34m,\u001b[0m\u001b[0misShowContent\u001b[0m\u001b[0;34m)\u001b[0m\u001b[0;34m:\u001b[0m\u001b[0;34m\u001b[0m\u001b[0m\n",
      "\u001b[0;31mKeyboardInterrupt\u001b[0m: "
     ],
     "output_type": "error"
    }
   ],
   "source": [
    "MOD.run()"
   ]
  },
  {
   "cell_type": "code",
   "execution_count": null,
   "metadata": {},
   "outputs": [],
   "source": [
    "MOD.close()"
   ]
  }
 ],
 "metadata": {
  "kernelspec": {
   "display_name": "Python 3",
   "language": "python",
   "name": "python3"
  },
  "language_info": {
   "codemirror_mode": {
    "name": "ipython",
    "version": 3
   },
   "file_extension": ".py",
   "mimetype": "text/x-python",
   "name": "python",
   "nbconvert_exporter": "python",
   "pygments_lexer": "ipython3",
   "version": "3.6.5"
  }
 },
 "nbformat": 4,
 "nbformat_minor": 2
}
