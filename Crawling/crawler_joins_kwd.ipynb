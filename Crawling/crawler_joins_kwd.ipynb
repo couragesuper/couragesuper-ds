{
 "cells": [
  {
   "cell_type": "code",
   "execution_count": 8,
   "metadata": {},
   "outputs": [],
   "source": [
    "import sys\n",
    "import time\n",
    "sys.path.append(\"../Common/Crawler\")\n",
    "sys.path.append(\"../Common/Util\")\n",
    "\n",
    "from mod_crawler_base import crawler_engine as crawler_main\n",
    "from time import sleep\n",
    "from selenium import webdriver\n",
    "\n",
    "szKeyword    = \"키워드로 보는 사설\"\n",
    "szKeyword_En = \"Keywordsasul\""
   ]
  },
  {
   "cell_type": "code",
   "execution_count": 18,
   "metadata": {},
   "outputs": [],
   "source": [
    "#book cosmos용 entity checker이다.\n",
    "class crawler_joins_kwd (crawler_main):\n",
    "    def __init__( self , isLinux, isHidden, keyword_en ) :\n",
    "        super().__init__(isHidden, \".\", keyword_en)\n",
    "        \n",
    "    def setKeyword( self, keyword ):\n",
    "        self.keyword = keyword\n",
    "        \n",
    "    def run(self):\n",
    "        self.fetch();\n",
    "        \n",
    "        self.navigate(baseUrl)\n",
    "        sleep(1)\n",
    "    \n",
    "    def getMaxPages_(self):\n",
    "        baseUrl = \"https://news.joins.com/find/list?page=1&IsDuplicate=True&key=EditorialColumn&Keyword=%s&SourceGroupType=Joongang\" % (self.keyword)\n",
    "        css_name = \"btn_next\"\n",
    "        self.openPage(baseUrl)\n",
    "        while (True):\n",
    "            elem = self.webDrv.find_element_by_class_name(css_name)\n",
    "            pos = elem.text.find(\"없음\")\n",
    "            if (pos == -1):\n",
    "                print(\"다음페이지 있음\")\n",
    "                elem.click()\n",
    "            else:\n",
    "                print(\"다음페이지 없음\")\n",
    "                elems = self.webDrv.find_elements_by_class_name('link_page')\n",
    "                listPages = []\n",
    "                for eobj in elems:\n",
    "                    listPages.append(int(eobj.text))\n",
    "                listPages = sorted(listPages, reverse=True)\n",
    "                return listPages[0]\n",
    "            sleep(0.5)\n",
    "    \n",
    "    def fetch(self):\n",
    "                \n",
    "        max_page = self.getMaxPages_()\n",
    "        for i in range(1, max_page + 1):            \n",
    "            now = time.localtime()            \n",
    "            url = \"https://news.joins.com/find/list?page=%d&IsDuplicate=True&key=EditorialColumn&Keyword=%s&SourceGroupType=Joongang\" % (i, self.keyword )\n",
    "            self.openPage( url )\n",
    "            listLink = []\n",
    "            listElem = self.webDrv.find_elements_by_class_name('headline')\n",
    "            if (self.isTxt == False ) :\n",
    "                print(\"text file isnt configured.\")\n",
    "                return\n",
    "            for i, elem in enumerate(listElem):\n",
    "                listLink.append(elem.find_element_by_tag_name('a').get_attribute('href'))\n",
    "            for i, elem in enumerate(listLink):\n",
    "                url = listLink[i]\n",
    "                if( self.logger.getHistory(url) == False ) :\n",
    "                    try:\n",
    "                        start_time = time.time()\n",
    "                        self.openPage(url)\n",
    "                        self.crawContents(True)\n",
    "                        self.logger.updateHistory(url, \"ok\")\n",
    "                    except:\n",
    "                        self.logger.updateHistory(url, \"fail\")\n",
    "                sleep(1)\n",
    "            self.logger.close()            \n",
    "            sleep(2)\n",
    "        \n",
    "    def scrape(self,isShowContent):\n",
    "        #article_title\n",
    "        elem = self.webDrv.find_element_by_id('article_title')\n",
    "        txt_head = elem.text\n",
    "        self.txt.write(txt_head)\n",
    "        #byline\n",
    "        elem = self.webDrv.find_element_by_class_name('byline')\n",
    "        txt_date_input = elem.text.split()[2]\n",
    "        self.txt.write(txt_date_input)\n",
    "        #profile\n",
    "        elem = self.webDrv.find_element_by_class_name('profile')\n",
    "        txt_profile = elem.text\n",
    "        self.txt.write(txt_profile)\n",
    "        # tags , |로 구분\n",
    "        elem = self.webDrv.find_element_by_class_name('tag_list')\n",
    "        listTags = elem.text.split(\"#\")[1:]\n",
    "        szTags = \"\"\n",
    "        for tags in listTags:\n",
    "            szTags += tags.replace(\"\\n\", \"\")\n",
    "            szTags += \"|\"\n",
    "        if (isShowContent): print(szTags)\n",
    "        self.txt.write(szTags)\n",
    "        #article_body\n",
    "        elem = self.webDrv.find_element_by_class_name('article_body')\n",
    "        txt_org = elem.text\n",
    "        txt_proc = txt_org.replace(\"\\n\", \"  \")\n",
    "        if (isShowContent): print(txt_proc)\n",
    "        self.txt.writeLast(txt_proc)\n"
   ]
  },
  {
   "cell_type": "code",
   "execution_count": 19,
   "metadata": {},
   "outputs": [
    {
     "name": "stdout",
     "output_type": "stream",
     "text": [
      "[crawler_base] platform is identified with linux \n",
      "[Crawler_Logger] create new file\n",
      "[Crawler_Logger] history node: None\n",
      "[crawler_base] path of chrome driver is /root/Python/couragesuper-ds/Common/Crawler/lib/chromedriver \n",
      "[crawler_base] chromdriver option is hidden\n"
     ]
    }
   ],
   "source": [
    "MOD = crawler_joins_kwd( False, False, \"joins_keywordNSasul\"  )\n",
    "MOD.setKeyword( \"키워드로 보는 사설\" )\n",
    "        \n"
   ]
  },
  {
   "cell_type": "code",
   "execution_count": 20,
   "metadata": {},
   "outputs": [
    {
     "name": "stdout",
     "output_type": "stream",
     "text": [
      "[crawler_base] openPage = https://news.joins.com/find/list?page=1&IsDuplicate=True&key=EditorialColumn&Keyword=키워드로 보는 사설&SourceGroupType=Joongang\n",
      "다음페이지 있음\n",
      "다음페이지 없음\n",
      "[crawler_base] openPage = https://news.joins.com/find/list?page=1&IsDuplicate=True&key=EditorialColumn&Keyword=키워드로 보는 사설&SourceGroupType=Joongang\n",
      "[craw_history_logger] url=https://news.joins.com/article/22846477\n",
      "[crawler_base] openPage = https://news.joins.com/article/22846477\n",
      "[Crawler_Logger] history node: {'url': 'https://news.joins.com/article/22846477'}\n",
      "[craw_history_logger] url=https://news.joins.com/article/22827287\n",
      "[crawler_base] openPage = https://news.joins.com/article/22827287\n",
      "[Crawler_Logger] history node: {'url': 'https://news.joins.com/article/22827287'}\n",
      "[craw_history_logger] url=https://news.joins.com/article/22807018\n",
      "[crawler_base] openPage = https://news.joins.com/article/22807018\n",
      "[crawler][base] with URL \n",
      "[Crawler_Logger] history node: {'url': 'https://news.joins.com/article/22807018'}\n",
      "[craw_history_logger] url=https://news.joins.com/article/22786674\n",
      "[crawler_base] openPage = https://news.joins.com/article/22786674\n",
      "[crawler][base] with URL \n",
      "[Crawler_Logger] history node: {'url': 'https://news.joins.com/article/22786674'}\n",
      "[craw_history_logger] url=https://news.joins.com/article/22766860\n",
      "[crawler_base] openPage = https://news.joins.com/article/22766860\n",
      "[crawler][base] with URL \n",
      "[Crawler_Logger] history node: {'url': 'https://news.joins.com/article/22766860'}\n",
      "[craw_history_logger] url=https://news.joins.com/article/22747007\n",
      "[crawler_base] openPage = https://news.joins.com/article/22747007\n",
      "[crawler][base] with URL \n",
      "[Crawler_Logger] history node: {'url': 'https://news.joins.com/article/22747007'}\n",
      "[craw_history_logger] url=https://news.joins.com/article/22727100\n",
      "[crawler_base] openPage = https://news.joins.com/article/22727100\n",
      "[crawler][base] with URL \n",
      "[Crawler_Logger] history node: {'url': 'https://news.joins.com/article/22727100'}\n",
      "[craw_history_logger] url=https://news.joins.com/article/22706453\n",
      "[crawler_base] openPage = https://news.joins.com/article/22706453\n",
      "[crawler][base] with URL \n",
      "[Crawler_Logger] history node: {'url': 'https://news.joins.com/article/22706453'}\n",
      "[craw_history_logger] url=https://news.joins.com/article/22686168\n",
      "[crawler_base] openPage = https://news.joins.com/article/22686168\n",
      "[crawler][base] with URL \n",
      "[Crawler_Logger] history node: {'url': 'https://news.joins.com/article/22686168'}\n",
      "[craw_history_logger] url=https://news.joins.com/article/22664242\n",
      "[crawler_base] openPage = https://news.joins.com/article/22664242\n",
      "[crawler][base] with URL \n",
      "[Crawler_Logger] history node: {'url': 'https://news.joins.com/article/22664242'}\n"
     ]
    },
    {
     "ename": "KeyboardInterrupt",
     "evalue": "",
     "traceback": [
      "\u001b[0;31m---------------------------------------------------------------------------\u001b[0m",
      "\u001b[0;31mKeyboardInterrupt\u001b[0m                         Traceback (most recent call last)",
      "\u001b[0;32m<ipython-input-20-19bd652c95b6>\u001b[0m in \u001b[0;36m<module>\u001b[0;34m()\u001b[0m\n\u001b[0;32m----> 1\u001b[0;31m \u001b[0mMOD\u001b[0m\u001b[0;34m.\u001b[0m\u001b[0mrun\u001b[0m\u001b[0;34m(\u001b[0m\u001b[0;34m)\u001b[0m\u001b[0;34m\u001b[0m\u001b[0m\n\u001b[0m",
      "\u001b[0;32m<ipython-input-18-7756fbd4146e>\u001b[0m in \u001b[0;36mrun\u001b[0;34m(self)\u001b[0m\n\u001b[1;32m      8\u001b[0m \u001b[0;34m\u001b[0m\u001b[0m\n\u001b[1;32m      9\u001b[0m     \u001b[0;32mdef\u001b[0m \u001b[0mrun\u001b[0m\u001b[0;34m(\u001b[0m\u001b[0mself\u001b[0m\u001b[0;34m)\u001b[0m\u001b[0;34m:\u001b[0m\u001b[0;34m\u001b[0m\u001b[0m\n\u001b[0;32m---> 10\u001b[0;31m         \u001b[0mself\u001b[0m\u001b[0;34m.\u001b[0m\u001b[0mfetch\u001b[0m\u001b[0;34m(\u001b[0m\u001b[0;34m)\u001b[0m\u001b[0;34m;\u001b[0m\u001b[0;34m\u001b[0m\u001b[0m\n\u001b[0m\u001b[1;32m     11\u001b[0m \u001b[0;34m\u001b[0m\u001b[0m\n\u001b[1;32m     12\u001b[0m         \u001b[0mself\u001b[0m\u001b[0;34m.\u001b[0m\u001b[0mnavigate\u001b[0m\u001b[0;34m(\u001b[0m\u001b[0mbaseUrl\u001b[0m\u001b[0;34m)\u001b[0m\u001b[0;34m\u001b[0m\u001b[0m\n",
      "\u001b[0;32m<ipython-input-18-7756fbd4146e>\u001b[0m in \u001b[0;36mfetch\u001b[0;34m(self)\u001b[0m\n\u001b[1;32m     57\u001b[0m                     \u001b[0;32mexcept\u001b[0m\u001b[0;34m:\u001b[0m\u001b[0;34m\u001b[0m\u001b[0m\n\u001b[1;32m     58\u001b[0m                         \u001b[0mself\u001b[0m\u001b[0;34m.\u001b[0m\u001b[0mlogger\u001b[0m\u001b[0;34m.\u001b[0m\u001b[0mupdateHistory\u001b[0m\u001b[0;34m(\u001b[0m\u001b[0murl\u001b[0m\u001b[0;34m,\u001b[0m \u001b[0;34m\"fail\"\u001b[0m\u001b[0;34m)\u001b[0m\u001b[0;34m\u001b[0m\u001b[0m\n\u001b[0;32m---> 59\u001b[0;31m                 \u001b[0msleep\u001b[0m\u001b[0;34m(\u001b[0m\u001b[0;36m1\u001b[0m\u001b[0;34m)\u001b[0m\u001b[0;34m\u001b[0m\u001b[0m\n\u001b[0m\u001b[1;32m     60\u001b[0m             \u001b[0mself\u001b[0m\u001b[0;34m.\u001b[0m\u001b[0mlogger\u001b[0m\u001b[0;34m.\u001b[0m\u001b[0mclose\u001b[0m\u001b[0;34m(\u001b[0m\u001b[0;34m)\u001b[0m\u001b[0;34m\u001b[0m\u001b[0m\n\u001b[1;32m     61\u001b[0m             \u001b[0msleep\u001b[0m\u001b[0;34m(\u001b[0m\u001b[0;36m2\u001b[0m\u001b[0;34m)\u001b[0m\u001b[0;34m\u001b[0m\u001b[0m\n",
      "\u001b[0;31mKeyboardInterrupt\u001b[0m: "
     ],
     "output_type": "error"
    }
   ],
   "source": [
    "MOD.run()"
   ]
  },
  {
   "cell_type": "code",
   "execution_count": 21,
   "metadata": {},
   "outputs": [],
   "source": [
    "MOD.close()"
   ]
  },
  {
   "cell_type": "code",
   "execution_count": null,
   "metadata": {},
   "outputs": [],
   "source": []
  }
 ],
 "metadata": {
  "kernelspec": {
   "display_name": "Python 3",
   "language": "python",
   "name": "python3"
  },
  "language_info": {
   "codemirror_mode": {
    "name": "ipython",
    "version": 3
   },
   "file_extension": ".py",
   "mimetype": "text/x-python",
   "name": "python",
   "nbconvert_exporter": "python",
   "pygments_lexer": "ipython3",
   "version": "3.6.5"
  }
 },
 "nbformat": 4,
 "nbformat_minor": 2
}
