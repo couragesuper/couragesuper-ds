{
 "cells": [
  {
   "cell_type": "code",
   "execution_count": 1,
   "metadata": {
    "collapsed": true
   },
   "outputs": [
    {
     "name": "stdout",
     "output_type": "stream",
     "text": [
      "[MSG][Load Crawler Base Component]\n"
     ]
    }
   ],
   "source": [
    "# import library \n",
    "import os\n",
    "import sys\n",
    "\n",
    "path_craw = \"/couragesuper-ds/Crawling/\"\n",
    "root_path = os.getcwd().replace(\"\\\\\",\"/\") + path_craw \n",
    "\n",
    "sys.path.append( root_path + \"../Common/Crawler\")\n",
    "sys.path.append( root_path + \"../Common/Util\")\n",
    "\n",
    "import mod_crawler_base as craw\n",
    "import time\n",
    "from time import sleep\n",
    "\n",
    "isLinux  = False\n",
    "isHidden = False\n",
    "\n",
    "wd = craw.InitWebDriver( isLinux, isHidden )"
   ]
  },
  {
   "cell_type": "code",
   "execution_count": 6,
   "metadata": {},
   "outputs": [
    {
     "name": "stdout",
     "output_type": "stream",
     "text": [
      "C:\\Users\\couragesuper\\PycharmProjects\\prj_pytorch\n"
     ]
    }
   ],
   "source": [
    ""
   ]
  }
 ],
 "metadata": {
  "kernelspec": {
   "display_name": "Python 2",
   "language": "python",
   "name": "python2"
  },
  "language_info": {
   "codemirror_mode": {
    "name": "ipython",
    "version": 2
   },
   "file_extension": ".py",
   "mimetype": "text/x-python",
   "name": "python",
   "nbconvert_exporter": "python",
   "pygments_lexer": "ipython2",
   "version": "2.7.6"
  }
 },
 "nbformat": 4,
 "nbformat_minor": 0
}
