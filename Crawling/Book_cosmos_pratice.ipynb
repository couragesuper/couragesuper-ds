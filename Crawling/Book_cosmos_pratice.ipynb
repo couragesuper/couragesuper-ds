{
 "cells": [
  {
   "cell_type": "code",
   "execution_count": 1,
   "metadata": {},
   "outputs": [
    {
     "name": "stdout",
     "output_type": "stream",
     "text": [
      "[Load] module for crawler\n"
     ]
    }
   ],
   "source": [
    "import time\n",
    "import sys\n",
    "sys.path.append('/root/Python/Common/Crawler')\n",
    "import mod_craw as craw\n",
    "from time import sleep\n",
    "\n",
    "sys.path.append('/root/Python/Common/Util')\n",
    "from Util import stopWatch \n",
    "swatch = stopWatch()"
   ]
  },
  {
   "cell_type": "code",
   "execution_count": 2,
   "metadata": {},
   "outputs": [],
   "source": [
    "delay_sleep = 0.5\n",
    "webDrv = craw.InitWebDriver(True, True)"
   ]
  },
  {
   "cell_type": "code",
   "execution_count": 3,
   "metadata": {},
   "outputs": [
    {
     "name": "stdout",
     "output_type": "stream",
     "text": [
      "difference : 0 sec \n"
     ]
    }
   ],
   "source": [
    "swatch.reset()\n",
    "craw.OpenWebPage(webDrv,\"http://www.bookcosmos.com\",1)\n",
    "swatch.diff()"
   ]
  },
  {
   "cell_type": "code",
   "execution_count": 4,
   "metadata": {},
   "outputs": [],
   "source": [
    "sleep(2)\n",
    "dict_xpath= { \"userid\":\"/html/body/div/div[2]/div/ul[1]/li[1]/form/div/div[1]/input[1]\",\n",
    "              \"userpw\":\"/html/body/div/div[2]/div/ul[1]/li[1]/form/div/div[1]/input[2]\",\n",
    "              \"btnlogin\":\"//*[@id=\\\"btnLogin\\\"]\",\n",
    "              \"link_main\":\"/html/body/div/div[2]/div/ul[1]/li[2]/a\",\n",
    "              \"list_main_1\":\"/html/body/table/tbody/tr/td/table/tbody/tr[1]/td[1]/table/tbody/tr/td/table[4]/tbody/tr/td[1]/table[3]/tbody/tr[1]/td/table[2]/tbody/tr[1]/td/table[1]\",\n",
    "              \"list_main_2\":\"/html/body/table/tbody/tr/td/table/tbody/tr[1]/td[1]/table/tbody/tr/td/table[4]/tbody/tr/td[1]/table[3]/tbody/tr[1]/td/table[2]/tbody/tr[1]/td/table[2]\"}\n",
    "dict_elem ={}"
   ]
  },
  {
   "cell_type": "markdown",
   "metadata": {},
   "source": [
    "<H2> login and go to main page </H2>"
   ]
  },
  {
   "cell_type": "code",
   "execution_count": 5,
   "metadata": {},
   "outputs": [
    {
     "name": "stdout",
     "output_type": "stream",
     "text": [
      "difference : 1 sec \n"
     ]
    }
   ],
   "source": [
    "swatch.reset()\n",
    "dict_elem['userid'] = webDrv.find_element_by_xpath(dict_xpath[\"userid\"])\n",
    "dict_elem['userid'].clear()\n",
    "dict_elem['userid'].send_keys(\"hamtorigun\")\n",
    "\n",
    "dict_elem['userpw']= webDrv.find_element_by_xpath(dict_xpath[\"userpw\"])\n",
    "dict_elem['userpw'].clear()\n",
    "dict_elem['userpw'].send_keys(\"saturn\")\n",
    "\n",
    "webDrv.find_element_by_xpath(dict_xpath[\"btnlogin\"]).click()\n",
    "webDrv.find_element_by_xpath(dict_xpath[\"link_main\"]).click()\n",
    "swatch.diff()"
   ]
  },
  {
   "cell_type": "code",
   "execution_count": 6,
   "metadata": {},
   "outputs": [],
   "source": [
    "elem_list_group1 = webDrv.find_element_by_xpath(dict_xpath[\"list_main_1\"])\n",
    "elem_list_group2 = webDrv.find_element_by_xpath(dict_xpath[\"list_main_2\"])\n"
   ]
  },
  {
   "cell_type": "markdown",
   "metadata": {},
   "source": [
    "<H2> navigates and obtain the link of site map </H2> \n"
   ]
  },
  {
   "cell_type": "code",
   "execution_count": 7,
   "metadata": {},
   "outputs": [
    {
     "name": "stdout",
     "output_type": "stream",
     "text": [
      "14\n",
      "14\n"
     ]
    }
   ],
   "source": [
    "listGrp1 = elem_list_group1.find_elements_by_class_name(\"text_under\");\n",
    "print( len(listGrp1) )\n",
    "listGrp2 = elem_list_group1.find_elements_by_class_name(\"text_under\");\n",
    "print( len(listGrp2) )"
   ]
  },
  {
   "cell_type": "code",
   "execution_count": 8,
   "metadata": {},
   "outputs": [
    {
     "name": "stdout",
     "output_type": "stream",
     "text": [
      "31\n",
      "['http://www.bookcosmos.com/sub/digest/classlist.asp?code=1', 'http://www.bookcosmos.com/sub/digest/classlist.asp?code=2', 'http://www.bookcosmos.com/sub/digest/classlist.asp?code=7', 'http://www.bookcosmos.com/sub/digest/classlist.asp?code=3', 'http://www.bookcosmos.com/sub/digest/classlist.asp?code=9', 'http://www.bookcosmos.com/sub/digest/classlist.asp?code=16', 'http://www.bookcosmos.com/sub/digest/classlist.asp?code=14', 'http://www.bookcosmos.com/sub/digest/classlist.asp?code=4', 'http://www.bookcosmos.com/sub/digest/classlist.asp?code=5', 'http://www.bookcosmos.com/sub/digest/classlist.asp?code=6', 'http://www.bookcosmos.com/sub/digest/classlist.asp?code=22', 'http://www.bookcosmos.com/sub/digest/classlist.asp?code=23', 'http://www.bookcosmos.com/sub/digest/classlist.asp?code=20', 'http://www.bookcosmos.com/sub/digest/classlist.asp?code=21', 'http://www.bookcosmos.com/sub/digest/classlist.asp?code=19', 'http://www.bookcosmos.com/sub/digest/classlist.asp?code=18', 'http://www.bookcosmos.com/sub/digest/classlist.asp?code=17', 'http://www.bookcosmos.com/sub/digest/classlist.asp?code=15', 'http://www.bookcosmos.com/sub/digest/classlist.asp?code=13', 'http://www.bookcosmos.com/sub/digest/classlist.asp?code=11', 'http://www.bookcosmos.com/sub/digest/classlist.asp?code=10', 'http://www.bookcosmos.com/sub/digest/classlist.asp?code=8', 'http://www.bookcosmos.com/sub/digest/classlist.asp?code=12', 'http://www.bookcosmos.com/sub/digest/classlist.asp?code=25', 'http://www.bookcosmos.com/sub/digest/classlist.asp?code=26', 'http://www.bookcosmos.com/sub/digest/classlist.asp?code=32', 'http://www.bookcosmos.com/sub/digest/classlist.asp?code=33', 'http://www.bookcosmos.com/sub/digest/classlist.asp?code=24', 'http://www.bookcosmos.com/sub/digest/classlist.asp?code=27', 'http://www.bookcosmos.com/sub/digest/classlist.asp?code=28', 'http://www.bookcosmos.com/sub/digest/classlist.asp?code=29']\n"
     ]
    }
   ],
   "source": [
    "listTags = elem_list_group1.find_elements_by_tag_name('a')\n",
    "listLink = []\n",
    "for elem in listTags : \n",
    "    listLink.append( elem.get_attribute('href') )\n",
    "    \n",
    "listTags = elem_list_group2.find_elements_by_tag_name('a')\n",
    "for elem in listTags : \n",
    "    listLink.append( elem.get_attribute('href') )\n",
    "    \n",
    "print( len(listLink) )\n",
    "print( listLink)"
   ]
  },
  {
   "cell_type": "markdown",
   "metadata": {},
   "source": [
    "<H2> obtain the number of page in category </H2> "
   ]
  },
  {
   "cell_type": "code",
   "execution_count": 9,
   "metadata": {},
   "outputs": [],
   "source": [
    "url_category1 = \"http://www.bookcosmos.com/sub/digest/classlist.asp?code=1\"\n",
    "craw.OpenWebPage(webDrv,url_category1,1)"
   ]
  },
  {
   "cell_type": "code",
   "execution_count": 27,
   "metadata": {},
   "outputs": [
    {
     "name": "stdout",
     "output_type": "stream",
     "text": [
      "58\n"
     ]
    }
   ],
   "source": [
    "xpath_next_btn = \"/html/body/table/tbody/tr/td/table/tbody/tr[1]/td[1]/table/tbody/tr/td/table[4]/tbody/tr/td[2]/table[2]/tbody/tr/td[2]/table/tbody/tr[2]/td/a[11]/img\"\n",
    "webDrv.find_element_by_xpath(xpath_next_btn).click()\n",
    "\n",
    "xpath_last = \"/html/body/table/tbody/tr/td/table/tbody/tr[1]/td[1]/table/tbody/tr/td/table[4]/tbody/tr/td[2]/table[2]/tbody/tr/td[2]/table/tbody/tr[2]/td/strong/font\"\n",
    "elem = webDrv.find_element_by_xpath(xpath_last)\n",
    "\n",
    "print( elem.text )\n",
    "#http://www.bookcosmos.com/sub/digest/classlist.asp?Type=T&code=15&code1=&code2=&page=44\n",
    "#한번만 클릭하면 된다. "
   ]
  },
  {
   "cell_type": "markdown",
   "metadata": {},
   "source": [
    "<H2> obtain in link of book in page </H2> \n"
   ]
  },
  {
   "cell_type": "code",
   "execution_count": 28,
   "metadata": {},
   "outputs": [],
   "source": [
    "# iterative the books contents \n",
    "craw.OpenWebPage(webDrv,url_category1,1)"
   ]
  },
  {
   "cell_type": "code",
   "execution_count": 29,
   "metadata": {},
   "outputs": [
    {
     "name": "stdout",
     "output_type": "stream",
     "text": [
      "빅데이터 리더십\n",
      "http://www.bookcosmos.com/Sub/Digest/GuideBook.Asp?book_sno=2010443\n",
      "CEO의 코스요리\n",
      "http://www.bookcosmos.com/Sub/Digest/GuideBook.Asp?book_sno=2010442\n",
      "정관정요 강의\n",
      "http://www.bookcosmos.com/Sub/Digest/GuideBook.Asp?book_sno=2020718\n",
      "미래를 읽는 기술\n",
      "http://www.bookcosmos.com/Sub/Digest/GuideBook.Asp?book_sno=2051313\n",
      "리더십, 난중일기에 묻다\n",
      "http://www.bookcosmos.com/Sub/Digest/GuideBook.Asp?book_sno=2010441\n",
      "조조 리더십 혁명\n",
      "http://www.bookcosmos.com/Sub/Digest/GuideBook.Asp?book_sno=2010440\n",
      "리더의 비유\n",
      "http://www.bookcosmos.com/Sub/Digest/GuideBook.Asp?book_sno=2010439\n",
      "어떻게 일할 것인가\n",
      "http://www.bookcosmos.com/Sub/Digest/GuideBook.Asp?book_sno=6031744\n",
      "관자 평전\n",
      "http://www.bookcosmos.com/Sub/Digest/GuideBook.Asp?book_sno=2010438\n",
      "1인자의 인문학: 한국편\n",
      "http://www.bookcosmos.com/Sub/Digest/GuideBook.Asp?book_sno=2010437\n"
     ]
    }
   ],
   "source": [
    "lists_xpath = [\"/html/body/table/tbody/tr/td/table/tbody/tr[1]/td[1]/table/tbody/tr/td/table[4]/tbody/tr/td[2]/table[2]/tbody/tr/td[2]/table/tbody/tr[1]/td/table/tbody/tr[1]/td/table/tbody/tr/td[1]/table/tbody/tr/td[2]/table/tbody/tr[1]/td[2]/a\",\n",
    "\"/html/body/table/tbody/tr/td/table/tbody/tr[1]/td[1]/table/tbody/tr/td/table[4]/tbody/tr/td[2]/table[2]/tbody/tr/td[2]/table/tbody/tr[1]/td/table/tbody/tr[1]/td/table/tbody/tr/td[3]/table/tbody/tr/td[2]/table/tbody/tr[1]/td[2]/a\",\n",
    "\"/html/body/table/tbody/tr/td/table/tbody/tr[1]/td[1]/table/tbody/tr/td/table[4]/tbody/tr/td[2]/table[2]/tbody/tr/td[2]/table/tbody/tr[1]/td/table/tbody/tr[5]/td/table/tbody/tr/td[1]/table/tbody/tr/td[2]/table/tbody/tr[1]/td[2]/a\",\n",
    "\"/html/body/table/tbody/tr/td/table/tbody/tr[1]/td[1]/table/tbody/tr/td/table[4]/tbody/tr/td[2]/table[2]/tbody/tr/td[2]/table/tbody/tr[1]/td/table/tbody/tr[5]/td/table/tbody/tr/td[3]/table/tbody/tr/td[2]/table/tbody/tr[1]/td[2]/a\",\n",
    "\"/html/body/table/tbody/tr/td/table/tbody/tr[1]/td[1]/table/tbody/tr/td/table[4]/tbody/tr/td[2]/table[2]/tbody/tr/td[2]/table/tbody/tr[1]/td/table/tbody/tr[9]/td/table/tbody/tr/td[1]/table/tbody/tr/td[2]/table/tbody/tr[1]/td[2]/a\",\n",
    "\"/html/body/table/tbody/tr/td/table/tbody/tr[1]/td[1]/table/tbody/tr/td/table[4]/tbody/tr/td[2]/table[2]/tbody/tr/td[2]/table/tbody/tr[1]/td/table/tbody/tr[9]/td/table/tbody/tr/td[3]/table/tbody/tr/td[2]/table/tbody/tr[1]/td[2]/a\",\n",
    "\"/html/body/table/tbody/tr/td/table/tbody/tr[1]/td[1]/table/tbody/tr/td/table[4]/tbody/tr/td[2]/table[2]/tbody/tr/td[2]/table/tbody/tr[1]/td/table/tbody/tr[13]/td/table/tbody/tr/td[1]/table/tbody/tr/td[2]/table/tbody/tr[1]/td[2]/a\",\n",
    "\"/html/body/table/tbody/tr/td/table/tbody/tr[1]/td[1]/table/tbody/tr/td/table[4]/tbody/tr/td[2]/table[2]/tbody/tr/td[2]/table/tbody/tr[1]/td/table/tbody/tr[13]/td/table/tbody/tr/td[3]/table/tbody/tr/td[2]/table/tbody/tr[1]/td[2]/a\",\n",
    "\"/html/body/table/tbody/tr/td/table/tbody/tr[1]/td[1]/table/tbody/tr/td/table[4]/tbody/tr/td[2]/table[2]/tbody/tr/td[2]/table/tbody/tr[1]/td/table/tbody/tr[17]/td/table/tbody/tr/td[1]/table/tbody/tr/td[2]/table/tbody/tr[1]/td[2]/a\",\n",
    "\"/html/body/table/tbody/tr/td/table/tbody/tr[1]/td[1]/table/tbody/tr/td/table[4]/tbody/tr/td[2]/table[2]/tbody/tr/td[2]/table/tbody/tr[1]/td/table/tbody/tr[17]/td/table/tbody/tr/td[3]/table/tbody/tr/td[2]/table/tbody/tr[1]/td[2]/a\"]\n",
    "\n",
    "for elem in lists_xpath :\n",
    "    webelem = webDrv.find_element_by_xpath(elem)\n",
    "    print( webelem.text)\n",
    "    print( webelem.get_attribute('href') ) "
   ]
  },
  {
   "cell_type": "code",
   "execution_count": 30,
   "metadata": {},
   "outputs": [
    {
     "name": "stdout",
     "output_type": "stream",
     "text": [
      "1\n",
      "빅데이터 리더십\n",
      "http://www.bookcosmos.com/Sub/Digest/GuideBook.Asp?book_sno=2010443\n",
      "CEO의 코스요리\n",
      "http://www.bookcosmos.com/Sub/Digest/GuideBook.Asp?book_sno=2010442\n",
      "정관정요 강의\n",
      "http://www.bookcosmos.com/Sub/Digest/GuideBook.Asp?book_sno=2020718\n",
      "미래를 읽는 기술\n",
      "http://www.bookcosmos.com/Sub/Digest/GuideBook.Asp?book_sno=2051313\n",
      "리더십, 난중일기에 묻다\n",
      "http://www.bookcosmos.com/Sub/Digest/GuideBook.Asp?book_sno=2010441\n",
      "조조 리더십 혁명\n",
      "http://www.bookcosmos.com/Sub/Digest/GuideBook.Asp?book_sno=2010440\n",
      "리더의 비유\n",
      "http://www.bookcosmos.com/Sub/Digest/GuideBook.Asp?book_sno=2010439\n",
      "어떻게 일할 것인가\n",
      "http://www.bookcosmos.com/Sub/Digest/GuideBook.Asp?book_sno=6031744\n",
      "관자 평전\n",
      "http://www.bookcosmos.com/Sub/Digest/GuideBook.Asp?book_sno=2010438\n",
      "1인자의 인문학: 한국편\n",
      "http://www.bookcosmos.com/Sub/Digest/GuideBook.Asp?book_sno=2010437\n",
      "2\n",
      "야근, 팀장이 답하다\n",
      "http://www.bookcosmos.com/Sub/Digest/GuideBook.Asp?book_sno=2010435\n",
      "성공하는 조직의 리더십 모...\n",
      "http://www.bookcosmos.com/Sub/Digest/GuideBook.Asp?book_sno=2020697\n",
      "누구를 리더로 세울 것인가\n",
      "http://www.bookcosmos.com/Sub/Digest/GuideBook.Asp?book_sno=2010434\n",
      "경영의 신 정주영 vs. ...\n",
      "http://www.bookcosmos.com/Sub/Digest/GuideBook.Asp?book_sno=2010433\n",
      "리더의 비전\n",
      "http://www.bookcosmos.com/Sub/Digest/GuideBook.Asp?book_sno=2020694\n",
      "시진핑 리더십\n",
      "http://www.bookcosmos.com/Sub/Digest/GuideBook.Asp?book_sno=6060052\n",
      "하버드 케네디스쿨의 리더십...\n",
      "http://www.bookcosmos.com/Sub/Digest/GuideBook.Asp?book_sno=2010432\n",
      "진정한 리더의 조건\n",
      "http://www.bookcosmos.com/Sub/Digest/GuideBook.Asp?book_sno=2010430\n",
      "인간 중심 리더십\n",
      "http://www.bookcosmos.com/Sub/Digest/GuideBook.Asp?book_sno=2010428\n",
      "워킹 브레인\n",
      "http://www.bookcosmos.com/Sub/Digest/GuideBook.Asp?book_sno=2020683\n",
      "3\n",
      "뺄셈의 리더십\n",
      "http://www.bookcosmos.com/Sub/Digest/GuideBook.Asp?book_sno=2010427\n",
      "리더를 위한 세계 최고의 ...\n",
      "http://www.bookcosmos.com/Sub/Digest/GuideBook.Asp?book_sno=2051236\n",
      "물 속의 물고기도 목이 마...\n",
      "http://www.bookcosmos.com/Sub/Digest/GuideBook.Asp?book_sno=2010426\n",
      "넘어졌다면, 일어나라!\n",
      "http://www.bookcosmos.com/Sub/Digest/GuideBook.Asp?book_sno=2020674\n",
      "이재용의 넥스트 삼성\n",
      "http://www.bookcosmos.com/Sub/Digest/GuideBook.Asp?book_sno=2020671\n",
      "인사인문학\n",
      "http://www.bookcosmos.com/Sub/Digest/GuideBook.Asp?book_sno=2010425\n",
      "사장은 왜 당신을 간부로 ...\n",
      "http://www.bookcosmos.com/Sub/Digest/GuideBook.Asp?book_sno=2010424\n",
      "리더가 리더에게\n",
      "http://www.bookcosmos.com/Sub/Digest/GuideBook.Asp?book_sno=2010423\n",
      "리더의 질문에 답하다\n",
      "http://www.bookcosmos.com/Sub/Digest/GuideBook.Asp?book_sno=2010422\n",
      "탁월한 리더는 피드백이 다...\n",
      "http://www.bookcosmos.com/Sub/Digest/GuideBook.Asp?book_sno=2010421\n"
     ]
    }
   ],
   "source": [
    "max_page = 58\n",
    "url_category1 = \"http://www.bookcosmos.com/sub/digest/classlist.asp?code=1\"\n",
    "url_category_page = url_category1\n",
    "\n",
    "for page in range(1,max_page + 1) :\n",
    "    if page == 4 : break\n",
    "    print( page )\n",
    "    url_category_page = url_category1 + \"&page=%d\" % (page)\n",
    "    craw.OpenWebPage(webDrv, url_category_page, 1)\n",
    "    for elem in lists_xpath :\n",
    "        webelem = webDrv.find_element_by_xpath(elem)\n",
    "        print( webelem.text)\n",
    "        print( webelem.get_attribute('href') ) \n",
    "    \n",
    "    \n",
    "    "
   ]
  },
  {
   "cell_type": "markdown",
   "metadata": {},
   "source": [
    "<H2> navigate in page </H2> \n"
   ]
  },
  {
   "cell_type": "code",
   "execution_count": 32,
   "metadata": {},
   "outputs": [],
   "source": [
    "url_book = \"http://www.bookcosmos.com/Sub/Digest/GuideBook.Asp?book_sno=2010443\"\n",
    "\n",
    "craw.OpenWebPage(webDrv, url_book, 1)\n",
    "\n",
    "xpath_title = \"/html/body/table/tbody/tr/td/table/tbody/tr[1]/td[1]/table/tbody/tr/td/table[4]/tbody/tr/td[2]/table[1]/tbody/tr/td[2]/div[1]/div/table/tbody/tr/td[2]/div[1]/p\"\n",
    "xpath_author = \"/html/body/table/tbody/tr/td/table/tbody/tr[1]/td[1]/table/tbody/tr/td/table[4]/tbody/tr/td[2]/table[1]/tbody/tr/td[2]/div[1]/div/table/tbody/tr/td[2]/div[2]\"\n",
    "xpath_publish = \"/html/body/table/tbody/tr/td/table/tbody/tr[1]/td[1]/table/tbody/tr/td/table[4]/tbody/tr/td[2]/table[1]/tbody/tr/td[2]/div[1]/div/table/tbody/tr/td[2]/div[3]\"\n",
    "xpath_publish_date = \"/html/body/table/tbody/tr/td/table/tbody/tr[1]/td[1]/table/tbody/tr/td/table[4]/tbody/tr/td[2]/table[1]/tbody/tr/td[2]/div[1]/div/table/tbody/tr/td[2]/div[4]\"\n",
    "\n",
    "xpath_word_dn = \"/html/body/table/tbody/tr/td/table/tbody/tr[1]/td[1]/table/tbody/tr/td/table[4]/tbody/tr/td[2]/table[1]/tbody/tr/td[2]/div[1]/div/table/tbody/tr/td[2]/table/tbody/tr/td/div[2]/div[2]/a[1]\"\n",
    "xpath_hangul_dn = \"/html/body/table/tbody/tr/td/table/tbody/tr[1]/td[1]/table/tbody/tr/td/table[4]/tbody/tr/td[2]/table[1]/tbody/tr/td[2]/div[1]/div/table/tbody/tr/td[2]/table/tbody/tr/td/div[2]/div[2]/a[2]\"\n",
    "xpath_pdf_dn = \"/html/body/table/tbody/tr/td/table/tbody/tr[1]/td[1]/table/tbody/tr/td/table[4]/tbody/tr/td[2]/table[1]/tbody/tr/td[2]/div[1]/div/table/tbody/tr/td[2]/table/tbody/tr/td/div[2]/div[2]/a[3]\"\n",
    "\n",
    "webDrv.find_element_by_xpath(xpath_word_dn).click() #이 다운로드를 받게 하는법 ... 아놔 "
   ]
  },
  {
   "cell_type": "code",
   "execution_count": 34,
   "metadata": {},
   "outputs": [
    {
     "name": "stdout",
     "output_type": "stream",
     "text": [
      "None\n"
     ]
    }
   ],
   "source": [
    "rs = webDrv.find_element_by_xpath(xpath_hangul_dn).click() #이 다운로드를 받게 하는법 ... 아놔 \n",
    "print( rs )"
   ]
  },
  {
   "cell_type": "code",
   "execution_count": 13,
   "metadata": {},
   "outputs": [],
   "source": [
    "from selenium import webdriver\n",
    "path_chrome_driver_linux = \"/root/chromedriver/chromedriver\"\n",
    "\n"
   ]
  },
  {
   "cell_type": "markdown",
   "metadata": {},
   "source": [
    "<h2> get entries of books </h2>"
   ]
  },
  {
   "cell_type": "code",
   "execution_count": 37,
   "metadata": {},
   "outputs": [
    {
     "name": "stdout",
     "output_type": "stream",
     "text": [
      "difference : 0 sec \n"
     ]
    }
   ],
   "source": [
    "url = \"http://www.bookcosmos.com/Sub/Digest/GuideBook.Asp?book_sno=2100081\"\n",
    "\n",
    "swatch.reset()\n",
    "craw.OpenWebPage(webDrv,url,1)\n",
    "swatch.diff()\n"
   ]
  },
  {
   "cell_type": "code",
   "execution_count": 17,
   "metadata": {},
   "outputs": [],
   "source": [
    "dictXpath = {\"title_in_page\":\"/html/body/table/tbody/tr/td/table/tbody/tr[1]/td[1]/table/tbody/tr/td/table[4]/tbody/tr/td[2]/table[1]/tbody/tr/td[2]/div[1]/div/table/tbody/tr/td[2]/div[1]/p\",\n",
    "\"Writer\":\"/html/body/table/tbody/tr/td/table/tbody/tr[1]/td[1]/table/tbody/tr/td/table[4]/tbody/tr/td[2]/table[1]/tbody/tr/td[2]/div[1]/div/table/tbody/tr/td[2]/div[2]\",\n",
    "\"Company\":\"/html/body/table/tbody/tr/td/table/tbody/tr[1]/td[1]/table/tbody/tr/td/table[4]/tbody/tr/td[2]/table[1]/tbody/tr/td[2]/div[1]/div/table/tbody/tr/td[2]/div[3]\",\n",
    "\"DatePublished\":\"/html/body/table/tbody/tr/td/table/tbody/tr[1]/td[1]/table/tbody/tr/td/table[4]/tbody/tr/td[2]/table[1]/tbody/tr/td[2]/div[1]/div/table/tbody/tr/td[2]/div[4]\",\n",
    "\"Category\":\"/html/body/table/tbody/tr/td/table/tbody/tr[1]/td[1]/table/tbody/tr/td/table[4]/tbody/tr/td[2]/table[1]/tbody/tr/td[2]/div[1]/div/table/tbody/tr/td[2]/div[5]\",\n",
    "\"Content\":\"//*[@id=\\\"contentForm\\\"]/tbody/tr[1]/td/table/tbody/tr/td\"}"
   ]
  },
  {
   "cell_type": "markdown",
   "metadata": {},
   "source": [
    "<h2> get contents </h2>"
   ]
  },
  {
   "cell_type": "code",
   "execution_count": 36,
   "metadata": {},
   "outputs": [
    {
     "name": "stdout",
     "output_type": "stream",
     "text": [
      "“식중독 예방 효과가 탁월한 매실 장아찌를 만들자.” 멀쩡히 다니던 신문사를 그만두고 일식당 프랜차이즈를 운영하던 저자는 엉뚱한 발상으로 매실 재배에 뛰어들었다. 그렇게 귀농한 지 벌써 10년이 흘렀다. 그 짧은 기간 저는 연매출 30억의 농기업을 일구며 성공한 귀농인으로 업계에 알려졌다. 농림부 신지식인 144호에 꼽히기도 했고, 2010년 11월 제 15회 농업인의 날에는 산업포장을 받기도 했다. 현재는 매실 사업 외에도 자소를 이용한 아토피 개선 물질을 개발하고 있으며, 낙동강 강변에 관광단지를 조성하는 사업도 추진하고 있다.\n",
      "국내에서는 비법을 아는 사람이 없을 만큼 어려운 매실 식초의 제조 방법을 식초 업체에 사장님에게 전수받았다. 공장 지을 돈이 없어 단속반을 피해 도망쳤던 저자가 관련 공직자들의 주선으로 공장 건립의 뜻을 이루었다. 자소가 아토피에 좋다는 것만 알았지 자금과 기술이 없어 쩔쩔 맬 때 경북대 교수님을 만나 아토피 개선 물질을 개발했다. 기술, 자금, 아이디어 모두 남의 도움을 받으며 이 자리에 이르렀다.\n",
      "모든 것이 모자랐던 저자에겐 딱 한 가지가 있었다. 농업을 일으켜보자는 신념이다. 우메보시를 만들겠다던 꿈은 사람들을 만나면서 무럭무럭 자랐다. 그리고 언제부터인지 더 이상 매실을 기르고, 가공품을 만들고, 자소에서 아토피 개선 물질을 추출하는 일에 집착하지 않게 되었다. 대신 우리 모두 함께 갈 수 있는 길은 무엇인지 고민하게 되었다. 산산이 흩어져 있는 농업 자원을 하나로 꿸 수 있는 사람이 필요하다고 생각했다.\n",
      "오늘날 농촌에 사람이 필요합니다.\n",
      "오늘날 농촌에 자금이 필요합니다.\n",
      "오늘날 농촌에 기술이 필요합니다.\n",
      "이 책은, 귀농을 막연히 동경하는 사람들에게는 냉정한 현실을, 각종 아카데미를 찾아다니며 귀농 교육을 받았으나 2% 부족하다고 느꼈던 사람들에게는 구체적인 조언을, 나아가 우리 농업이 가야 할 방향을 고민하는 사람들에게는 미래 비전을 제시한다.\n",
      "\n"
     ]
    }
   ],
   "source": [
    "xpath = \"//*[@id=\\\"contentForm\\\"]/tbody/tr[1]/td/table/tbody/tr/td\"\n",
    "elem = webDrv.find_element_by_xpath( xpath ) \n",
    "#print( elem.text )\n",
    "\n",
    "for content in elem.text.split( \"▣\" ) :\n",
    "    if( content.lower().find('Short Summary'.lower()) != -1 ) :\n",
    "        listContents = content.split(\"\\n\")[1:] \n",
    "\n",
    "sz = \"\"\n",
    "\n",
    "for elem in listContents : \n",
    "    if( elem != \"\") :\n",
    "        sz += elem\n",
    "        sz += \"\\n\"\n",
    "\n",
    "print( sz )"
   ]
  },
  {
   "cell_type": "markdown",
   "metadata": {},
   "source": [
    "<h2> obtain the contents of book </h2>\n"
   ]
  },
  {
   "cell_type": "code",
   "execution_count": 38,
   "metadata": {},
   "outputs": [
    {
     "name": "stdout",
     "output_type": "stream",
     "text": [
      "title_in_page /html/body/table/tbody/tr/td/table/tbody/tr[1]/td[1]/table/tbody/tr/td/table[4]/tbody/tr/td[2]/table[1]/tbody/tr/td[2]/div[1]/div/table/tbody/tr/td[2]/div[1]/p\n",
      "송광매원 서명선의 귀농 경영\n",
      "Writer /html/body/table/tbody/tr/td/table/tbody/tr[1]/td[1]/table/tbody/tr/td/table[4]/tbody/tr/td[2]/table[1]/tbody/tr/td[2]/div[1]/div/table/tbody/tr/td[2]/div[2]\n",
      "  저자 : 서명선\n",
      "Company /html/body/table/tbody/tr/td/table/tbody/tr[1]/td[1]/table/tbody/tr/td/table[4]/tbody/tr/td[2]/table[1]/tbody/tr/td[2]/div[1]/div/table/tbody/tr/td[2]/div[3]\n",
      "  출판사 : 지식공간\n",
      "DatePublished /html/body/table/tbody/tr/td/table/tbody/tr[1]/td[1]/table/tbody/tr/td/table[4]/tbody/tr/td[2]/table[1]/tbody/tr/td[2]/div[1]/div/table/tbody/tr/td[2]/div[4]\n",
      "  출판년도 : 2010년 11월\n",
      "Category /html/body/table/tbody/tr/td/table/tbody/tr[1]/td[1]/table/tbody/tr/td/table[4]/tbody/tr/td[2]/table[1]/tbody/tr/td[2]/div[1]/div/table/tbody/tr/td[2]/div[5]\n",
      "  분야 : 경영자 스토리/인물\n",
      "Content //*[@id=\"contentForm\"]/tbody/tr[1]/td/table/tbody/tr/td\n",
      "서명선 지음\n",
      "지식공간 / 2010년 11월 / 268쪽 / 14,000원\n",
      "\n",
      "\n",
      "▣ 저자 서명선\n",
      "잘 다니던 대구 일간지를 그만둔 뒤 일식당을 창업, 승승장구하다가 2000년 홀연 “매실 장아찌”를 만들어보겠다며 경북도 칠곡군으로 귀농했다. 현재 연매출 30억의 농기업 송광매원(www.skmaesil.co.kr)의 대표로 활동하고 있다. 그는 아무도 눈여겨보지 않던 토종 매실의 재배·가공에 도전하여 불과 2년 만에 결실을 맺었다. 2002년 한국전통음식 베스트 5 선발대회(2회 연속 수상), 전국벤처농업 빅 6에 선정되었으며, 2003년에는 전국벤처농업 창업경연대회 최우수상, 경북도 농정대상을 수상했다. 그해 농림부 신지식인 144호에 선정되었다. 2004년에는 세계 최고 매실 산지인 일본 오오야마의 매실올림픽에 출전, 본선에 진출하는 쾌거를 이룩하기도 했다. 2010년 11월에는 농업인의 날을 맞아 산업포장을 수상했다.\n",
      "\n",
      "또한 귀농 10년 동안 그는 흩어져 있는 농촌 자원(자금, 기술, 인력)을 한데 묶는 농부 리더로서 살아왔다. 그 결과 계약재배 농가 80여 곳을 이끄는 매실연구회의 수장이 되었으며, 동시에 매실청, 차, 회초장, 고추장, 장아찌, 식초 등 12가지에 달하는 매실 제품을 생산하는 CEO 농부가 되었다. 또한 칠곡을 팜스테이마을, 녹색체험마을로 만드는 데 앞장섰으며 최근에는 자소(차조기) 추출물을 이용하여 아토피 개선 물질을 개발하는 등 끊임없는 연구와 노력으로 깊이 잠들어 있는 동토의 땅 농촌에 봄을 앞당기고 있다. 현재 농업회사법인 (주)송광매원 대표이사, 농업회사법인(주)천연식품 부사장, 칠곡군 매실연구회 회장, 칠곡군 친환경농업인회 회장, 아침해원골녹색농촌체험마을위원장, 국립한국농업대학 현장교수, (사)한국신지식농업인회 교육강사 등으로 활동하고 있다.\n",
      "\n",
      "▣ Short Summary\n",
      "“식중독 예방 효과가 탁월한 매실 장아찌를 만들자.” 멀쩡히 다니던 신문사를 그만두고 일식당 프랜차이즈를 운영하던 저자는 엉뚱한 발상으로 매실 재배에 뛰어들었다. 그렇게 귀농한 지 벌써 10년이 흘렀다. 그 짧은 기간 저는 연매출 30억의 농기업을 일구며 성공한 귀농인으로 업계에 알려졌다. 농림부 신지식인 144호에 꼽히기도 했고, 2010년 11월 제 15회 농업인의 날에는 산업포장을 받기도 했다. 현재는 매실 사업 외에도 자소를 이용한 아토피 개선 물질을 개발하고 있으며, 낙동강 강변에 관광단지를 조성하는 사업도 추진하고 있다.\n",
      "\n",
      "국내에서는 비법을 아는 사람이 없을 만큼 어려운 매실 식초의 제조 방법을 식초 업체에 사장님에게 전수받았다. 공장 지을 돈이 없어 단속반을 피해 도망쳤던 저자가 관련 공직자들의 주선으로 공장 건립의 뜻을 이루었다. 자소가 아토피에 좋다는 것만 알았지 자금과 기술이 없어 쩔쩔 맬 때 경북대 교수님을 만나 아토피 개선 물질을 개발했다. 기술, 자금, 아이디어 모두 남의 도움을 받으며 이 자리에 이르렀다.\n",
      "\n",
      "모든 것이 모자랐던 저자에겐 딱 한 가지가 있었다. 농업을 일으켜보자는 신념이다. 우메보시를 만들겠다던 꿈은 사람들을 만나면서 무럭무럭 자랐다. 그리고 언제부터인지 더 이상 매실을 기르고, 가공품을 만들고, 자소에서 아토피 개선 물질을 추출하는 일에 집착하지 않게 되었다. 대신 우리 모두 함께 갈 수 있는 길은 무엇인지 고민하게 되었다. 산산이 흩어져 있는 농업 자원을 하나로 꿸 수 있는 사람이 필요하다고 생각했다.\n",
      "\n",
      "오늘날 농촌에 사람이 필요합니다.\n",
      "오늘날 농촌에 자금이 필요합니다.\n",
      "오늘날 농촌에 기술이 필요합니다.\n",
      "\n",
      "이 책은, 귀농을 막연히 동경하는 사람들에게는 냉정한 현실을, 각종 아카데미를 찾아다니며 귀농 교육을 받았으나 2% 부족하다고 느꼈던 사람들에게는 구체적인 조언을, 나아가 우리 농업이 가야 할 방향을 고민하는 사람들에게는 미래 비전을 제시한다.\n",
      "\n",
      "▣ 차례\n",
      "머리글_ 혼자서는 갈 수 없는 길\n",
      "글을 시작하며_ 농부에게 왜 경영이 필요한가\n",
      "\n",
      "1장 낭만만으로는 귀농에 성공할 수 없다\n",
      "IMF의 교훈, 나는 똑같이 당하지 않으리라\n",
      "30명이 식중독에 걸리면서 내 인생도 180° 바뀌었다\n",
      "낭만만으로는 귀농에 성공할 수 없다\n",
      "\n",
      "2장 해보기 전에는 안 된다고 생각지 마라\n",
      "토종 매실 재배, 아무도 가지 않은 길\n",
      "600년 묵은 매화나무에서 시작된 송광매원\n",
      "편견의 껍질에 싸인 열매, 매실\n",
      "* 국내 최초 매실로 무농약 인증을 받다\n",
      "처음은 누구에게나 두려운 법이다\n",
      "농산물도 반품을 받습니다!\n",
      "\n",
      "3장 넘지 못할 산은 없다\n",
      "농촌, 조금만 달리 보면 길이 열린다\n",
      "가장 쉬운 일이 가장 어려운 법\n",
      "걷지도 못하는 사람이 날려고 했다\n",
      "내가 잘하는 일에 답이 있다\n",
      "2년 만에 업계 최고로! 베스트 5(Best-Five) 선발전\n",
      "* 나는 이렇게 언론에 홍보했다\n",
      "세계 최고 매실 산지 오오야마 개최 매실올림픽에 출전하다\n",
      "* 송광매원의 주요 수상 실적\n",
      "\n",
      "4장 때로는 쓴잔을 들이켤 때도 있다\n",
      "막다른 골목에 서다\n",
      "* 정부 지원 사업, 어떻게 진행되나?\n",
      "시련은 우리를 강인하게 벼려준다\n",
      "못 들어가서 안달인 대형 유통사를 자진 퇴점하다\n",
      "판로 다각화, 전 세계가 우리의 시장이다\n",
      "* 귀농인의 인터넷 활용 조언\n",
      "\n",
      "5장 끌리는 농장에는 이유가 있다\n",
      "매화를 보기 위해 몰려든 사람들\n",
      "제1회 매화축제, 서툰 첫발을 내딛다\n",
      "천만금을 주고도 살 수 없는 소중한 아이디어를 얻다\n",
      "“나물과 약초, 마음껏 캐가세요.”\n",
      "비수기를 활용하라\n",
      "\n",
      "6장 혼자서는 갈 수 없다\n",
      "텃세는 있다, 그렇다고 이방인으로 살 것인가\n",
      "매실연구회 탄생, 개울이 모여 강물을 이루다\n",
      "선후가 뒤바뀐 전략은 위태롭다\n",
      "토종 매실나무를 무료로 나누어주다\n",
      "‘이 바닥’은 의외로 좁다\n",
      "정부(지자체)의 지원 제도를 활용하라\n",
      "\n",
      "7장 6차 산업을 향해\n",
      "매실의 ‘매’ 자도 모르던 귀농 초보가 신지식인 144호에 선정되다\n",
      "포기는 이르다\n",
      "귀농의 새로운 패러다임을 만들어가다\n",
      "사업계획서, 왜 필요한가\n",
      "- 귀농은 창업이다\n",
      "\n",
      "8장 귀농을 시작하려는 분에게\n",
      "새로운 도전에는 용기가 필요하다\n",
      "나는 편안함을 바라지 않는다\n",
      "벽에 부딪칠 때는 그 너머를 바라보라\n",
      "이상적인 농지는 존재하지 않는다\n",
      "- 농지 선택을 위한 6가지 조언\n",
      "마지막 5가지 조언\n",
      "\n",
      "참조 1 진정서\n",
      "참조 2 사업계획서\n"
     ]
    }
   ],
   "source": [
    "for k,v in dictXpath.items() :\n",
    "    print( k,v )\n",
    "    elem = webDrv.find_element_by_xpath(v) \n",
    "    print(elem.text)"
   ]
  }
 ],
 "metadata": {
  "kernelspec": {
   "display_name": "Python 3",
   "language": "python",
   "name": "python3"
  },
  "language_info": {
   "codemirror_mode": {
    "name": "ipython",
    "version": 3
   },
   "file_extension": ".py",
   "mimetype": "text/x-python",
   "name": "python",
   "nbconvert_exporter": "python",
   "pygments_lexer": "ipython3",
   "version": "3.6.5"
  }
 },
 "nbformat": 4,
 "nbformat_minor": 2
}
