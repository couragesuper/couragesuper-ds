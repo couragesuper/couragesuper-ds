{
 "cells": [
  {
   "cell_type": "code",
   "execution_count": 4,
   "metadata": {
    "collapsed": true
   },
   "outputs": [
    {
     "name": "stdout",
     "output_type": "stream",
     "text": [
      "difference : 2 sec \n"
     ]
    }
   ],
   "source": [
    "# import library \n",
    "import os\n",
    "import sys\n",
    "\n",
    "path_craw = \"/couragesuper-ds/Crawling/\"\n",
    "root_path = os.getcwd().replace(\"\\\\\",\"/\") + path_craw \n",
    "\n",
    "sys.path.append( root_path + \"../Common/Crawler\")\n",
    "sys.path.append( root_path + \"../Common/Util\")\n",
    "sys.path.append( root_path + '../Common/Crawler/Util')\n",
    "\n",
    "import mod_crawler_base as craw\n",
    "import time\n",
    "from time import sleep\n",
    "\n",
    "from Util import stopWatch \n",
    "\n",
    "swatch = stopWatch()\n",
    "\n",
    "isLinux  = False\n",
    "isHidden = False\n",
    "\n",
    "swatch.reset()\n",
    "wd = craw.InitWebDriver( isLinux, isHidden )\n",
    "swatch.diff()"
   ]
  },
  {
   "cell_type": "code",
   "execution_count": 6,
   "metadata": {},
   "outputs": [
    {
     "name": "stdout",
     "output_type": "stream",
     "text": [
      "difference : 0 sec \n"
     ]
    }
   ],
   "source": [
    "swatch.reset()\n",
    "craw.OpenWebPage(wd,\"https://movie.naver.com/movie/bi/mi/basic.nhn?code=45290\",1)\n",
    "swatch.diff()"
   ]
  },
  {
   "cell_type": "code",
   "execution_count": 7,
   "metadata": {},
   "outputs": [],
   "source": [
    "html = wd.page_source"
   ]
  },
  {
   "cell_type": "code",
   "execution_count": 10,
   "metadata": {},
   "outputs": [],
   "source": [
    "from bs4 import BeautifulSoup as BS"
   ]
  },
  {
   "cell_type": "code",
   "execution_count": 11,
   "metadata": {},
   "outputs": [],
   "source": [
    "soup = BS(html,\"html.parser\")"
   ]
  },
  {
   "cell_type": "code",
   "execution_count": 41,
   "metadata": {},
   "outputs": [
    {
     "name": "stdout",
     "output_type": "stream",
     "text": [
      "[<strong class=\"h_movie2\" title=\"Interstellar\t\t\t\t\t\t\t\t\t\t, \t\t\t\t\t2014\">Interstellar\n\t\t\t\t\t\n\t\t\t\t\t, \n\t\t\t\t\t2014</strong>, <strong class=\"h_movie2\" title=\"Interstellar, 2014\">Interstellar, 2014</strong>]\n"
     ]
    }
   ],
   "source": [
    "#elem = soup.select(\"#content > div.article > div.mv_info_area > div.mv_info > div.main_score > div:nth-child(1)\")\n",
    "#elem = soup.select(\"#content > div.article > div.mv_info_area > div.mv_info > div.main_score \")\n",
    "elem = soup.select('div[class=mv_info] strong[class=h_movie2]')\n",
    "print( elem )\n",
    "\n",
    "# 2개가 생성된다. \n",
    "\n",
    "\n"
   ]
  },
  {
   "cell_type": "code",
   "execution_count": 55,
   "metadata": {},
   "outputs": [
    {
     "name": "stdout",
     "output_type": "stream",
     "text": [
      "인터스텔라\n"
     ]
    }
   ],
   "source": [
    "#한글 제목 얻기\n",
    "elem = soup.select( \"#content > div.article > div.mv_info_area > div.mv_info > h3 > a\")\n",
    "print( elem[0].text )"
   ]
  },
  {
   "cell_type": "code",
   "execution_count": 60,
   "metadata": {},
   "outputs": [
    {
     "name": "stdout",
     "output_type": "stream",
     "text": [
      "Interstellar, 2014\n"
     ]
    }
   ],
   "source": [
    "#content > div.article > div.mv_info_area > div.mv_info > strong\n",
    "elem = soup.select( \"#content > div.article > div.mv_info_area > div.mv_info > strong\" )\n",
    "print(elem[0].text)\n"
   ]
  },
  {
   "cell_type": "code",
   "execution_count": 114,
   "metadata": {},
   "outputs": [
    {
     "name": "stdout",
     "output_type": "stream",
     "text": [
      "9.11\n16620\n7.9\n<em class=\"num0\">0</em>\n9.09\n4\n"
     ]
    }
   ],
   "source": [
    "# 평점 \n",
    "elems = soup.select( \"#actualPointPersentBasic  em\" )\n",
    "str_point = \"\"\n",
    "for elem in elems :\n",
    "    str_point = str_point + elem.text\n",
    "print( float(str_point) )\n",
    "\n",
    "# 평점 참여수\n",
    "elems = soup.select( \"#actualPointCountBasic > em\" )\n",
    "print( int( elems[0].text.replace(\",\",\"\")) )\n",
    "\n",
    "# nth-child는 지원암됨.\n",
    "# 기자단 평가 얻기 귀찮음 \n",
    "#elem = soup.select( \"#content > div.article > div.mv_info_area > div.mv_info > div.main_score > div:nth-child(2) > div > a\" )\n",
    "elem = soup.select( \"#content > div.article > div.mv_info_area > div.mv_info > div.main_score > div\" )[1]\n",
    "elem_sub = elem.select(\"div a em\")\n",
    "#print( elem_sub[1:] )\n",
    "\n",
    "str_point = \"\"\n",
    "for elem in elem_sub[1:] :\n",
    "    str_point = str_point + elem.text\n",
    "print( float(str_point) )\n",
    "\n",
    "# 네티즌 평점\n",
    "elems = soup.select( \"#content > div.article > div.mv_info_area > div.mv_info > div.main_score > div.score.score_left > div.star_score em\" )\n",
    "print( elem )\n",
    "str_point = \"\"\n",
    "for elem in elems :\n",
    "    str_point = str_point + elem.text\n",
    "print( float(str_point) )\n",
    "\n",
    "# 영화정보\n",
    "#<a href=\"/movie/sdb/browsing/bmovie.nhn?nation=US\">미국</a>\n",
    "\n",
    "#4개가 나온다.\n",
    "elems = soup.select(\"a[href^=/movie/sdb/browsing/bmovie.nhn?nation]\")\n",
    "print(len(elems))"
   ]
  }
 ],
 "metadata": {
  "kernelspec": {
   "display_name": "Python 2",
   "language": "python",
   "name": "python2"
  },
  "language_info": {
   "codemirror_mode": {
    "name": "ipython",
    "version": 2
   },
   "file_extension": ".py",
   "mimetype": "text/x-python",
   "name": "python",
   "nbconvert_exporter": "python",
   "pygments_lexer": "ipython2",
   "version": "2.7.6"
  }
 },
 "nbformat": 4,
 "nbformat_minor": 0
}
