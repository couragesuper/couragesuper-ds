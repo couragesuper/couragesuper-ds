{
 "cells": [
  {
   "cell_type": "markdown",
   "metadata": {},
   "source": [
    "## Load Crawling Module"
   ]
  },
  {
   "cell_type": "code",
   "execution_count": 1,
   "metadata": {},
   "outputs": [
    {
     "name": "stdout",
     "output_type": "stream",
     "text": [
      "[MSG][Load Crawler Base Component]\n"
     ]
    }
   ],
   "source": [
    "import sys\n",
    "import time\n",
    "sys.path.append(\"../Common/Crawler\")\n",
    "sys.path.append(\"../Common/Util\")\n",
    "\n",
    "import mod_crawler_base as craw\n",
    "\n",
    "isLinux = True\n",
    "isHidden = True\n",
    "\n",
    "from time import sleep\n",
    "\n",
    "wd = craw.InitWebDriver( isLinux, isHidden )"
   ]
  },
  {
   "cell_type": "code",
   "execution_count": 2,
   "metadata": {},
   "outputs": [],
   "source": [
    "#많이본 뉴스 - 섹션 \n",
    "# 종합\n",
    "baseUrl = \"https://news.naver.com/main/ranking/popularDay.nhn?rankingType=popular_day&sectionId=100&date=20180101\" \n",
    "craw.OpenWebPage(wd, baseUrl ,1)\n",
    "\n",
    "#많이본 뉴스 - 성별\n",
    "baseUrl = \"https://news.naver.com/main/ranking/popularDay.nhn?rankingType=gender&sectionId=100&date=20180101\" \n",
    "#https://news.naver.com/main/ranking/popularDay.nhn?rankingType=gender&subType=male\n",
    "#male.female\n",
    "\n",
    "#많이본 뉴스 - 연력\n",
    "baseUrl = \"https://news.naver.com/main/ranking/popularDay.nhn?rankingType=age&subType=50\"\n",
    "#10,20,30,50"
   ]
  },
  {
   "cell_type": "code",
   "execution_count": 3,
   "metadata": {},
   "outputs": [
    {
     "name": "stdout",
     "output_type": "stream",
     "text": [
      "['종합', '정치', '경제', '사회', '생활/문화', '세계', 'IT/과학', '포토', 'TV']\n",
      "['https://news.naver.com/main/ranking/popularDay.nhn?rankingType=popular_day&date=20180101', 'https://news.naver.com/main/ranking/popularDay.nhn?rankingType=popular_day&sectionId=100&date=20180101', 'https://news.naver.com/main/ranking/popularDay.nhn?rankingType=popular_day&sectionId=101&date=20180101', 'https://news.naver.com/main/ranking/popularDay.nhn?rankingType=popular_day&sectionId=102&date=20180101', 'https://news.naver.com/main/ranking/popularDay.nhn?rankingType=popular_day&sectionId=103&date=20180101', 'https://news.naver.com/main/ranking/popularDay.nhn?rankingType=popular_day&sectionId=104&date=20180101', 'https://news.naver.com/main/ranking/popularDay.nhn?rankingType=popular_day&sectionId=105&date=20180101', 'https://news.naver.com/main/ranking/popularDay.nhn?rankingType=popular_day&sectionId=003&date=20180101', 'https://news.naver.com/main/ranking/popularDay.nhn?rankingType=popular_day&sectionId=115&date=20180101']\n"
     ]
    }
   ],
   "source": [
    "listElem = wd.find_elements_by_class_name( 'ranking_category_item' ) \n",
    "listSections = []\n",
    "listSections_URL = []\n",
    "for i,elem in enumerate( listElem ):\n",
    "    #\\n으로 구분된 태그가 있다.\n",
    "    listSections.append( elem.text.split(\"\\n\")[0] )\n",
    "    listSections_URL.append( elem.find_element_by_tag_name('a').get_attribute('href')  )\n",
    "    \n",
    "print( listSections )\n",
    "print( listSections_URL )   \n",
    "    \n",
    "# 100,101,102,103,104,105,106,003,115"
   ]
  },
  {
   "cell_type": "code",
   "execution_count": 4,
   "metadata": {
    "scrolled": true
   },
   "outputs": [],
   "source": [
    "#국민일보\n",
    "#동아일보\n",
    "#서울경제\n",
    "#국민일보\n",
    "#중앙일보\n",
    "#조선일보\n",
    "#머니투데이\n",
    "#파이낸셜뉴스\n",
    "\n",
    "listSectionNm = ['종합', '정치', '경제', '사회', '생활/문화', '세계', 'IT/과학', '포토', 'TV']\n",
    "listSectionID = ['100','101','102','103','104','105','106','003','115']\n",
    "\n",
    "listSections = []\n",
    "listSections_URL = []\n",
    "\n",
    "#file category \n",
    "\n",
    "def get_naver_section_url( wd , ymd , sectionID ) :    \n",
    "    urlSect = \"https://news.naver.com/main/ranking/popularDay.nhn?rankingType=popular_day&sectionId=%s&date=%s\" % ( sectionID, ymd )\n",
    "    craw.OpenWebPage(wd, urlSect ,1)\n",
    "    listElem = wd.find_elements_by_class_name( 'ranking_item' ) \n",
    "    for i,elem in enumerate( listElem ):    \n",
    "        listSections.append( elem.text.split(\"\\n\")[0] )\n",
    "        listSections_URL.append( elem.find_element_by_tag_name('a').get_attribute('href')  )\n",
    "    return\n",
    "    "
   ]
  },
  {
   "cell_type": "code",
   "execution_count": 5,
   "metadata": {},
   "outputs": [],
   "source": [
    "\n",
    "def crawling_naver_sections(wd,ymd) :    \n",
    "    css_head = \"tts_head\"\n",
    "    css_contents = \"article_body\"\n",
    "    for sectionID in listSectionID :        \n",
    "        get_naver_section_url( wd, ymd , sectionID )\n",
    "        now = time.localtime()\n",
    "        time_str = \"%d_%d_%d_%d:%d:%d\" % ( now.tm_year, now.tm_mon, now.tm_mday, now.tm_hour, now.tm_min, now.tm_sec )\n",
    "        time_str_day = \"%d_%d_%d\" % ( now.tm_year, now.tm_mon, now.tm_mday )\n",
    "        with open(  \"naver_section_\" + sectionID + \"_\" + time_str + \".txt\" , \"w+\" , encoding='utf-8' ) as f:\n",
    "            idx = 0\n",
    "            for url in listSections_URL : \n",
    "                craw.OpenWebPage(wd, url ,1)            \n",
    "                #1.TODAY_INDEX\n",
    "                f.write( str(idx) )\n",
    "                f.write( \"\\t\" )\n",
    "                \n",
    "                #2.time_str_day\n",
    "                f.write( time_str_day )\n",
    "                f.write( \"\\t\" )\n",
    "                \n",
    "                #3.TITLE                 \n",
    "                elem = wd.find_elements_by_class_name(css_head)\n",
    "                print( elem[0].text )                \n",
    "                f.write( elem[0].text )\n",
    "                f.write( \"\\t\")\n",
    "                \n",
    "                #4.CONTENT\n",
    "                elem = wd.find_elements_by_class_name(css_contents)\n",
    "                content_txt = elem[0].text.replace(\"\\n\",\"  \").replace(\"\\r\",\"  \")                \n",
    "                print( content_txt )\n",
    "                f.write( content_txt )\n",
    "                f.write( \"\\n\")\n",
    "                sleep(0.5)\n"
   ]
  },
  {
   "cell_type": "code",
   "execution_count": 6,
   "metadata": {},
   "outputs": [
    {
     "name": "stdout",
     "output_type": "stream",
     "text": [
      "\"군, 모든 것 결정\"…기무사, 사실상 '쿠데타' 계획\n",
      "동영상 뉴스  [뉴스데스크]◀ 앵커 ▶    지난해 촛불 정국 당시 기무사가 계엄령을 어떻게 실행에 옮길지 세부 사항을 정리한 문건으로 오늘 뉴스, 시작하겠습니다.    제목은 \"대비계획 세부자료\" 모두 67쪽입니다.    원래 군사 2급 비밀로 묶여 있어서 청와대가 지난주 목차 일부만 공개했죠.    그러다 국회 요청에 따라 비밀이 해제되면서 그 전문이 공개됐습니다.    요즘 기무사 문건이 여러 개 등장하다 보니 헷갈리실 텐데요.    이번 문건이 가장 상세하다고 이해하시면 됩니다.    \"기무사가 만든 계엄 관련 모든 문건을 보고하라\"는 대통령 지시 이후 8일 만에 그 실체가 낱낱이 드러난 겁니다.    여기에는 촛불 집회가 확산되지 못하도록 시민들의 휴대전화 전파 방해부터 국회를 무력화하고 언론을 검열 또는 통폐합하는 구체적 실행 방안이 빼곡하게 담겨 있습니다.    그런데 하나하나 뜯어보면 기무사가 계엄을 검토한 것인지, 아니면 쿠데타를 모의한 것인지 의심스러운 대목이 한두 곳이 아닙니다.    먼저 서혜연 기자입니다.    ◀ 리포트 ▶    문건에서 계엄선포를 위한 첫 단계로 상정된 국방부 비상대책 회의.    계엄 시행여부와 종류, 시행 지역까지, 대통령 권한인 계엄선포권을 사실상 이 회의에서 결정하는 것으로 돼 있습니다.    [임태훈/군인권센터 소장]  \"계엄 선포 가능 여부를 스스로 판단함으로써 군이 계엄의 주체로 상정하고 있다는 것을 이 문건은 여실히 보여주고 있습니다.\"    그러면서 끊임없이 강조하는 건 보안.    회의 참석 인원을 최소화할 것을 제안하면서 이유로 터키의 사례를 듭니다.    2016년 7월 터키 군부가 일으킨 쿠데타는 6시간 만에 실패로 끝났는데, 이 쿠데타를 계엄으로 지칭하며 \"시민 저항으로 계엄군이 진입을 실패했다\"고 적고 있습니다.    이들이 생각하는 계엄이 본연의 목적인 '사회 질서 유지'를 위한 게 아님을 짐작할 수 있게 하는 대목입니다.    미국의 인정을 받으려 한 점도 과거 쿠데타 세력의 행보로 알려진 내용과 유사합니다.    국방부 장관이 계엄 선포 전 미국과 중국 대사를 공관에 비밀리에 불러 당위성을 설명하고, 계엄 시행 후에는 미국 대사를 통해 본국에 계엄을 인정하도록 협조를 요청한다고 구체적인 행동계획을 마련했습니다.    기무사가 미리 준비한 비상계엄 선포문도 주목할 만합니다.    선포 주체로 대통령뿐 아니라 권한대행도 가능하도록 했습니다.    대통령 궐위상황까지 염두에 둔 겁니다.    이 문건에 대해 군 인권센터는 오늘 \"무력으로 국가권력을 진공상태로 만들려 했다\"며 \"이 계획이 시행됐다면 12·12 사태와 같았을 것\"이라고 주장했습니다.    MBC뉴스 서혜연입니다.    서혜연 기자 (hyseo@mbc.co.kr)    [저작권자(c) MBC (http://imnews.imbc.com) 무단복제-재배포 금지]      Copyright(c) Since 1996, MBC&iMBC All rights reserved.  좋아요  409  훈훈해요  90  슬퍼요  60  화나요  9,512  후속기사 원해요  221  이 기사를 모바일 메인으로 추천 2,153  보내기  이 기사는 모바일 메인 뉴스판에 노출된 이력이 있습니다.  MBC 뉴스 관련뉴스해당 언론사에서 선정하며 언론사 페이지(아웃링크)로 이동해 볼 수 있습니다.  '군, 모든 것 결정'…기무사, 사실상 '쿠데타' 계획  불체포특권 무시…'국회·언론 장악' 곳곳 헌법 파괴 요소  '계엄 문건' 놓고 엇갈린 군 수뇌부…거짓말 공방  드루킹, 돈 빌미로 노회찬 협박했나?  北, 미사일 발사장 해체…'종전선언' 포석?\n"
     ]
    },
    {
     "ename": "KeyboardInterrupt",
     "evalue": "",
     "output_type": "error",
     "traceback": [
      "\u001b[0;31m---------------------------------------------------------------------------\u001b[0m",
      "\u001b[0;31mKeyboardInterrupt\u001b[0m                         Traceback (most recent call last)",
      "\u001b[0;32m<ipython-input-6-7b16aebbc354>\u001b[0m in \u001b[0;36m<module>\u001b[0;34m()\u001b[0m\n\u001b[1;32m      1\u001b[0m \u001b[0;34m\u001b[0m\u001b[0m\n\u001b[0;32m----> 2\u001b[0;31m \u001b[0mcrawling_naver_sections\u001b[0m\u001b[0;34m(\u001b[0m\u001b[0mwd\u001b[0m\u001b[0;34m,\u001b[0m \u001b[0;34m\"20180724\"\u001b[0m\u001b[0;34m)\u001b[0m\u001b[0;34m\u001b[0m\u001b[0m\n\u001b[0m\u001b[1;32m      3\u001b[0m \u001b[0;34m\u001b[0m\u001b[0m\n",
      "\u001b[0;32m<ipython-input-5-ca0bd53d0cdb>\u001b[0m in \u001b[0;36mcrawling_naver_sections\u001b[0;34m(wd, ymd)\u001b[0m\n\u001b[1;32m     11\u001b[0m             \u001b[0midx\u001b[0m \u001b[0;34m=\u001b[0m \u001b[0;36m0\u001b[0m\u001b[0;34m\u001b[0m\u001b[0m\n\u001b[1;32m     12\u001b[0m             \u001b[0;32mfor\u001b[0m \u001b[0murl\u001b[0m \u001b[0;32min\u001b[0m \u001b[0mlistSections_URL\u001b[0m \u001b[0;34m:\u001b[0m\u001b[0;34m\u001b[0m\u001b[0m\n\u001b[0;32m---> 13\u001b[0;31m                 \u001b[0mcraw\u001b[0m\u001b[0;34m.\u001b[0m\u001b[0mOpenWebPage\u001b[0m\u001b[0;34m(\u001b[0m\u001b[0mwd\u001b[0m\u001b[0;34m,\u001b[0m \u001b[0murl\u001b[0m \u001b[0;34m,\u001b[0m\u001b[0;36m1\u001b[0m\u001b[0;34m)\u001b[0m\u001b[0;34m\u001b[0m\u001b[0m\n\u001b[0m\u001b[1;32m     14\u001b[0m                 \u001b[0;31m#1.TODAY_INDEX\u001b[0m\u001b[0;34m\u001b[0m\u001b[0;34m\u001b[0m\u001b[0m\n\u001b[1;32m     15\u001b[0m                 \u001b[0mf\u001b[0m\u001b[0;34m.\u001b[0m\u001b[0mwrite\u001b[0m\u001b[0;34m(\u001b[0m \u001b[0mstr\u001b[0m\u001b[0;34m(\u001b[0m\u001b[0midx\u001b[0m\u001b[0;34m)\u001b[0m \u001b[0;34m)\u001b[0m\u001b[0;34m\u001b[0m\u001b[0m\n",
      "\u001b[0;32m~/Python/couragesuper-ds/Common/Crawler/mod_crawler_base.py\u001b[0m in \u001b[0;36mOpenWebPage\u001b[0;34m(webDrv, URL, delay)\u001b[0m\n\u001b[1;32m     33\u001b[0m \u001b[0;31m#   open the web page\u001b[0m\u001b[0;34m\u001b[0m\u001b[0;34m\u001b[0m\u001b[0m\n\u001b[1;32m     34\u001b[0m \u001b[0;32mdef\u001b[0m \u001b[0mOpenWebPage\u001b[0m\u001b[0;34m(\u001b[0m\u001b[0mwebDrv\u001b[0m\u001b[0;34m,\u001b[0m \u001b[0mURL\u001b[0m\u001b[0;34m,\u001b[0m \u001b[0mdelay\u001b[0m\u001b[0;34m=\u001b[0m\u001b[0;36m2.0\u001b[0m\u001b[0;34m)\u001b[0m\u001b[0;34m:\u001b[0m\u001b[0;34m\u001b[0m\u001b[0m\n\u001b[0;32m---> 35\u001b[0;31m     \u001b[0mwebDrv\u001b[0m\u001b[0;34m.\u001b[0m\u001b[0mget\u001b[0m\u001b[0;34m(\u001b[0m\u001b[0mURL\u001b[0m\u001b[0;34m)\u001b[0m\u001b[0;34m\u001b[0m\u001b[0m\n\u001b[0m\u001b[1;32m     36\u001b[0m     \u001b[0mwebDrv\u001b[0m\u001b[0;34m.\u001b[0m\u001b[0mimplicitly_wait\u001b[0m\u001b[0;34m(\u001b[0m\u001b[0mdelay\u001b[0m\u001b[0;34m)\u001b[0m\u001b[0;34m\u001b[0m\u001b[0m\n\u001b[1;32m     37\u001b[0m \u001b[0;34m\u001b[0m\u001b[0m\n",
      "\u001b[0;32m~/anaconda3/lib/python3.6/site-packages/selenium/webdriver/remote/webdriver.py\u001b[0m in \u001b[0;36mget\u001b[0;34m(self, url)\u001b[0m\n\u001b[1;32m    330\u001b[0m         \u001b[0mLoads\u001b[0m \u001b[0ma\u001b[0m \u001b[0mweb\u001b[0m \u001b[0mpage\u001b[0m \u001b[0;32min\u001b[0m \u001b[0mthe\u001b[0m \u001b[0mcurrent\u001b[0m \u001b[0mbrowser\u001b[0m \u001b[0msession\u001b[0m\u001b[0;34m.\u001b[0m\u001b[0;34m\u001b[0m\u001b[0m\n\u001b[1;32m    331\u001b[0m         \"\"\"\n\u001b[0;32m--> 332\u001b[0;31m         \u001b[0mself\u001b[0m\u001b[0;34m.\u001b[0m\u001b[0mexecute\u001b[0m\u001b[0;34m(\u001b[0m\u001b[0mCommand\u001b[0m\u001b[0;34m.\u001b[0m\u001b[0mGET\u001b[0m\u001b[0;34m,\u001b[0m \u001b[0;34m{\u001b[0m\u001b[0;34m'url'\u001b[0m\u001b[0;34m:\u001b[0m \u001b[0murl\u001b[0m\u001b[0;34m}\u001b[0m\u001b[0;34m)\u001b[0m\u001b[0;34m\u001b[0m\u001b[0m\n\u001b[0m\u001b[1;32m    333\u001b[0m \u001b[0;34m\u001b[0m\u001b[0m\n\u001b[1;32m    334\u001b[0m     \u001b[0;34m@\u001b[0m\u001b[0mproperty\u001b[0m\u001b[0;34m\u001b[0m\u001b[0m\n",
      "\u001b[0;32m~/anaconda3/lib/python3.6/site-packages/selenium/webdriver/remote/webdriver.py\u001b[0m in \u001b[0;36mexecute\u001b[0;34m(self, driver_command, params)\u001b[0m\n\u001b[1;32m    316\u001b[0m \u001b[0;34m\u001b[0m\u001b[0m\n\u001b[1;32m    317\u001b[0m         \u001b[0mparams\u001b[0m \u001b[0;34m=\u001b[0m \u001b[0mself\u001b[0m\u001b[0;34m.\u001b[0m\u001b[0m_wrap_value\u001b[0m\u001b[0;34m(\u001b[0m\u001b[0mparams\u001b[0m\u001b[0;34m)\u001b[0m\u001b[0;34m\u001b[0m\u001b[0m\n\u001b[0;32m--> 318\u001b[0;31m         \u001b[0mresponse\u001b[0m \u001b[0;34m=\u001b[0m \u001b[0mself\u001b[0m\u001b[0;34m.\u001b[0m\u001b[0mcommand_executor\u001b[0m\u001b[0;34m.\u001b[0m\u001b[0mexecute\u001b[0m\u001b[0;34m(\u001b[0m\u001b[0mdriver_command\u001b[0m\u001b[0;34m,\u001b[0m \u001b[0mparams\u001b[0m\u001b[0;34m)\u001b[0m\u001b[0;34m\u001b[0m\u001b[0m\n\u001b[0m\u001b[1;32m    319\u001b[0m         \u001b[0;32mif\u001b[0m \u001b[0mresponse\u001b[0m\u001b[0;34m:\u001b[0m\u001b[0;34m\u001b[0m\u001b[0m\n\u001b[1;32m    320\u001b[0m             \u001b[0mself\u001b[0m\u001b[0;34m.\u001b[0m\u001b[0merror_handler\u001b[0m\u001b[0;34m.\u001b[0m\u001b[0mcheck_response\u001b[0m\u001b[0;34m(\u001b[0m\u001b[0mresponse\u001b[0m\u001b[0;34m)\u001b[0m\u001b[0;34m\u001b[0m\u001b[0m\n",
      "\u001b[0;32m~/anaconda3/lib/python3.6/site-packages/selenium/webdriver/remote/remote_connection.py\u001b[0m in \u001b[0;36mexecute\u001b[0;34m(self, command, params)\u001b[0m\n\u001b[1;32m    470\u001b[0m         \u001b[0mdata\u001b[0m \u001b[0;34m=\u001b[0m \u001b[0mutils\u001b[0m\u001b[0;34m.\u001b[0m\u001b[0mdump_json\u001b[0m\u001b[0;34m(\u001b[0m\u001b[0mparams\u001b[0m\u001b[0;34m)\u001b[0m\u001b[0;34m\u001b[0m\u001b[0m\n\u001b[1;32m    471\u001b[0m         \u001b[0murl\u001b[0m \u001b[0;34m=\u001b[0m \u001b[0;34m'%s%s'\u001b[0m \u001b[0;34m%\u001b[0m \u001b[0;34m(\u001b[0m\u001b[0mself\u001b[0m\u001b[0;34m.\u001b[0m\u001b[0m_url\u001b[0m\u001b[0;34m,\u001b[0m \u001b[0mpath\u001b[0m\u001b[0;34m)\u001b[0m\u001b[0;34m\u001b[0m\u001b[0m\n\u001b[0;32m--> 472\u001b[0;31m         \u001b[0;32mreturn\u001b[0m \u001b[0mself\u001b[0m\u001b[0;34m.\u001b[0m\u001b[0m_request\u001b[0m\u001b[0;34m(\u001b[0m\u001b[0mcommand_info\u001b[0m\u001b[0;34m[\u001b[0m\u001b[0;36m0\u001b[0m\u001b[0;34m]\u001b[0m\u001b[0;34m,\u001b[0m \u001b[0murl\u001b[0m\u001b[0;34m,\u001b[0m \u001b[0mbody\u001b[0m\u001b[0;34m=\u001b[0m\u001b[0mdata\u001b[0m\u001b[0;34m)\u001b[0m\u001b[0;34m\u001b[0m\u001b[0m\n\u001b[0m\u001b[1;32m    473\u001b[0m \u001b[0;34m\u001b[0m\u001b[0m\n\u001b[1;32m    474\u001b[0m     \u001b[0;32mdef\u001b[0m \u001b[0m_request\u001b[0m\u001b[0;34m(\u001b[0m\u001b[0mself\u001b[0m\u001b[0;34m,\u001b[0m \u001b[0mmethod\u001b[0m\u001b[0;34m,\u001b[0m \u001b[0murl\u001b[0m\u001b[0;34m,\u001b[0m \u001b[0mbody\u001b[0m\u001b[0;34m=\u001b[0m\u001b[0;32mNone\u001b[0m\u001b[0;34m)\u001b[0m\u001b[0;34m:\u001b[0m\u001b[0;34m\u001b[0m\u001b[0m\n",
      "\u001b[0;32m~/anaconda3/lib/python3.6/site-packages/selenium/webdriver/remote/remote_connection.py\u001b[0m in \u001b[0;36m_request\u001b[0;34m(self, method, url, body)\u001b[0m\n\u001b[1;32m    494\u001b[0m             \u001b[0;32mtry\u001b[0m\u001b[0;34m:\u001b[0m\u001b[0;34m\u001b[0m\u001b[0m\n\u001b[1;32m    495\u001b[0m                 \u001b[0mself\u001b[0m\u001b[0;34m.\u001b[0m\u001b[0m_conn\u001b[0m\u001b[0;34m.\u001b[0m\u001b[0mrequest\u001b[0m\u001b[0;34m(\u001b[0m\u001b[0mmethod\u001b[0m\u001b[0;34m,\u001b[0m \u001b[0mparsed_url\u001b[0m\u001b[0;34m.\u001b[0m\u001b[0mpath\u001b[0m\u001b[0;34m,\u001b[0m \u001b[0mbody\u001b[0m\u001b[0;34m,\u001b[0m \u001b[0mheaders\u001b[0m\u001b[0;34m)\u001b[0m\u001b[0;34m\u001b[0m\u001b[0m\n\u001b[0;32m--> 496\u001b[0;31m                 \u001b[0mresp\u001b[0m \u001b[0;34m=\u001b[0m \u001b[0mself\u001b[0m\u001b[0;34m.\u001b[0m\u001b[0m_conn\u001b[0m\u001b[0;34m.\u001b[0m\u001b[0mgetresponse\u001b[0m\u001b[0;34m(\u001b[0m\u001b[0;34m)\u001b[0m\u001b[0;34m\u001b[0m\u001b[0m\n\u001b[0m\u001b[1;32m    497\u001b[0m             \u001b[0;32mexcept\u001b[0m \u001b[0;34m(\u001b[0m\u001b[0mhttplib\u001b[0m\u001b[0;34m.\u001b[0m\u001b[0mHTTPException\u001b[0m\u001b[0;34m,\u001b[0m \u001b[0msocket\u001b[0m\u001b[0;34m.\u001b[0m\u001b[0merror\u001b[0m\u001b[0;34m)\u001b[0m\u001b[0;34m:\u001b[0m\u001b[0;34m\u001b[0m\u001b[0m\n\u001b[1;32m    498\u001b[0m                 \u001b[0mself\u001b[0m\u001b[0;34m.\u001b[0m\u001b[0m_conn\u001b[0m\u001b[0;34m.\u001b[0m\u001b[0mclose\u001b[0m\u001b[0;34m(\u001b[0m\u001b[0;34m)\u001b[0m\u001b[0;34m\u001b[0m\u001b[0m\n",
      "\u001b[0;32m~/anaconda3/lib/python3.6/http/client.py\u001b[0m in \u001b[0;36mgetresponse\u001b[0;34m(self)\u001b[0m\n\u001b[1;32m   1329\u001b[0m         \u001b[0;32mtry\u001b[0m\u001b[0;34m:\u001b[0m\u001b[0;34m\u001b[0m\u001b[0m\n\u001b[1;32m   1330\u001b[0m             \u001b[0;32mtry\u001b[0m\u001b[0;34m:\u001b[0m\u001b[0;34m\u001b[0m\u001b[0m\n\u001b[0;32m-> 1331\u001b[0;31m                 \u001b[0mresponse\u001b[0m\u001b[0;34m.\u001b[0m\u001b[0mbegin\u001b[0m\u001b[0;34m(\u001b[0m\u001b[0;34m)\u001b[0m\u001b[0;34m\u001b[0m\u001b[0m\n\u001b[0m\u001b[1;32m   1332\u001b[0m             \u001b[0;32mexcept\u001b[0m \u001b[0mConnectionError\u001b[0m\u001b[0;34m:\u001b[0m\u001b[0;34m\u001b[0m\u001b[0m\n\u001b[1;32m   1333\u001b[0m                 \u001b[0mself\u001b[0m\u001b[0;34m.\u001b[0m\u001b[0mclose\u001b[0m\u001b[0;34m(\u001b[0m\u001b[0;34m)\u001b[0m\u001b[0;34m\u001b[0m\u001b[0m\n",
      "\u001b[0;32m~/anaconda3/lib/python3.6/http/client.py\u001b[0m in \u001b[0;36mbegin\u001b[0;34m(self)\u001b[0m\n\u001b[1;32m    295\u001b[0m         \u001b[0;31m# read until we get a non-100 response\u001b[0m\u001b[0;34m\u001b[0m\u001b[0;34m\u001b[0m\u001b[0m\n\u001b[1;32m    296\u001b[0m         \u001b[0;32mwhile\u001b[0m \u001b[0;32mTrue\u001b[0m\u001b[0;34m:\u001b[0m\u001b[0;34m\u001b[0m\u001b[0m\n\u001b[0;32m--> 297\u001b[0;31m             \u001b[0mversion\u001b[0m\u001b[0;34m,\u001b[0m \u001b[0mstatus\u001b[0m\u001b[0;34m,\u001b[0m \u001b[0mreason\u001b[0m \u001b[0;34m=\u001b[0m \u001b[0mself\u001b[0m\u001b[0;34m.\u001b[0m\u001b[0m_read_status\u001b[0m\u001b[0;34m(\u001b[0m\u001b[0;34m)\u001b[0m\u001b[0;34m\u001b[0m\u001b[0m\n\u001b[0m\u001b[1;32m    298\u001b[0m             \u001b[0;32mif\u001b[0m \u001b[0mstatus\u001b[0m \u001b[0;34m!=\u001b[0m \u001b[0mCONTINUE\u001b[0m\u001b[0;34m:\u001b[0m\u001b[0;34m\u001b[0m\u001b[0m\n\u001b[1;32m    299\u001b[0m                 \u001b[0;32mbreak\u001b[0m\u001b[0;34m\u001b[0m\u001b[0m\n",
      "\u001b[0;32m~/anaconda3/lib/python3.6/http/client.py\u001b[0m in \u001b[0;36m_read_status\u001b[0;34m(self)\u001b[0m\n\u001b[1;32m    256\u001b[0m \u001b[0;34m\u001b[0m\u001b[0m\n\u001b[1;32m    257\u001b[0m     \u001b[0;32mdef\u001b[0m \u001b[0m_read_status\u001b[0m\u001b[0;34m(\u001b[0m\u001b[0mself\u001b[0m\u001b[0;34m)\u001b[0m\u001b[0;34m:\u001b[0m\u001b[0;34m\u001b[0m\u001b[0m\n\u001b[0;32m--> 258\u001b[0;31m         \u001b[0mline\u001b[0m \u001b[0;34m=\u001b[0m \u001b[0mstr\u001b[0m\u001b[0;34m(\u001b[0m\u001b[0mself\u001b[0m\u001b[0;34m.\u001b[0m\u001b[0mfp\u001b[0m\u001b[0;34m.\u001b[0m\u001b[0mreadline\u001b[0m\u001b[0;34m(\u001b[0m\u001b[0m_MAXLINE\u001b[0m \u001b[0;34m+\u001b[0m \u001b[0;36m1\u001b[0m\u001b[0;34m)\u001b[0m\u001b[0;34m,\u001b[0m \u001b[0;34m\"iso-8859-1\"\u001b[0m\u001b[0;34m)\u001b[0m\u001b[0;34m\u001b[0m\u001b[0m\n\u001b[0m\u001b[1;32m    259\u001b[0m         \u001b[0;32mif\u001b[0m \u001b[0mlen\u001b[0m\u001b[0;34m(\u001b[0m\u001b[0mline\u001b[0m\u001b[0;34m)\u001b[0m \u001b[0;34m>\u001b[0m \u001b[0m_MAXLINE\u001b[0m\u001b[0;34m:\u001b[0m\u001b[0;34m\u001b[0m\u001b[0m\n\u001b[1;32m    260\u001b[0m             \u001b[0;32mraise\u001b[0m \u001b[0mLineTooLong\u001b[0m\u001b[0;34m(\u001b[0m\u001b[0;34m\"status line\"\u001b[0m\u001b[0;34m)\u001b[0m\u001b[0;34m\u001b[0m\u001b[0m\n",
      "\u001b[0;32m~/anaconda3/lib/python3.6/socket.py\u001b[0m in \u001b[0;36mreadinto\u001b[0;34m(self, b)\u001b[0m\n\u001b[1;32m    584\u001b[0m         \u001b[0;32mwhile\u001b[0m \u001b[0;32mTrue\u001b[0m\u001b[0;34m:\u001b[0m\u001b[0;34m\u001b[0m\u001b[0m\n\u001b[1;32m    585\u001b[0m             \u001b[0;32mtry\u001b[0m\u001b[0;34m:\u001b[0m\u001b[0;34m\u001b[0m\u001b[0m\n\u001b[0;32m--> 586\u001b[0;31m                 \u001b[0;32mreturn\u001b[0m \u001b[0mself\u001b[0m\u001b[0;34m.\u001b[0m\u001b[0m_sock\u001b[0m\u001b[0;34m.\u001b[0m\u001b[0mrecv_into\u001b[0m\u001b[0;34m(\u001b[0m\u001b[0mb\u001b[0m\u001b[0;34m)\u001b[0m\u001b[0;34m\u001b[0m\u001b[0m\n\u001b[0m\u001b[1;32m    587\u001b[0m             \u001b[0;32mexcept\u001b[0m \u001b[0mtimeout\u001b[0m\u001b[0;34m:\u001b[0m\u001b[0;34m\u001b[0m\u001b[0m\n\u001b[1;32m    588\u001b[0m                 \u001b[0mself\u001b[0m\u001b[0;34m.\u001b[0m\u001b[0m_timeout_occurred\u001b[0m \u001b[0;34m=\u001b[0m \u001b[0;32mTrue\u001b[0m\u001b[0;34m\u001b[0m\u001b[0m\n",
      "\u001b[0;31mKeyboardInterrupt\u001b[0m: "
     ]
    }
   ],
   "source": [
    "\n",
    "crawling_naver_sections(wd, \"20180724\")\n",
    "        "
   ]
  }
 ],
 "metadata": {
  "kernelspec": {
   "display_name": "Python 3",
   "language": "python",
   "name": "python3"
  },
  "language_info": {
   "codemirror_mode": {
    "name": "ipython",
    "version": 3
   },
   "file_extension": ".py",
   "mimetype": "text/x-python",
   "name": "python",
   "nbconvert_exporter": "python",
   "pygments_lexer": "ipython3",
   "version": "3.6.5"
  }
 },
 "nbformat": 4,
 "nbformat_minor": 2
}
