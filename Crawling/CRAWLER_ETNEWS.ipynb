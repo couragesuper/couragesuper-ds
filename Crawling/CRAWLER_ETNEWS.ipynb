{
 "cells": [
  {
   "cell_type": "code",
   "execution_count": 59,
   "metadata": {},
   "outputs": [],
   "source": [
    "import sys\n",
    "sys.path.append('/root/Python/Common/Crawler')\n",
    "import mod_craw as craw\n",
    "from time import sleep\n",
    "\n",
    "wd = craw.InitWebDriver(True,True)   "
   ]
  },
  {
   "cell_type": "markdown",
   "metadata": {},
   "source": [
    "<H2> Base URL </H2>"
   ]
  },
  {
   "cell_type": "code",
   "execution_count": 2,
   "metadata": {},
   "outputs": [],
   "source": [
    "baseUrl = \"http://news.etnews.com/\" \n",
    "craw.OpenWebPage(wd, baseUrl ,1)"
   ]
  },
  {
   "cell_type": "markdown",
   "metadata": {},
   "source": [
    "<H2> Category Links </H2>"
   ]
  },
  {
   "cell_type": "code",
   "execution_count": 21,
   "metadata": {},
   "outputs": [
    {
     "name": "stdout",
     "output_type": "stream",
     "text": [
      "0 \n",
      "0 http://www.etnews.com/news/section.html?id1=03\n",
      "1 http://www.etnews.com/news/section.html?id1=04\n",
      "2 http://www.etnews.com/news/section.html?id1=06\n",
      "3 http://www.etnews.com/news/section.html?id1=60\n",
      "4 http://www.etnews.com/news/section.html?id1=02\n",
      "5 http://www.etnews.com/news/section.html?id1=20\n",
      "6 http://www.etnews.com/news/section.html?id1=25\n",
      "7 http://www.etnews.com/news/section.html?id1=05\n",
      "8 None\n",
      "1 통신&방송\n",
      "SW&바이오\n",
      "소재&부품&과학\n",
      "전자&자동차&유통\n",
      "경제&금융\n",
      "산업&정책\n",
      "전국\n",
      "글로벌\n",
      "0 http://www.etnews.com/news/section.html?id1=03\n",
      "1 http://www.etnews.com/news/section.html?id1=04\n",
      "2 http://www.etnews.com/news/section.html?id1=06\n",
      "3 http://www.etnews.com/news/section.html?id1=60\n",
      "4 http://www.etnews.com/news/section.html?id1=02\n",
      "5 http://www.etnews.com/news/section.html?id1=20\n",
      "6 http://www.etnews.com/news/section.html?id1=25\n",
      "7 http://www.etnews.com/news/section.html?id1=05\n"
     ]
    }
   ],
   "source": [
    "listElem = wd.find_elements_by_class_name( 'clearfix' ) \n",
    "\n",
    "for i,Elem in enumerate( listElem ) : \n",
    "    listTagA = Elem.find_elements_by_tag_name('a')\n",
    "    print( i, Elem.text )\n",
    "    for j, Tag in enumerate( listTagA ) :        \n",
    "        print( j,Tag.get_attribute('href') ) "
   ]
  },
  {
   "cell_type": "code",
   "execution_count": 56,
   "metadata": {},
   "outputs": [],
   "source": [
    "url_category = \"http://www.etnews.com/news/section.html?id1=03\""
   ]
  },
  {
   "cell_type": "code",
   "execution_count": 57,
   "metadata": {},
   "outputs": [
    {
     "ename": "CannotSendRequest",
     "evalue": "Request-sent",
     "output_type": "error",
     "traceback": [
      "\u001b[0;31m---------------------------------------------------------------------------\u001b[0m",
      "\u001b[0;31mCannotSendRequest\u001b[0m                         Traceback (most recent call last)",
      "\u001b[0;32m<ipython-input-57-bf3f3c65e6bd>\u001b[0m in \u001b[0;36m<module>\u001b[0;34m()\u001b[0m\n\u001b[0;32m----> 1\u001b[0;31m \u001b[0mcraw\u001b[0m\u001b[0;34m.\u001b[0m\u001b[0mOpenWebPage\u001b[0m\u001b[0;34m(\u001b[0m\u001b[0mwd\u001b[0m\u001b[0;34m,\u001b[0m \u001b[0;34m\"http://www.etnews.com/news/section.html?id1=03\"\u001b[0m \u001b[0;34m,\u001b[0m\u001b[0;36m1\u001b[0m\u001b[0;34m)\u001b[0m\u001b[0;34m\u001b[0m\u001b[0m\n\u001b[0m",
      "\u001b[0;32m~/Python/Common/Crawler/mod_craw.py\u001b[0m in \u001b[0;36mOpenWebPage\u001b[0;34m(webDrv, URL, delay)\u001b[0m\n\u001b[1;32m     50\u001b[0m \u001b[0;34m\u001b[0m\u001b[0m\n\u001b[1;32m     51\u001b[0m \u001b[0;32mdef\u001b[0m \u001b[0mOpenWebPage\u001b[0m\u001b[0;34m(\u001b[0m \u001b[0mwebDrv\u001b[0m\u001b[0;34m,\u001b[0m \u001b[0mURL\u001b[0m \u001b[0;34m,\u001b[0m \u001b[0mdelay\u001b[0m \u001b[0;34m)\u001b[0m \u001b[0;34m:\u001b[0m\u001b[0;34m\u001b[0m\u001b[0m\n\u001b[0;32m---> 52\u001b[0;31m     \u001b[0mwebDrv\u001b[0m\u001b[0;34m.\u001b[0m\u001b[0mget\u001b[0m\u001b[0;34m(\u001b[0m\u001b[0mURL\u001b[0m\u001b[0;34m)\u001b[0m\u001b[0;34m\u001b[0m\u001b[0m\n\u001b[0m\u001b[1;32m     53\u001b[0m     \u001b[0mwebDrv\u001b[0m\u001b[0;34m.\u001b[0m\u001b[0mimplicitly_wait\u001b[0m\u001b[0;34m(\u001b[0m\u001b[0mdelay\u001b[0m\u001b[0;34m)\u001b[0m\u001b[0;34m\u001b[0m\u001b[0m\n\u001b[1;32m     54\u001b[0m \u001b[0;34m\u001b[0m\u001b[0m\n",
      "\u001b[0;32m~/anaconda3/lib/python3.6/site-packages/selenium/webdriver/remote/webdriver.py\u001b[0m in \u001b[0;36mget\u001b[0;34m(self, url)\u001b[0m\n\u001b[1;32m    330\u001b[0m         \u001b[0mLoads\u001b[0m \u001b[0ma\u001b[0m \u001b[0mweb\u001b[0m \u001b[0mpage\u001b[0m \u001b[0;32min\u001b[0m \u001b[0mthe\u001b[0m \u001b[0mcurrent\u001b[0m \u001b[0mbrowser\u001b[0m \u001b[0msession\u001b[0m\u001b[0;34m.\u001b[0m\u001b[0;34m\u001b[0m\u001b[0m\n\u001b[1;32m    331\u001b[0m         \"\"\"\n\u001b[0;32m--> 332\u001b[0;31m         \u001b[0mself\u001b[0m\u001b[0;34m.\u001b[0m\u001b[0mexecute\u001b[0m\u001b[0;34m(\u001b[0m\u001b[0mCommand\u001b[0m\u001b[0;34m.\u001b[0m\u001b[0mGET\u001b[0m\u001b[0;34m,\u001b[0m \u001b[0;34m{\u001b[0m\u001b[0;34m'url'\u001b[0m\u001b[0;34m:\u001b[0m \u001b[0murl\u001b[0m\u001b[0;34m}\u001b[0m\u001b[0;34m)\u001b[0m\u001b[0;34m\u001b[0m\u001b[0m\n\u001b[0m\u001b[1;32m    333\u001b[0m \u001b[0;34m\u001b[0m\u001b[0m\n\u001b[1;32m    334\u001b[0m     \u001b[0;34m@\u001b[0m\u001b[0mproperty\u001b[0m\u001b[0;34m\u001b[0m\u001b[0m\n",
      "\u001b[0;32m~/anaconda3/lib/python3.6/site-packages/selenium/webdriver/remote/webdriver.py\u001b[0m in \u001b[0;36mexecute\u001b[0;34m(self, driver_command, params)\u001b[0m\n\u001b[1;32m    316\u001b[0m \u001b[0;34m\u001b[0m\u001b[0m\n\u001b[1;32m    317\u001b[0m         \u001b[0mparams\u001b[0m \u001b[0;34m=\u001b[0m \u001b[0mself\u001b[0m\u001b[0;34m.\u001b[0m\u001b[0m_wrap_value\u001b[0m\u001b[0;34m(\u001b[0m\u001b[0mparams\u001b[0m\u001b[0;34m)\u001b[0m\u001b[0;34m\u001b[0m\u001b[0m\n\u001b[0;32m--> 318\u001b[0;31m         \u001b[0mresponse\u001b[0m \u001b[0;34m=\u001b[0m \u001b[0mself\u001b[0m\u001b[0;34m.\u001b[0m\u001b[0mcommand_executor\u001b[0m\u001b[0;34m.\u001b[0m\u001b[0mexecute\u001b[0m\u001b[0;34m(\u001b[0m\u001b[0mdriver_command\u001b[0m\u001b[0;34m,\u001b[0m \u001b[0mparams\u001b[0m\u001b[0;34m)\u001b[0m\u001b[0;34m\u001b[0m\u001b[0m\n\u001b[0m\u001b[1;32m    319\u001b[0m         \u001b[0;32mif\u001b[0m \u001b[0mresponse\u001b[0m\u001b[0;34m:\u001b[0m\u001b[0;34m\u001b[0m\u001b[0m\n\u001b[1;32m    320\u001b[0m             \u001b[0mself\u001b[0m\u001b[0;34m.\u001b[0m\u001b[0merror_handler\u001b[0m\u001b[0;34m.\u001b[0m\u001b[0mcheck_response\u001b[0m\u001b[0;34m(\u001b[0m\u001b[0mresponse\u001b[0m\u001b[0;34m)\u001b[0m\u001b[0;34m\u001b[0m\u001b[0m\n",
      "\u001b[0;32m~/anaconda3/lib/python3.6/site-packages/selenium/webdriver/remote/remote_connection.py\u001b[0m in \u001b[0;36mexecute\u001b[0;34m(self, command, params)\u001b[0m\n\u001b[1;32m    470\u001b[0m         \u001b[0mdata\u001b[0m \u001b[0;34m=\u001b[0m \u001b[0mutils\u001b[0m\u001b[0;34m.\u001b[0m\u001b[0mdump_json\u001b[0m\u001b[0;34m(\u001b[0m\u001b[0mparams\u001b[0m\u001b[0;34m)\u001b[0m\u001b[0;34m\u001b[0m\u001b[0m\n\u001b[1;32m    471\u001b[0m         \u001b[0murl\u001b[0m \u001b[0;34m=\u001b[0m \u001b[0;34m'%s%s'\u001b[0m \u001b[0;34m%\u001b[0m \u001b[0;34m(\u001b[0m\u001b[0mself\u001b[0m\u001b[0;34m.\u001b[0m\u001b[0m_url\u001b[0m\u001b[0;34m,\u001b[0m \u001b[0mpath\u001b[0m\u001b[0;34m)\u001b[0m\u001b[0;34m\u001b[0m\u001b[0m\n\u001b[0;32m--> 472\u001b[0;31m         \u001b[0;32mreturn\u001b[0m \u001b[0mself\u001b[0m\u001b[0;34m.\u001b[0m\u001b[0m_request\u001b[0m\u001b[0;34m(\u001b[0m\u001b[0mcommand_info\u001b[0m\u001b[0;34m[\u001b[0m\u001b[0;36m0\u001b[0m\u001b[0;34m]\u001b[0m\u001b[0;34m,\u001b[0m \u001b[0murl\u001b[0m\u001b[0;34m,\u001b[0m \u001b[0mbody\u001b[0m\u001b[0;34m=\u001b[0m\u001b[0mdata\u001b[0m\u001b[0;34m)\u001b[0m\u001b[0;34m\u001b[0m\u001b[0m\n\u001b[0m\u001b[1;32m    473\u001b[0m \u001b[0;34m\u001b[0m\u001b[0m\n\u001b[1;32m    474\u001b[0m     \u001b[0;32mdef\u001b[0m \u001b[0m_request\u001b[0m\u001b[0;34m(\u001b[0m\u001b[0mself\u001b[0m\u001b[0;34m,\u001b[0m \u001b[0mmethod\u001b[0m\u001b[0;34m,\u001b[0m \u001b[0murl\u001b[0m\u001b[0;34m,\u001b[0m \u001b[0mbody\u001b[0m\u001b[0;34m=\u001b[0m\u001b[0;32mNone\u001b[0m\u001b[0;34m)\u001b[0m\u001b[0;34m:\u001b[0m\u001b[0;34m\u001b[0m\u001b[0m\n",
      "\u001b[0;32m~/anaconda3/lib/python3.6/site-packages/selenium/webdriver/remote/remote_connection.py\u001b[0m in \u001b[0;36m_request\u001b[0;34m(self, method, url, body)\u001b[0m\n\u001b[1;32m    493\u001b[0m                 \u001b[0mbody\u001b[0m \u001b[0;34m=\u001b[0m \u001b[0;32mNone\u001b[0m\u001b[0;34m\u001b[0m\u001b[0m\n\u001b[1;32m    494\u001b[0m             \u001b[0;32mtry\u001b[0m\u001b[0;34m:\u001b[0m\u001b[0;34m\u001b[0m\u001b[0m\n\u001b[0;32m--> 495\u001b[0;31m                 \u001b[0mself\u001b[0m\u001b[0;34m.\u001b[0m\u001b[0m_conn\u001b[0m\u001b[0;34m.\u001b[0m\u001b[0mrequest\u001b[0m\u001b[0;34m(\u001b[0m\u001b[0mmethod\u001b[0m\u001b[0;34m,\u001b[0m \u001b[0mparsed_url\u001b[0m\u001b[0;34m.\u001b[0m\u001b[0mpath\u001b[0m\u001b[0;34m,\u001b[0m \u001b[0mbody\u001b[0m\u001b[0;34m,\u001b[0m \u001b[0mheaders\u001b[0m\u001b[0;34m)\u001b[0m\u001b[0;34m\u001b[0m\u001b[0m\n\u001b[0m\u001b[1;32m    496\u001b[0m                 \u001b[0mresp\u001b[0m \u001b[0;34m=\u001b[0m \u001b[0mself\u001b[0m\u001b[0;34m.\u001b[0m\u001b[0m_conn\u001b[0m\u001b[0;34m.\u001b[0m\u001b[0mgetresponse\u001b[0m\u001b[0;34m(\u001b[0m\u001b[0;34m)\u001b[0m\u001b[0;34m\u001b[0m\u001b[0m\n\u001b[1;32m    497\u001b[0m             \u001b[0;32mexcept\u001b[0m \u001b[0;34m(\u001b[0m\u001b[0mhttplib\u001b[0m\u001b[0;34m.\u001b[0m\u001b[0mHTTPException\u001b[0m\u001b[0;34m,\u001b[0m \u001b[0msocket\u001b[0m\u001b[0;34m.\u001b[0m\u001b[0merror\u001b[0m\u001b[0;34m)\u001b[0m\u001b[0;34m:\u001b[0m\u001b[0;34m\u001b[0m\u001b[0m\n",
      "\u001b[0;32m~/anaconda3/lib/python3.6/http/client.py\u001b[0m in \u001b[0;36mrequest\u001b[0;34m(self, method, url, body, headers, encode_chunked)\u001b[0m\n\u001b[1;32m   1237\u001b[0m                 encode_chunked=False):\n\u001b[1;32m   1238\u001b[0m         \u001b[0;34m\"\"\"Send a complete request to the server.\"\"\"\u001b[0m\u001b[0;34m\u001b[0m\u001b[0m\n\u001b[0;32m-> 1239\u001b[0;31m         \u001b[0mself\u001b[0m\u001b[0;34m.\u001b[0m\u001b[0m_send_request\u001b[0m\u001b[0;34m(\u001b[0m\u001b[0mmethod\u001b[0m\u001b[0;34m,\u001b[0m \u001b[0murl\u001b[0m\u001b[0;34m,\u001b[0m \u001b[0mbody\u001b[0m\u001b[0;34m,\u001b[0m \u001b[0mheaders\u001b[0m\u001b[0;34m,\u001b[0m \u001b[0mencode_chunked\u001b[0m\u001b[0;34m)\u001b[0m\u001b[0;34m\u001b[0m\u001b[0m\n\u001b[0m\u001b[1;32m   1240\u001b[0m \u001b[0;34m\u001b[0m\u001b[0m\n\u001b[1;32m   1241\u001b[0m     \u001b[0;32mdef\u001b[0m \u001b[0m_send_request\u001b[0m\u001b[0;34m(\u001b[0m\u001b[0mself\u001b[0m\u001b[0;34m,\u001b[0m \u001b[0mmethod\u001b[0m\u001b[0;34m,\u001b[0m \u001b[0murl\u001b[0m\u001b[0;34m,\u001b[0m \u001b[0mbody\u001b[0m\u001b[0;34m,\u001b[0m \u001b[0mheaders\u001b[0m\u001b[0;34m,\u001b[0m \u001b[0mencode_chunked\u001b[0m\u001b[0;34m)\u001b[0m\u001b[0;34m:\u001b[0m\u001b[0;34m\u001b[0m\u001b[0m\n",
      "\u001b[0;32m~/anaconda3/lib/python3.6/http/client.py\u001b[0m in \u001b[0;36m_send_request\u001b[0;34m(self, method, url, body, headers, encode_chunked)\u001b[0m\n\u001b[1;32m   1248\u001b[0m             \u001b[0mskips\u001b[0m\u001b[0;34m[\u001b[0m\u001b[0;34m'skip_accept_encoding'\u001b[0m\u001b[0;34m]\u001b[0m \u001b[0;34m=\u001b[0m \u001b[0;36m1\u001b[0m\u001b[0;34m\u001b[0m\u001b[0m\n\u001b[1;32m   1249\u001b[0m \u001b[0;34m\u001b[0m\u001b[0m\n\u001b[0;32m-> 1250\u001b[0;31m         \u001b[0mself\u001b[0m\u001b[0;34m.\u001b[0m\u001b[0mputrequest\u001b[0m\u001b[0;34m(\u001b[0m\u001b[0mmethod\u001b[0m\u001b[0;34m,\u001b[0m \u001b[0murl\u001b[0m\u001b[0;34m,\u001b[0m \u001b[0;34m**\u001b[0m\u001b[0mskips\u001b[0m\u001b[0;34m)\u001b[0m\u001b[0;34m\u001b[0m\u001b[0m\n\u001b[0m\u001b[1;32m   1251\u001b[0m \u001b[0;34m\u001b[0m\u001b[0m\n\u001b[1;32m   1252\u001b[0m         \u001b[0;31m# chunked encoding will happen if HTTP/1.1 is used and either\u001b[0m\u001b[0;34m\u001b[0m\u001b[0;34m\u001b[0m\u001b[0m\n",
      "\u001b[0;32m~/anaconda3/lib/python3.6/http/client.py\u001b[0m in \u001b[0;36mputrequest\u001b[0;34m(self, method, url, skip_host, skip_accept_encoding)\u001b[0m\n\u001b[1;32m   1106\u001b[0m             \u001b[0mself\u001b[0m\u001b[0;34m.\u001b[0m\u001b[0m__state\u001b[0m \u001b[0;34m=\u001b[0m \u001b[0m_CS_REQ_STARTED\u001b[0m\u001b[0;34m\u001b[0m\u001b[0m\n\u001b[1;32m   1107\u001b[0m         \u001b[0;32melse\u001b[0m\u001b[0;34m:\u001b[0m\u001b[0;34m\u001b[0m\u001b[0m\n\u001b[0;32m-> 1108\u001b[0;31m             \u001b[0;32mraise\u001b[0m \u001b[0mCannotSendRequest\u001b[0m\u001b[0;34m(\u001b[0m\u001b[0mself\u001b[0m\u001b[0;34m.\u001b[0m\u001b[0m__state\u001b[0m\u001b[0;34m)\u001b[0m\u001b[0;34m\u001b[0m\u001b[0m\n\u001b[0m\u001b[1;32m   1109\u001b[0m \u001b[0;34m\u001b[0m\u001b[0m\n\u001b[1;32m   1110\u001b[0m         \u001b[0;31m# Save the method we use, we need it later in the response phase\u001b[0m\u001b[0;34m\u001b[0m\u001b[0;34m\u001b[0m\u001b[0m\n",
      "\u001b[0;31mCannotSendRequest\u001b[0m: Request-sent"
     ]
    }
   ],
   "source": [
    "craw.OpenWebPage(wd, \"http://www.etnews.com/news/section.html?id1=03\" ,1)"
   ]
  },
  {
   "cell_type": "markdown",
   "metadata": {},
   "source": [
    "<h2> get max pages </h2>"
   ]
  },
  {
   "cell_type": "code",
   "execution_count": 48,
   "metadata": {},
   "outputs": [
    {
     "name": "stdout",
     "output_type": "stream",
     "text": [
      "1\n",
      "23\n"
     ]
    }
   ],
   "source": [
    "elem = wd.find_elements_by_class_name('nextpage')\n",
    "while( len(elem) !=0 ) :\n",
    "    elem[0].click()    \n",
    "    elem = wd.find_elements_by_class_name('nextpage')\n",
    "\n",
    "elems = wd.find_elements_by_class_name('paginate')\n",
    "\n",
    "listPaginate = elems[0].text.split()\n",
    "maxpage = listPaginate[ len(listPaginate) - 1]"
   ]
  },
  {
   "cell_type": "markdown",
   "metadata": {},
   "source": [
    "<h2> </h2>"
   ]
  },
  {
   "cell_type": "code",
   "execution_count": 60,
   "metadata": {},
   "outputs": [],
   "source": [
    "url_page = url_category + \"&page=%d\" % (2)\n",
    "craw.OpenWebPage(wd, url_page ,1)\n",
    "    "
   ]
  },
  {
   "cell_type": "code",
   "execution_count": 54,
   "metadata": {},
   "outputs": [
    {
     "name": "stdout",
     "output_type": "stream",
     "text": [
      "15\n",
      "http://www.etnews.com/20180802000118\n",
      "http://www.etnews.com/20180801000451\n",
      "http://www.etnews.com/20180801000468\n",
      "http://www.etnews.com/20180801000450\n",
      "http://www.etnews.com/20180801000443\n",
      "http://www.etnews.com/20180801000444\n",
      "http://www.etnews.com/20180801000435\n",
      "http://www.etnews.com/20180801000426\n",
      "http://www.etnews.com/20180801000361\n",
      "http://www.etnews.com/20180801000284\n",
      "http://www.etnews.com/20180801000283\n",
      "http://www.etnews.com/20180801000282\n",
      "http://www.etnews.com/20180801000270\n",
      "http://www.etnews.com/20180801000268\n",
      "http://www.etnews.com/20180801000192\n"
     ]
    }
   ],
   "source": [
    "class_summary = \"summury\"\n",
    "elem = wd.find_elements_by_class_name( class_summary )\n",
    "\n",
    "print( len(elem))\n",
    "for summary in elem : \n",
    "    print( summary.find_element_by_tag_name('a').get_attribute('href') )"
   ]
  },
  {
   "cell_type": "code",
   "execution_count": 61,
   "metadata": {},
   "outputs": [
    {
     "name": "stdout",
     "output_type": "stream",
     "text": [
      "page={} 1\n",
      "page={} 2\n",
      "page={} 3\n",
      "page={} 4\n",
      "page={} 5\n",
      "page={} 6\n",
      "page={} 7\n",
      "page={} 8\n",
      "page={} 9\n",
      "page={} 10\n",
      "page={} 11\n",
      "page={} 12\n",
      "page={} 13\n",
      "page={} 14\n",
      "page={} 15\n",
      "page={} 16\n",
      "page={} 17\n",
      "page={} 18\n",
      "page={} 19\n",
      "page={} 20\n",
      "page={} 21\n",
      "page={} 22\n",
      "page={} 23\n"
     ]
    }
   ],
   "source": [
    "maxpage = 23\n",
    "\n",
    "listLinks = []\n",
    "\n",
    "for i in range(1,maxpage+1):\n",
    "    print( \"page={}\" , i)\n",
    "    url_page = url_category + \"&page=%d\" % (i)\n",
    "    craw.OpenWebPage(wd, url_page ,1)\n",
    "    elem = wd.find_elements_by_class_name( class_summary )\n",
    "    for summary in elem : \n",
    "        listLinks.append( summary.find_element_by_tag_name('a').get_attribute('href') )\n",
    "   \n"
   ]
  },
  {
   "cell_type": "code",
   "execution_count": 62,
   "metadata": {},
   "outputs": [
    {
     "name": "stdout",
     "output_type": "stream",
     "text": [
      "['http://www.etnews.com/20180803000068', 'http://www.etnews.com/20180803000279', 'http://www.etnews.com/20180803000069', 'http://www.etnews.com/20180803000068', 'http://www.etnews.com/20180802000286', 'http://www.etnews.com/20180802000299', 'http://www.etnews.com/20180802000266', 'http://www.etnews.com/20180802000178', 'http://www.etnews.com/20180802000330', 'http://www.etnews.com/20180802000246', 'http://www.etnews.com/20180802000244', 'http://www.etnews.com/20180802000187', 'http://www.etnews.com/20180802000186', 'http://www.etnews.com/20180802000180', 'http://www.etnews.com/20180802000179', 'http://www.etnews.com/20180802000174', 'http://www.etnews.com/20180802000118', 'http://www.etnews.com/20180801000451', 'http://www.etnews.com/20180801000468', 'http://www.etnews.com/20180801000450', 'http://www.etnews.com/20180801000443', 'http://www.etnews.com/20180801000444', 'http://www.etnews.com/20180801000435', 'http://www.etnews.com/20180801000426', 'http://www.etnews.com/20180801000361', 'http://www.etnews.com/20180801000284', 'http://www.etnews.com/20180801000283', 'http://www.etnews.com/20180801000282', 'http://www.etnews.com/20180801000270', 'http://www.etnews.com/20180801000268', 'http://www.etnews.com/20180801000192', 'http://www.etnews.com/20180801000183', 'http://www.etnews.com/20180801000172', 'http://www.etnews.com/20180731000383', 'http://www.etnews.com/20180731000382', 'http://www.etnews.com/20180731000287', 'http://www.etnews.com/20180731000323', 'http://www.etnews.com/20180731000308', 'http://www.etnews.com/20180731000306', 'http://www.etnews.com/20180731000214', 'http://www.etnews.com/20180731000213', 'http://www.etnews.com/20180731000202', 'http://www.etnews.com/20180731000111', 'http://www.etnews.com/20180731000110', 'http://www.etnews.com/20180731000092', 'http://www.etnews.com/20180731000080', 'http://www.etnews.com/20180730000293', 'http://www.etnews.com/20180730000329', 'http://www.etnews.com/20180730000450', 'http://www.etnews.com/20180730000400', 'http://www.etnews.com/20180730000428', 'http://www.etnews.com/20180730000302', 'http://www.etnews.com/20180730000113', 'http://www.etnews.com/20180730000470', 'http://www.etnews.com/20180730000404', 'http://www.etnews.com/20180730000369', 'http://www.etnews.com/20180730000350', 'http://www.etnews.com/20180730000345', 'http://www.etnews.com/20180730000297', 'http://www.etnews.com/20180730000251', 'http://www.etnews.com/20180730000248', 'http://www.etnews.com/20180730000107', 'http://www.etnews.com/20180730000104', 'http://www.etnews.com/20180727000423', 'http://www.etnews.com/20180727000368', 'http://www.etnews.com/20180727000235', 'http://www.etnews.com/20180727000233', 'http://www.etnews.com/20180729000049', 'http://www.etnews.com/20180729000026', 'http://www.etnews.com/20180727000234', 'http://www.etnews.com/20180727000114', 'http://www.etnews.com/20180727000419', 'http://www.etnews.com/20180727000397', 'http://www.etnews.com/20180727000383', 'http://www.etnews.com/20180728000007', 'http://www.etnews.com/20180727000262', 'http://www.etnews.com/20180727000140', 'http://www.etnews.com/20180727000095', 'http://www.etnews.com/20180727000070', 'http://www.etnews.com/20180726000433', 'http://www.etnews.com/20180726000353', 'http://www.etnews.com/20180726000182', 'http://www.etnews.com/20180726000365', 'http://www.etnews.com/20180726000352', 'http://www.etnews.com/20180726000333', 'http://www.etnews.com/20180726000394', 'http://www.etnews.com/20180726000354', 'http://www.etnews.com/20180726000266', 'http://www.etnews.com/20180726000220', 'http://www.etnews.com/20180726000181', 'http://www.etnews.com/20180725000431', 'http://www.etnews.com/20180725000239', 'http://www.etnews.com/20180725000358', 'http://www.etnews.com/20180725000360', 'http://www.etnews.com/20180725000352', 'http://www.etnews.com/20180725000275', 'http://www.etnews.com/20180725000264', 'http://www.etnews.com/20180725000147', 'http://www.etnews.com/20180725000138', 'http://www.etnews.com/20180725000133', 'http://www.etnews.com/20180725000122', 'http://www.etnews.com/20180725000116', 'http://www.etnews.com/20180725000336', 'http://www.etnews.com/20180724000182', 'http://www.etnews.com/20180724000324', 'http://www.etnews.com/20180724000293', 'http://www.etnews.com/20180724000181', 'http://www.etnews.com/20180724000221', 'http://www.etnews.com/20180724000220', 'http://www.etnews.com/20180724000197', 'http://www.etnews.com/20180724000184', 'http://www.etnews.com/20180724000183', 'http://www.etnews.com/20180724000372', 'http://www.etnews.com/20180724000373', 'http://www.etnews.com/20180724000362', 'http://www.etnews.com/20180724000344', 'http://www.etnews.com/20180724000323', 'http://www.etnews.com/20180724000322', 'http://www.etnews.com/20180724000321', 'http://www.etnews.com/20180724000297', 'http://www.etnews.com/20180724000296', 'http://www.etnews.com/20180724000280', 'http://www.etnews.com/20180724000279', 'http://www.etnews.com/20180724000277', 'http://www.etnews.com/20180724000175', 'http://www.etnews.com/20180724000149', 'http://www.etnews.com/20180724000105', 'http://www.etnews.com/20180724000103', 'http://www.etnews.com/20180723000441', 'http://www.etnews.com/20180723000180', 'http://www.etnews.com/20180723000375', 'http://www.etnews.com/20180723000380', 'http://www.etnews.com/20180723000369', 'http://www.etnews.com/20180723000214', 'http://www.etnews.com/20180723000181', 'http://www.etnews.com/20180723000179', 'http://www.etnews.com/20180723000373', 'http://www.etnews.com/20180723000310', 'http://www.etnews.com/20180723000309', 'http://www.etnews.com/20180723000286', 'http://www.etnews.com/20180723000258', 'http://www.etnews.com/20180723000233', 'http://www.etnews.com/20180723000217', 'http://www.etnews.com/20180723000082', 'http://www.etnews.com/20180720000286', 'http://www.etnews.com/20180720000270', 'http://www.etnews.com/20180720000233', 'http://www.etnews.com/20180720000264', 'http://www.etnews.com/20180720000224', 'http://www.etnews.com/20180722000012', 'http://www.etnews.com/20180722000011', 'http://www.etnews.com/20180720000231', 'http://www.etnews.com/20180720000232', 'http://www.etnews.com/20180720000241', 'http://www.etnews.com/20180720000251', 'http://www.etnews.com/20180720000184', 'http://www.etnews.com/20180720000288', 'http://www.etnews.com/20180719000293', 'http://www.etnews.com/20180719000233', 'http://www.etnews.com/20180722000045', 'http://www.etnews.com/20180719000195', 'http://www.etnews.com/20180719000163', 'http://www.etnews.com/20180719000234', 'http://www.etnews.com/20180719000236', 'http://www.etnews.com/20180719000223', 'http://www.etnews.com/20180719000069', 'http://www.etnews.com/20180719000235', 'http://www.etnews.com/20180719000215', 'http://www.etnews.com/20180719000204', 'http://www.etnews.com/20180719000123', 'http://www.etnews.com/20180719000109', 'http://www.etnews.com/20180719000070', 'http://www.etnews.com/20180718000281', 'http://www.etnews.com/20180718000267', 'http://www.etnews.com/20180718000252', 'http://www.etnews.com/20180718000222', 'http://www.etnews.com/20180718000221', 'http://www.etnews.com/20180718000180', 'http://www.etnews.com/20180718000138', 'http://www.etnews.com/20180718000135', 'http://www.etnews.com/20180718000062', 'http://www.etnews.com/20180718000123', 'http://www.etnews.com/20180718000064', 'http://www.etnews.com/20180718000061', 'http://www.etnews.com/20180718000170', 'http://www.etnews.com/20180717000333', 'http://www.etnews.com/20180717000176', 'http://www.etnews.com/20180717000191', 'http://www.etnews.com/20180717000308', 'http://www.etnews.com/20180717000259', 'http://www.etnews.com/20180717000244', 'http://www.etnews.com/20180717000221', 'http://www.etnews.com/20180717000201', 'http://www.etnews.com/20180717000198', 'http://www.etnews.com/20180717000194', 'http://www.etnews.com/20180717000189', 'http://www.etnews.com/20180717000095', 'http://www.etnews.com/20180717000084', 'http://www.etnews.com/20180717000076', 'http://www.etnews.com/20180717000064', 'http://www.etnews.com/20180717000052', 'http://www.etnews.com/20180716000333', 'http://www.etnews.com/20180716000298', 'http://www.etnews.com/20180716000363', 'http://www.etnews.com/20180716000352', 'http://www.etnews.com/20180716000344', 'http://www.etnews.com/20180716000334', 'http://www.etnews.com/20180716000234', 'http://www.etnews.com/20180716000196', 'http://www.etnews.com/20180716000191', 'http://www.etnews.com/20180716000169', 'http://www.etnews.com/20180716000134', 'http://www.etnews.com/20180716000135', 'http://www.etnews.com/20180713000269', 'http://www.etnews.com/20180713000279', 'http://www.etnews.com/20180715000023', 'http://www.etnews.com/20180713000280', 'http://www.etnews.com/20180713000083', 'http://www.etnews.com/20180713000301', 'http://www.etnews.com/20180713000315', 'http://www.etnews.com/20180713000281', 'http://www.etnews.com/20180713000304', 'http://www.etnews.com/20180714000005', 'http://www.etnews.com/20180712000352', 'http://www.etnews.com/20180713000240', 'http://www.etnews.com/20180713000176', 'http://www.etnews.com/20180713000082', 'http://www.etnews.com/20180713000074', 'http://www.etnews.com/20180713000027', 'http://www.etnews.com/20180712000346', 'http://www.etnews.com/20180712000235', 'http://www.etnews.com/20180712000333', 'http://www.etnews.com/20180712000348', 'http://www.etnews.com/20180712000339', 'http://www.etnews.com/20180712000341', 'http://www.etnews.com/20180712000340', 'http://www.etnews.com/20180712000297', 'http://www.etnews.com/20180712000270', 'http://www.etnews.com/20180712000252', 'http://www.etnews.com/20180712000166', 'http://www.etnews.com/20180712000185', 'http://www.etnews.com/20180712000117', 'http://www.etnews.com/20180712000118', 'http://www.etnews.com/20180712000109', 'http://www.etnews.com/20180711000276', 'http://www.etnews.com/20180711000308', 'http://www.etnews.com/20180711000303', 'http://www.etnews.com/20180711000277', 'http://www.etnews.com/20180711000241', 'http://www.etnews.com/20180711000232', 'http://www.etnews.com/20180711000176', 'http://www.etnews.com/20180711000132', 'http://www.etnews.com/20180711000121', 'http://www.etnews.com/20180711000061', 'http://www.etnews.com/20180711000195', 'http://www.etnews.com/20180710000410', 'http://www.etnews.com/20180710000081', 'http://www.etnews.com/20180710000201', 'http://www.etnews.com/20180710000318', 'http://www.etnews.com/20180710000080', 'http://www.etnews.com/20180710000315', 'http://www.etnews.com/20180710000311', 'http://www.etnews.com/20180710000299', 'http://www.etnews.com/20180710000293', 'http://www.etnews.com/20180710000284', 'http://www.etnews.com/20180710000079', 'http://www.etnews.com/20180709000351', 'http://www.etnews.com/20180710000047', 'http://www.etnews.com/20180710000002', 'http://www.etnews.com/20180709000451', 'http://www.etnews.com/20180709000424', 'http://www.etnews.com/20180709000396', 'http://www.etnews.com/20180709000444', 'http://www.etnews.com/20180709000431', 'http://www.etnews.com/20180709000360', 'http://www.etnews.com/20180709000354', 'http://www.etnews.com/20180709000339', 'http://www.etnews.com/20180709000308', 'http://www.etnews.com/20180709000233', 'http://www.etnews.com/20180709000177', 'http://www.etnews.com/20180709000175', 'http://www.etnews.com/20180709000134', 'http://www.etnews.com/20180709000124', 'http://www.etnews.com/20180709000107', 'http://www.etnews.com/20180709000105', 'http://www.etnews.com/20180708000041', 'http://www.etnews.com/20180706000342', 'http://www.etnews.com/20180706000301', 'http://www.etnews.com/20180706000251', 'http://www.etnews.com/20180706000347', 'http://www.etnews.com/20180708000010', 'http://www.etnews.com/20180708000024', 'http://www.etnews.com/20180706000272', 'http://www.etnews.com/20180706000271', 'http://www.etnews.com/20180708000011', 'http://www.etnews.com/20180706000255', 'http://www.etnews.com/20180706000250', 'http://www.etnews.com/20180706000273', 'http://www.etnews.com/20180706000339', 'http://www.etnews.com/20180706000323', 'http://www.etnews.com/20180706000298', 'http://www.etnews.com/20180706000249', 'http://www.etnews.com/20180706000233', 'http://www.etnews.com/20180706000180', 'http://www.etnews.com/20180706000152', 'http://www.etnews.com/20180706000074', 'http://www.etnews.com/20180705000248', 'http://www.etnews.com/20180705000100', 'http://www.etnews.com/20180705000101', 'http://www.etnews.com/20180705000304', 'http://www.etnews.com/20180705000207', 'http://www.etnews.com/20180705000206', 'http://www.etnews.com/20180705000205', 'http://www.etnews.com/20180705000204', 'http://www.etnews.com/20180705000202', 'http://www.etnews.com/20180705000200', 'http://www.etnews.com/20180705000199', 'http://www.etnews.com/20180705000189', 'http://www.etnews.com/20180705000177', 'http://www.etnews.com/20180705000118', 'http://www.etnews.com/20180705000102', 'http://www.etnews.com/20180704000434', 'http://www.etnews.com/20180704000512', 'http://www.etnews.com/20180704000471', 'http://www.etnews.com/20180704000468', 'http://www.etnews.com/20180704000170', 'http://www.etnews.com/20180704000490', 'http://www.etnews.com/20180704000479', 'http://www.etnews.com/20180704000469', 'http://www.etnews.com/20180704000328', 'http://www.etnews.com/20180704000219', 'http://www.etnews.com/20180704000200', 'http://www.etnews.com/20180704000173', 'http://www.etnews.com/20180704000134', 'http://www.etnews.com/20180704000105', 'http://www.etnews.com/20180704000344', 'http://www.etnews.com/20180704000077', 'http://www.etnews.com/20180704000074', 'http://www.etnews.com/20180704000051', 'http://www.etnews.com/20180703000311']\n"
     ]
    }
   ],
   "source": [
    "print( listLinks )"
   ]
  },
  {
   "cell_type": "code",
   "execution_count": 65,
   "metadata": {},
   "outputs": [
    {
     "ename": "TypeError",
     "evalue": "object of type 'WebElement' has no len()",
     "output_type": "error",
     "traceback": [
      "\u001b[0;31m---------------------------------------------------------------------------\u001b[0m",
      "\u001b[0;31mTypeError\u001b[0m                                 Traceback (most recent call last)",
      "\u001b[0;32m<ipython-input-65-726c4915aa89>\u001b[0m in \u001b[0;36m<module>\u001b[0;34m()\u001b[0m\n\u001b[1;32m      4\u001b[0m \u001b[0mcraw\u001b[0m\u001b[0;34m.\u001b[0m\u001b[0mOpenWebPage\u001b[0m\u001b[0;34m(\u001b[0m\u001b[0mwd\u001b[0m\u001b[0;34m,\u001b[0m \u001b[0;34m\"http://www.etnews.com/20180803000068\"\u001b[0m \u001b[0;34m,\u001b[0m\u001b[0;36m1\u001b[0m\u001b[0;34m)\u001b[0m\u001b[0;34m\u001b[0m\u001b[0m\n\u001b[1;32m      5\u001b[0m \u001b[0melem\u001b[0m \u001b[0;34m=\u001b[0m \u001b[0mwd\u001b[0m\u001b[0;34m.\u001b[0m\u001b[0mfind_elements_by_class_name\u001b[0m\u001b[0;34m(\u001b[0m \u001b[0mclass_title\u001b[0m \u001b[0;34m)\u001b[0m\u001b[0;34m\u001b[0m\u001b[0m\n\u001b[0;32m----> 6\u001b[0;31m \u001b[0mprint\u001b[0m\u001b[0;34m(\u001b[0m \u001b[0mlen\u001b[0m\u001b[0;34m(\u001b[0m\u001b[0melem\u001b[0m\u001b[0;34m[\u001b[0m\u001b[0;36m0\u001b[0m\u001b[0;34m]\u001b[0m\u001b[0;34m)\u001b[0m\u001b[0;34m)\u001b[0m\u001b[0;34m\u001b[0m\u001b[0m\n\u001b[0m\u001b[1;32m      7\u001b[0m \u001b[0mprint\u001b[0m\u001b[0;34m(\u001b[0m \u001b[0melem\u001b[0m\u001b[0;34m[\u001b[0m\u001b[0;36m0\u001b[0m\u001b[0;34m]\u001b[0m\u001b[0;34m.\u001b[0m\u001b[0mtext\u001b[0m\u001b[0;34m)\u001b[0m\u001b[0;34m\u001b[0m\u001b[0m\n\u001b[1;32m      8\u001b[0m \u001b[0;34m\u001b[0m\u001b[0m\n",
      "\u001b[0;31mTypeError\u001b[0m: object of type 'WebElement' has no len()"
     ]
    }
   ],
   "source": [
    "class_title = \"article_title\"\n",
    "class_content = \"article_body\"\n",
    "\n",
    "craw.OpenWebPage(wd, \"http://www.etnews.com/20180803000068\" ,1)\n",
    "\n",
    "\n"
   ]
  },
  {
   "cell_type": "code",
   "execution_count": 70,
   "metadata": {},
   "outputs": [
    {
     "name": "stdout",
     "output_type": "stream",
     "text": [
      "1\n",
      "KT, 2분기 영업이익 3991억원...전년比 10.8%↓\n",
      "3\n",
      "2018.08.03\n",
      "1\n",
      "KT는 연결 기준 2분기 실적으로 매출 5조8069억원, 영업이익 3991억원을 기록했다.\n",
      "\n",
      "매출과 영업이익은 전년 동기 대비 각각 0.6%와 10.8% 줄었다.\n",
      "\n",
      "유무선 실적 성장은 정체된 양상을 보였는데 IPTV의 성장세는 이어졌다. IPTV 선전으로 미디어·콘텐츠 사업도 수혜를 입었다. \n",
      "\n",
      "무선 서비스 매출은 1조6672억원이다. 선택약정 할인율 상향에 따른 가입자 증가 영향과 취약계층 요금감면 등 부정적 요인으로 전년 동기 대비 0.7% 감소했다.\n",
      "\n",
      "다만 가입자가 2분기에만 약 22만명 순증하면서 무선 서비스 매출이 전분기 대비 0.4% 소폭 증가했다. 지난 5월 출시한 '데이터ON' 요금제는 1개월 만에 가입자가 50만명을 넘겼다.\n",
      "\n",
      "유선 매출은 전년 동기 대비 2.4% 줄어든 1조1963억원이다. 유선전화 이용량 감소 영향이 지속되고 있지만 기가인터넷 성자잉 하락분을 일부 상쇄했다. \n",
      "\n",
      "기가인터넷 가입자는 7월 말 기준 450만 가입자를 넘었다. KT 전체 초고속인터넷 가입자의 52%에 달한다. \n",
      "미디어·콘텐츠사업 매출은 IPTV 가입자 확대와 지니뮤직 등 자회사들의 성장을 바탕으로 전년 동기 대비 7.6% 증가한 6042억원을 달성했다. \n",
      "\n",
      "특히 별도기준 IPTV 매출은 3619억원으로 전년 동기 대비 17.2% 늘었다. 가입자는 767만명으로 전년 동기 대비 5.4% 증가했다. \n",
      "\n",
      "금융사업 매출은 중국 은련카드 매입액 감소를 일부 회복했지만 전년 동기 대비 5.2% 감소한 8667억을 기록했다. 기타서비스 매출은 인터넷데이터센터(IDC)의 사업 호조 덕에 전년 동기 대비 1.9% 증가한 5968억원을 나타냈다. \n",
      "\n",
      "2분기 마케팅비용은 6746억원으로 전년 동기 대비 1.6%, 전분기 대비 9.6% 증가했다.\n",
      "\n",
      "또 상반기 설비투자(CAPEX)로 6447억원을 집행했다. 올해 가이던스 2조3000억원의 28%를 달성했다. \n",
      "\n",
      "윤경근 KT 최고재무책임자(CFO)는 “올 하반기에는 다가오는 5G 시대를 대비하며 인공지능(AI), 블록체인 등 혁신기술 기반 플랫폼사업 분야에서 새로운 성장동력을 육성하겠다”고 말했다.\n",
      "\n",
      "박진형기자 jin@etnews.com \n",
      "\n"
     ]
    }
   ],
   "source": [
    "elem = wd.find_elements_by_class_name( class_title )\n",
    "print( len(elem))\n",
    "print( elem[0].text)\n",
    "\n",
    "\n",
    "elem = wd.find_elements_by_class_name( \"date\" )\n",
    "print( len(elem))\n",
    "print( elem[0].text.replace(\" \",\"\").split(\":\")[1])\n",
    "\n",
    "\n",
    "elem = wd.find_elements_by_class_name( class_content )\n",
    "print( len(elem))\n",
    "print( elem[0].text.split(\"기자의 다른 기사\")[0])"
   ]
  }
 ],
 "metadata": {
  "kernelspec": {
   "display_name": "Python 3",
   "language": "python",
   "name": "python3"
  },
  "language_info": {
   "codemirror_mode": {
    "name": "ipython",
    "version": 3
   },
   "file_extension": ".py",
   "mimetype": "text/x-python",
   "name": "python",
   "nbconvert_exporter": "python",
   "pygments_lexer": "ipython3",
   "version": "3.6.5"
  }
 },
 "nbformat": 4,
 "nbformat_minor": 2
}
