{
 "cells": [
  {
   "cell_type": "code",
   "execution_count": 1,
   "metadata": {},
   "outputs": [
    {
     "name": "stdout",
     "output_type": "stream",
     "text": [
      "[MSG][Load Crawler Base Component]\n"
     ]
    }
   ],
   "source": [
    "import sys\n",
    "import time\n",
    "sys.path.append(\"../Common/Crawler\")\n",
    "sys.path.append(\"../Common/Util\")\n",
    "\n",
    "import mod_crawler_base as craw\n",
    "\n",
    "isLinux = True\n",
    "isHidden = True\n",
    "\n",
    "from time import sleep\n",
    "\n",
    "wd = craw.InitWebDriver( isLinux, isHidden )"
   ]
  },
  {
   "cell_type": "markdown",
   "metadata": {},
   "source": [
    "<H2> Base URL </H2>"
   ]
  },
  {
   "cell_type": "code",
   "execution_count": 2,
   "metadata": {},
   "outputs": [],
   "source": [
    "baseUrl = \"http://news.etnews.com/\" \n",
    "craw.OpenWebPage(wd, baseUrl ,1)"
   ]
  },
  {
   "cell_type": "markdown",
   "metadata": {},
   "source": [
    "<H2> Category Links </H2>"
   ]
  },
  {
   "cell_type": "code",
   "execution_count": 3,
   "metadata": {},
   "outputs": [
    {
     "name": "stdout",
     "output_type": "stream",
     "text": [
      "0 \n",
      "0 http://www.etnews.com/news/section.html?id1=03\n",
      "1 http://www.etnews.com/news/section.html?id1=04\n",
      "2 http://www.etnews.com/news/section.html?id1=06\n",
      "3 http://www.etnews.com/news/section.html?id1=60\n",
      "4 http://www.etnews.com/news/section.html?id1=02\n",
      "5 http://www.etnews.com/news/section.html?id1=20\n",
      "6 http://www.etnews.com/news/section.html?id1=25\n",
      "7 http://www.etnews.com/news/section.html?id1=05\n",
      "8 None\n",
      "1 통신&방송\n",
      "SW&바이오\n",
      "소재&부품&과학\n",
      "전자&자동차&유통\n",
      "경제&금융\n",
      "산업&정책\n",
      "전국\n",
      "글로벌\n",
      "0 http://www.etnews.com/news/section.html?id1=03\n",
      "1 http://www.etnews.com/news/section.html?id1=04\n",
      "2 http://www.etnews.com/news/section.html?id1=06\n",
      "3 http://www.etnews.com/news/section.html?id1=60\n",
      "4 http://www.etnews.com/news/section.html?id1=02\n",
      "5 http://www.etnews.com/news/section.html?id1=20\n",
      "6 http://www.etnews.com/news/section.html?id1=25\n",
      "7 http://www.etnews.com/news/section.html?id1=05\n"
     ]
    }
   ],
   "source": [
    "listElem = wd.find_elements_by_class_name( 'clearfix' ) \n",
    "\n",
    "for i,Elem in enumerate( listElem ) : \n",
    "    listTagA = Elem.find_elements_by_tag_name('a')\n",
    "    print( i, Elem.text )\n",
    "    for j, Tag in enumerate( listTagA ) :        \n",
    "        print( j,Tag.get_attribute('href') ) "
   ]
  },
  {
   "cell_type": "code",
   "execution_count": 4,
   "metadata": {},
   "outputs": [],
   "source": [
    "url_category = \"http://www.etnews.com/news/section.html?id1=03\""
   ]
  },
  {
   "cell_type": "code",
   "execution_count": 5,
   "metadata": {},
   "outputs": [],
   "source": [
    "craw.OpenWebPage(wd, \"http://www.etnews.com/news/section.html?id1=03\" ,1)"
   ]
  },
  {
   "cell_type": "markdown",
   "metadata": {},
   "source": [
    "<h2> get max pages </h2>"
   ]
  },
  {
   "cell_type": "code",
   "execution_count": 6,
   "metadata": {},
   "outputs": [],
   "source": [
    "elem = wd.find_elements_by_class_name('nextpage')\n",
    "while( len(elem) !=0 ) :\n",
    "    elem[0].click()    \n",
    "    elem = wd.find_elements_by_class_name('nextpage')\n",
    "\n",
    "elems = wd.find_elements_by_class_name('paginate')\n",
    "\n",
    "listPaginate = elems[0].text.split()\n",
    "maxpage = listPaginate[ len(listPaginate) - 1]"
   ]
  },
  {
   "cell_type": "markdown",
   "metadata": {},
   "source": [
    "<h2> </h2>"
   ]
  },
  {
   "cell_type": "code",
   "execution_count": 7,
   "metadata": {},
   "outputs": [],
   "source": [
    "url_page = url_category + \"&page=%d\" % (2)\n",
    "craw.OpenWebPage(wd, url_page ,1)\n",
    "    "
   ]
  },
  {
   "cell_type": "code",
   "execution_count": 8,
   "metadata": {},
   "outputs": [
    {
     "name": "stdout",
     "output_type": "stream",
     "text": [
      "15\n",
      "http://www.etnews.com/20180922000032\n",
      "http://www.etnews.com/20180922000029\n",
      "http://www.etnews.com/20180922000023\n",
      "http://www.etnews.com/20180922000018\n",
      "http://www.etnews.com/20180922000013\n",
      "http://www.etnews.com/20180922000005\n",
      "http://www.etnews.com/20180921000231\n",
      "http://www.etnews.com/20180921000096\n",
      "http://www.etnews.com/20180921000089\n",
      "http://www.etnews.com/20180921000066\n",
      "http://www.etnews.com/20180921000031\n",
      "http://www.etnews.com/20180921000025\n",
      "http://www.etnews.com/20180921000019\n",
      "http://www.etnews.com/20180921000018\n",
      "http://www.etnews.com/20180921000012\n"
     ]
    }
   ],
   "source": [
    "class_summary = \"summury\"\n",
    "elem = wd.find_elements_by_class_name( class_summary )\n",
    "\n",
    "print( len(elem))\n",
    "for summary in elem : \n",
    "    print( summary.find_element_by_tag_name('a').get_attribute('href') )"
   ]
  },
  {
   "cell_type": "code",
   "execution_count": 9,
   "metadata": {},
   "outputs": [
    {
     "name": "stdout",
     "output_type": "stream",
     "text": [
      "page={} 1\n",
      "page={} 2\n",
      "page={} 3\n",
      "page={} 4\n",
      "page={} 5\n",
      "page={} 6\n",
      "page={} 7\n",
      "page={} 8\n",
      "page={} 9\n",
      "page={} 10\n",
      "page={} 11\n",
      "page={} 12\n",
      "page={} 13\n",
      "page={} 14\n",
      "page={} 15\n",
      "page={} 16\n",
      "page={} 17\n",
      "page={} 18\n",
      "page={} 19\n",
      "page={} 20\n",
      "page={} 21\n",
      "page={} 22\n",
      "page={} 23\n"
     ]
    }
   ],
   "source": [
    "maxpage = 23\n",
    "\n",
    "listLinks = []\n",
    "\n",
    "for i in range(1,maxpage+1):\n",
    "    print( \"page={}\" , i)\n",
    "    url_page = url_category + \"&page=%d\" % (i)\n",
    "    craw.OpenWebPage(wd, url_page ,1)\n",
    "    elem = wd.find_elements_by_class_name( class_summary )\n",
    "    for summary in elem : \n",
    "        listLinks.append( summary.find_element_by_tag_name('a').get_attribute('href') )\n",
    "   \n"
   ]
  },
  {
   "cell_type": "code",
   "execution_count": 10,
   "metadata": {},
   "outputs": [
    {
     "name": "stdout",
     "output_type": "stream",
     "text": [
      "['http://www.etnews.com/20180925000038', 'http://www.etnews.com/20180925000038', 'http://www.etnews.com/20180925000037', 'http://www.etnews.com/20180925000036', 'http://www.etnews.com/20180925000035', 'http://www.etnews.com/20180925000034', 'http://www.etnews.com/20180924000030', 'http://www.etnews.com/20180924000029', 'http://www.etnews.com/20180924000014', 'http://www.etnews.com/20180924000013', 'http://www.etnews.com/20180924000007', 'http://www.etnews.com/20180924000006', 'http://www.etnews.com/20180923000026', 'http://www.etnews.com/20180923000013', 'http://www.etnews.com/20180923000007', 'http://www.etnews.com/20180922000039', 'http://www.etnews.com/20180922000032', 'http://www.etnews.com/20180922000029', 'http://www.etnews.com/20180922000023', 'http://www.etnews.com/20180922000018', 'http://www.etnews.com/20180922000013', 'http://www.etnews.com/20180922000005', 'http://www.etnews.com/20180921000231', 'http://www.etnews.com/20180921000096', 'http://www.etnews.com/20180921000089', 'http://www.etnews.com/20180921000066', 'http://www.etnews.com/20180921000031', 'http://www.etnews.com/20180921000025', 'http://www.etnews.com/20180921000019', 'http://www.etnews.com/20180921000018', 'http://www.etnews.com/20180921000012', 'http://www.etnews.com/20180921000009', 'http://www.etnews.com/20180921000007', 'http://www.etnews.com/20180921000006', 'http://www.etnews.com/20180921000005', 'http://www.etnews.com/20180920000411', 'http://www.etnews.com/20180920000227', 'http://www.etnews.com/20180920000178', 'http://www.etnews.com/20180912000178', 'http://www.etnews.com/20180912000177', 'http://www.etnews.com/20180920000328', 'http://www.etnews.com/20180920000308', 'http://www.etnews.com/20180920000307', 'http://www.etnews.com/20180920000295', 'http://www.etnews.com/20180920000293', 'http://www.etnews.com/20180920000288', 'http://www.etnews.com/20180920000262', 'http://www.etnews.com/20180920000221', 'http://www.etnews.com/20180920000194', 'http://www.etnews.com/20180920000176', 'http://www.etnews.com/20180920000175', 'http://www.etnews.com/20180920000164', 'http://www.etnews.com/20180920000140', 'http://www.etnews.com/20180920000104', 'http://www.etnews.com/20180920000023', 'http://www.etnews.com/20180919000137', 'http://www.etnews.com/20180919000247', 'http://www.etnews.com/20180919000136', 'http://www.etnews.com/20180913000303', 'http://www.etnews.com/20180913000302', 'http://www.etnews.com/20180913000104', 'http://www.etnews.com/20180913000102', 'http://www.etnews.com/20180919000349', 'http://www.etnews.com/20180919000312', 'http://www.etnews.com/20180919000310', 'http://www.etnews.com/20180919000285', 'http://www.etnews.com/20180919000262', 'http://www.etnews.com/20180919000254', 'http://www.etnews.com/20180919000252', 'http://www.etnews.com/20180919000134', 'http://www.etnews.com/20180919000133', 'http://www.etnews.com/20180919000135', 'http://www.etnews.com/20180918000397', 'http://www.etnews.com/20180918000058', 'http://www.etnews.com/20180918000303', 'http://www.etnews.com/20180913000177', 'http://www.etnews.com/20180912000241', 'http://www.etnews.com/20180911000414', 'http://www.etnews.com/20180911000413', 'http://www.etnews.com/20180918000298', 'http://www.etnews.com/20180918000295', 'http://www.etnews.com/20180918000294', 'http://www.etnews.com/20180918000284', 'http://www.etnews.com/20180918000283', 'http://www.etnews.com/20180918000173', 'http://www.etnews.com/20180918000172', 'http://www.etnews.com/20180918000120', 'http://www.etnews.com/20180918000088', 'http://www.etnews.com/20180917000427', 'http://www.etnews.com/20180917000327', 'http://www.etnews.com/20180917000353', 'http://www.etnews.com/20180917000299', 'http://www.etnews.com/20180916000031', 'http://www.etnews.com/20180917000372', 'http://www.etnews.com/20180917000352', 'http://www.etnews.com/20180917000338', 'http://www.etnews.com/20180917000337', 'http://www.etnews.com/20180917000298', 'http://www.etnews.com/20180917000296', 'http://www.etnews.com/20180917000268', 'http://www.etnews.com/20180917000228', 'http://www.etnews.com/20180917000107', 'http://www.etnews.com/20180914000199', 'http://www.etnews.com/20180916000035', 'http://www.etnews.com/20180914000288', 'http://www.etnews.com/20180914000296', 'http://www.etnews.com/20180914000287', 'http://www.etnews.com/20180914000286', 'http://www.etnews.com/20180914000277', 'http://www.etnews.com/20180916000029', 'http://www.etnews.com/20180916000025', 'http://www.etnews.com/20180916000022', 'http://www.etnews.com/20180914000241', 'http://www.etnews.com/20180914000264', 'http://www.etnews.com/20180916000009', 'http://www.etnews.com/20180914000293', 'http://www.etnews.com/20180914000265', 'http://www.etnews.com/20180914000273', 'http://www.etnews.com/20180914000266', 'http://www.etnews.com/20180914000188', 'http://www.etnews.com/20180914000059', 'http://www.etnews.com/20180913000348', 'http://www.etnews.com/20180913000239', 'http://www.etnews.com/20180913000231', 'http://www.etnews.com/20180913000328', 'http://www.etnews.com/20180913000309', 'http://www.etnews.com/20180913000291', 'http://www.etnews.com/20180913000288', 'http://www.etnews.com/20180913000280', 'http://www.etnews.com/20180913000277', 'http://www.etnews.com/20180913000249', 'http://www.etnews.com/20180913000248', 'http://www.etnews.com/20180913000193', 'http://www.etnews.com/20180913000121', 'http://www.etnews.com/20180913000109', 'http://www.etnews.com/20180912000330', 'http://www.etnews.com/20180913000081', 'http://www.etnews.com/20180913000005', 'http://www.etnews.com/20180913000004', 'http://www.etnews.com/20180913000003', 'http://www.etnews.com/20180913000002', 'http://www.etnews.com/20180912000305', 'http://www.etnews.com/20180912000351', 'http://www.etnews.com/20180912000306', 'http://www.etnews.com/20180912000339', 'http://www.etnews.com/20180912000337', 'http://www.etnews.com/20180912000338', 'http://www.etnews.com/20180912000297', 'http://www.etnews.com/20180912000259', 'http://www.etnews.com/20180912000226', 'http://www.etnews.com/20180912000199', 'http://www.etnews.com/20180912000169', 'http://www.etnews.com/20180912000170', 'http://www.etnews.com/20180912000167', 'http://www.etnews.com/20180912000152', 'http://www.etnews.com/20180912000147', 'http://www.etnews.com/20180912000130', 'http://www.etnews.com/20180911000290', 'http://www.etnews.com/20180911000415', 'http://www.etnews.com/20180911000272', 'http://www.etnews.com/20180911000347', 'http://www.etnews.com/20180911000254', 'http://www.etnews.com/20180911000229', 'http://www.etnews.com/20180911000343', 'http://www.etnews.com/20180911000315', 'http://www.etnews.com/20180911000366', 'http://www.etnews.com/20180911000326', 'http://www.etnews.com/20180911000295', 'http://www.etnews.com/20180911000286', 'http://www.etnews.com/20180911000270', 'http://www.etnews.com/20180911000264', 'http://www.etnews.com/20180911000227', 'http://www.etnews.com/20180911000198', 'http://www.etnews.com/20180911000194', 'http://www.etnews.com/20180911000190', 'http://www.etnews.com/20180911000175', 'http://www.etnews.com/20180911000155', 'http://www.etnews.com/20180911000106', 'http://www.etnews.com/20180910000280', 'http://www.etnews.com/20180910000345', 'http://www.etnews.com/20180910000306', 'http://www.etnews.com/20180910000279', 'http://www.etnews.com/20180910000277', 'http://www.etnews.com/20180910000254', 'http://www.etnews.com/20180910000253', 'http://www.etnews.com/20180910000187', 'http://www.etnews.com/20180910000168', 'http://www.etnews.com/20180910000167', 'http://www.etnews.com/20180910000118', 'http://www.etnews.com/20180910000059', 'http://www.etnews.com/20180907000253', 'http://www.etnews.com/20180907000232', 'http://www.etnews.com/20180907000227', 'http://www.etnews.com/20180907000226', 'http://www.etnews.com/20180909000034', 'http://www.etnews.com/20180909000058', 'http://www.etnews.com/20180909000044', 'http://www.etnews.com/20180909000037', 'http://www.etnews.com/20180909000036', 'http://www.etnews.com/20180909000035', 'http://www.etnews.com/20180909000033', 'http://www.etnews.com/20180909000046', 'http://www.etnews.com/20180909000038', 'http://www.etnews.com/20180909000021', 'http://www.etnews.com/20180907000220', 'http://www.etnews.com/20180907000219', 'http://www.etnews.com/20180909000043', 'http://www.etnews.com/20180907000218', 'http://www.etnews.com/20180908000002', 'http://www.etnews.com/20180907000290', 'http://www.etnews.com/20180906000097', 'http://www.etnews.com/20180907000172', 'http://www.etnews.com/20180906000375', 'http://www.etnews.com/20180906000287', 'http://www.etnews.com/20180906000195', 'http://www.etnews.com/20180906000170', 'http://www.etnews.com/20180906000337', 'http://www.etnews.com/20180906000335', 'http://www.etnews.com/20180906000303', 'http://www.etnews.com/20180906000136', 'http://www.etnews.com/20180906000113', 'http://www.etnews.com/20180906000102', 'http://www.etnews.com/20180906000098', 'http://www.etnews.com/20180906000100', 'http://www.etnews.com/20180906000066', 'http://www.etnews.com/20180905000307', 'http://www.etnews.com/20180905000182', 'http://www.etnews.com/20180905000312', 'http://www.etnews.com/20180905000238', 'http://www.etnews.com/20180905000337', 'http://www.etnews.com/20180905000317', 'http://www.etnews.com/20180905000299', 'http://www.etnews.com/20180905000262', 'http://www.etnews.com/20180905000261', 'http://www.etnews.com/20180905000260', 'http://www.etnews.com/20180905000242', 'http://www.etnews.com/20180905000228', 'http://www.etnews.com/20180905000185', 'http://www.etnews.com/20180905000181', 'http://www.etnews.com/20180904000292', 'http://www.etnews.com/20180904000316', 'http://www.etnews.com/20180904000318', 'http://www.etnews.com/20180904000317', 'http://www.etnews.com/20180904000344', 'http://www.etnews.com/20180904000338', 'http://www.etnews.com/20180904000320', 'http://www.etnews.com/20180904000310', 'http://www.etnews.com/20180904000179', 'http://www.etnews.com/20180904000169', 'http://www.etnews.com/20180904000170', 'http://www.etnews.com/20180904000140', 'http://www.etnews.com/20180904000139', 'http://www.etnews.com/20180904000138', 'http://www.etnews.com/20180904000112', 'http://www.etnews.com/20180904000110', 'http://www.etnews.com/20180903000407', 'http://www.etnews.com/20180903000392', 'http://www.etnews.com/20180903000342', 'http://www.etnews.com/20180903000328', 'http://www.etnews.com/20180903000348', 'http://www.etnews.com/20180903000363', 'http://www.etnews.com/20180903000375', 'http://www.etnews.com/20180903000175', 'http://www.etnews.com/20180903000174', 'http://www.etnews.com/20180903000390', 'http://www.etnews.com/20180903000338', 'http://www.etnews.com/20180903000332', 'http://www.etnews.com/20180903000232', 'http://www.etnews.com/20180903000171', 'http://www.etnews.com/20180903000170', 'http://www.etnews.com/20180903000169', 'http://www.etnews.com/20180903000168', 'http://www.etnews.com/20180903000166', 'http://www.etnews.com/20180903000096', 'http://www.etnews.com/20180903000089', 'http://www.etnews.com/20180831000265', 'http://www.etnews.com/20180831000147', 'http://www.etnews.com/20180831000286', 'http://www.etnews.com/20180831000278', 'http://www.etnews.com/20180831000268', 'http://www.etnews.com/20180831000197', 'http://www.etnews.com/20180831000146', 'http://www.etnews.com/20180831000207', 'http://www.etnews.com/20180902000083', 'http://www.etnews.com/20180831000285', 'http://www.etnews.com/20180831000269', 'http://www.etnews.com/20180831000263', 'http://www.etnews.com/20180831000216', 'http://www.etnews.com/20180831000108', 'http://www.etnews.com/20180831000105', 'http://www.etnews.com/20180831000164', 'http://www.etnews.com/20180831000163', 'http://www.etnews.com/20180831000065', 'http://www.etnews.com/20180831000052', 'http://www.etnews.com/20180831000004', 'http://www.etnews.com/20180830000295', 'http://www.etnews.com/20180830000257', 'http://www.etnews.com/20180830000223', 'http://www.etnews.com/20180830000240', 'http://www.etnews.com/20180830000286', 'http://www.etnews.com/20180830000274', 'http://www.etnews.com/20180830000256', 'http://www.etnews.com/20180830000258', 'http://www.etnews.com/20180830000219', 'http://www.etnews.com/20180830000218', 'http://www.etnews.com/20180830000216', 'http://www.etnews.com/20180830000206', 'http://www.etnews.com/20180830000205', 'http://www.etnews.com/20180830000200', 'http://www.etnews.com/20180829000353', 'http://www.etnews.com/20180829000263', 'http://www.etnews.com/20180829000224', 'http://www.etnews.com/20180829000291', 'http://www.etnews.com/20180829000273', 'http://www.etnews.com/20180829000255', 'http://www.etnews.com/20180829000237', 'http://www.etnews.com/20180829000222', 'http://www.etnews.com/20180829000214', 'http://www.etnews.com/20180829000188', 'http://www.etnews.com/20180829000117', 'http://www.etnews.com/20180829000070', 'http://www.etnews.com/20180829000069', 'http://www.etnews.com/20180827000330', 'http://www.etnews.com/20180828000163', 'http://www.etnews.com/20180828000157', 'http://www.etnews.com/20180828000260', 'http://www.etnews.com/20180828000194', 'http://www.etnews.com/20180828000105', 'http://www.etnews.com/20180828000165', 'http://www.etnews.com/20180828000276', 'http://www.etnews.com/20180828000275', 'http://www.etnews.com/20180828000273', 'http://www.etnews.com/20180828000268', 'http://www.etnews.com/20180828000252', 'http://www.etnews.com/20180828000249', 'http://www.etnews.com/20180828000248', 'http://www.etnews.com/20180828000196', 'http://www.etnews.com/20180828000195', 'http://www.etnews.com/20180828000169', 'http://www.etnews.com/20180828000155', 'http://www.etnews.com/20180827000244', 'http://www.etnews.com/20180827000245', 'http://www.etnews.com/20180827000209', 'http://www.etnews.com/20180827000298', 'http://www.etnews.com/20180827000180', 'http://www.etnews.com/20180827000300']\n"
     ]
    }
   ],
   "source": [
    "print( listLinks )"
   ]
  },
  {
   "cell_type": "code",
   "execution_count": 11,
   "metadata": {},
   "outputs": [],
   "source": [
    "class_title = \"article_title\"\n",
    "class_content = \"article_body\"\n",
    "\n",
    "craw.OpenWebPage(wd, \"http://www.etnews.com/20180803000068\" ,1)\n",
    "\n",
    "\n"
   ]
  },
  {
   "cell_type": "code",
   "execution_count": 12,
   "metadata": {},
   "outputs": [
    {
     "name": "stdout",
     "output_type": "stream",
     "text": [
      "1\n",
      "KT, 2분기 영업이익 3991억원...전년比 10.8%↓\n",
      "2\n",
      "2018.08.03\n",
      "1\n",
      "KT는 연결 기준 2분기 실적으로 매출 5조8069억원, 영업이익 3991억원을 기록했다.\n",
      "\n",
      "매출과 영업이익은 전년 동기 대비 각각 0.6%와 10.8% 줄었다.\n",
      "\n",
      "유무선 실적 성장은 정체된 양상을 보였는데 IPTV의 성장세는 이어졌다. IPTV 선전으로 미디어·콘텐츠 사업도 수혜를 입었다. \n",
      "\n",
      "무선 서비스 매출은 1조6672억원이다. 선택약정 할인율 상향에 따른 가입자 증가 영향과 취약계층 요금감면 등 부정적 요인으로 전년 동기 대비 0.7% 감소했다.\n",
      "\n",
      "다만 가입자가 2분기에만 약 22만명 순증하면서 무선 서비스 매출이 전분기 대비 0.4% 소폭 증가했다. 지난 5월 출시한 '데이터ON' 요금제는 1개월 만에 가입자가 50만명을 넘겼다.\n",
      "\n",
      "유선 매출은 전년 동기 대비 2.4% 줄어든 1조1963억원이다. 유선전화 이용량 감소 영향이 지속되고 있지만 기가인터넷 성자잉 하락분을 일부 상쇄했다. \n",
      "\n",
      "기가인터넷 가입자는 7월 말 기준 450만 가입자를 넘었다. KT 전체 초고속인터넷 가입자의 52%에 달한다. \n",
      "미디어·콘텐츠사업 매출은 IPTV 가입자 확대와 지니뮤직 등 자회사들의 성장을 바탕으로 전년 동기 대비 7.6% 증가한 6042억원을 달성했다. \n",
      "\n",
      "특히 별도기준 IPTV 매출은 3619억원으로 전년 동기 대비 17.2% 늘었다. 가입자는 767만명으로 전년 동기 대비 5.4% 증가했다. \n",
      "\n",
      "금융사업 매출은 중국 은련카드 매입액 감소를 일부 회복했지만 전년 동기 대비 5.2% 감소한 8667억을 기록했다. 기타서비스 매출은 인터넷데이터센터(IDC)의 사업 호조 덕에 전년 동기 대비 1.9% 증가한 5968억원을 나타냈다. \n",
      "\n",
      "2분기 마케팅비용은 6746억원으로 전년 동기 대비 1.6%, 전분기 대비 9.6% 증가했다.\n",
      "\n",
      "또 상반기 설비투자(CAPEX)로 6447억원을 집행했다. 올해 가이던스 2조3000억원의 28%를 달성했다. \n",
      "\n",
      "윤경근 KT 최고재무책임자(CFO)는 “올 하반기에는 다가오는 5G 시대를 대비하며 인공지능(AI), 블록체인 등 혁신기술 기반 플랫폼사업 분야에서 새로운 성장동력을 육성하겠다”고 말했다.\n",
      "\n",
      "박진형기자 jin@etnews.com \n",
      "\n"
     ]
    }
   ],
   "source": [
    "elem = wd.find_elements_by_class_name( class_title )\n",
    "print( len(elem))\n",
    "print( elem[0].text)\n",
    "\n",
    "\n",
    "elem = wd.find_elements_by_class_name( \"date\" )\n",
    "print( len(elem))\n",
    "print( elem[0].text.replace(\" \",\"\").split(\":\")[1])\n",
    "\n",
    "\n",
    "elem = wd.find_elements_by_class_name( class_content )\n",
    "print( len(elem))\n",
    "print( elem[0].text.split(\"기자의 다른 기사\")[0])"
   ]
  }
 ],
 "metadata": {
  "kernelspec": {
   "display_name": "Python 3",
   "language": "python",
   "name": "python3"
  },
  "language_info": {
   "codemirror_mode": {
    "name": "ipython",
    "version": 3
   },
   "file_extension": ".py",
   "mimetype": "text/x-python",
   "name": "python",
   "nbconvert_exporter": "python",
   "pygments_lexer": "ipython3",
   "version": "3.6.5"
  }
 },
 "nbformat": 4,
 "nbformat_minor": 2
}
