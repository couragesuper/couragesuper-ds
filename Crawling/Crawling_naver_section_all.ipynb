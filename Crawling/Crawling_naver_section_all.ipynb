{
 "cells": [
  {
   "cell_type": "code",
   "execution_count": 8,
   "metadata": {},
   "outputs": [],
   "source": [
    "import sys\n",
    "import time\n",
    "sys.path.append(\"../Common/Crawler\")\n",
    "sys.path.append(\"../Common/Util\")\n",
    "\n",
    "import mod_crawler_base as craw\n",
    "\n",
    "isLinux = True\n",
    "isHidden = True\n",
    "\n",
    "from time import sleep\n",
    "\n",
    "wd = craw.InitWebDriver( isLinux, isHidden )"
   ]
  },
  {
   "cell_type": "code",
   "execution_count": 9,
   "metadata": {},
   "outputs": [],
   "source": [
    "\n",
    "\n",
    "listSectionNm    = ['종합', '정치', '경제', '사회', '생활/문화', '세계', 'IT/과학', '포토', 'TV']\n",
    "listSectionID    = ['100', '101', '102', '103', '104', '105', '106', '003', '115']\n",
    "listSections     = []\n",
    "listSections_URL = []\n",
    "\n",
    "delay_sleep = 0.5\n",
    "\n",
    "\n",
    "\n",
    "def get_naver_section_url( wd , ymd , sectionID ) :\n",
    "    urlSect = \"https://news.naver.com/main/ranking/popularDay.nhn?rankingType=popular_day&sectionId=%s&date=%s\" % ( sectionID, ymd )\n",
    "    craw.OpenWebPage(wd, urlSect ,1)\n",
    "    listElem = wd.find_elements_by_class_name( 'ranking_item' )\n",
    "    for i,elem in enumerate( listElem ):\n",
    "        listSections.append( elem.text.split(\"\\n\")[0] )\n",
    "        listSections_URL.append( elem.find_element_by_tag_name('a').get_attribute('href')  )\n",
    "    return\n",
    "\n",
    "def crawling_naver_sections(wd, ymd):\n",
    "    css_head = \"tts_head\"\n",
    "    css_contents = \"article_body\"\n",
    "    for sectionID in listSectionID:\n",
    "        get_naver_section_url(wd, ymd, sectionID)\n",
    "        now = time.localtime()\n",
    "        time_str = \"%4d%02d%02d_%02d%02d%02d\" % (now.tm_year, now.tm_mon, now.tm_mday, now.tm_hour, now.tm_min, now.tm_sec)\n",
    "        time_str_day = \"%4d%02d%02d\" % (now.tm_year, now.tm_mon, now.tm_mday)\n",
    "        with open(\"naver_section_\" + sectionID + \"_\" + time_str + \".txt\", \"w+\", encoding='utf-8') as f:\n",
    "            idx = 0\n",
    "            for url in listSections_URL:\n",
    "                craw.OpenWebPage(wd, url, 1)\n",
    "                # 1.TODAY_INDEX\n",
    "                f.write(str(idx))\n",
    "                f.write(\"\\t\")\n",
    "\n",
    "                idx = idx + 1\n",
    "\n",
    "                # 2.time_str_day\n",
    "                f.write(time_str_day)\n",
    "                f.write(\"\\t\")\n",
    "\n",
    "                # 3.TITLE\n",
    "                elem = wd.find_elements_by_class_name(css_head)\n",
    "                print(elem[0].text)\n",
    "                f.write(elem[0].text)\n",
    "                f.write(\"\\t\")\n",
    "\n",
    "                # 4.CONTENT\n",
    "                elem = wd.find_elements_by_class_name(css_contents)\n",
    "                content_txt = elem[0].text.replace(\"\\n\", \"  \").replace(\"\\r\", \"  \")\n",
    "                \n",
    "                # Naver 좋아요 이후로 제거 \n",
    "                pos1 = content_txt.find( \"좋아요\" )\n",
    "                pos2 = content_txt.find(\"훈훈해요\")\n",
    "\n",
    "                if( (pos2 - pos1) < 20 ) :\n",
    "                    content_txt = content_txt[:pos1]\n",
    "\n",
    "                print(content_txt)\n",
    "                f.write(content_txt)\n",
    "                f.write(\"\\n\")\n",
    "                sleep( delay_sleep )\n"
   ]
  },
  {
   "cell_type": "code",
   "execution_count": null,
   "metadata": {},
   "outputs": [],
   "source": [
    "def Main() :\n",
    "    crawling_naver_sections(wd, \"20180724\")\n",
    "Main()"
   ]
  }
 ],
 "metadata": {
  "kernelspec": {
   "display_name": "Python 3",
   "language": "python",
   "name": "python3"
  },
  "language_info": {
   "codemirror_mode": {
    "name": "ipython",
    "version": 3
   },
   "file_extension": ".py",
   "mimetype": "text/x-python",
   "name": "python",
   "nbconvert_exporter": "python",
   "pygments_lexer": "ipython3",
   "version": "3.6.5"
  }
 },
 "nbformat": 4,
 "nbformat_minor": 2
}
