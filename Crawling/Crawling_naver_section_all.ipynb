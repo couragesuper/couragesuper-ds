{
 "cells": [
  {
   "cell_type": "code",
   "execution_count": 2,
   "metadata": {},
   "outputs": [
    {
     "ename": "TypeError",
     "evalue": "InitWebDriver() takes 1 positional argument but 2 were given",
     "output_type": "error",
     "traceback": [
      "\u001b[0;31m---------------------------------------------------------------------------\u001b[0m",
      "\u001b[0;31mTypeError\u001b[0m                                 Traceback (most recent call last)",
      "\u001b[0;32m<ipython-input-2-574eaee9a2fd>\u001b[0m in \u001b[0;36m<module>\u001b[0;34m()\u001b[0m\n\u001b[1;32m     15\u001b[0m \u001b[0mdelay_sleep\u001b[0m \u001b[0;34m=\u001b[0m \u001b[0;36m0.5\u001b[0m\u001b[0;34m\u001b[0m\u001b[0m\n\u001b[1;32m     16\u001b[0m \u001b[0;34m\u001b[0m\u001b[0m\n\u001b[0;32m---> 17\u001b[0;31m \u001b[0mwd\u001b[0m \u001b[0;34m=\u001b[0m \u001b[0mcraw\u001b[0m\u001b[0;34m.\u001b[0m\u001b[0mInitWebDriver\u001b[0m\u001b[0;34m(\u001b[0m \u001b[0misLinux\u001b[0m\u001b[0;34m,\u001b[0m \u001b[0misHidden\u001b[0m \u001b[0;34m)\u001b[0m\u001b[0;34m\u001b[0m\u001b[0m\n\u001b[0m\u001b[1;32m     18\u001b[0m \u001b[0;34m\u001b[0m\u001b[0m\n\u001b[1;32m     19\u001b[0m \u001b[0;32mdef\u001b[0m \u001b[0mget_naver_section_url\u001b[0m\u001b[0;34m(\u001b[0m \u001b[0mwd\u001b[0m \u001b[0;34m,\u001b[0m \u001b[0mymd\u001b[0m \u001b[0;34m,\u001b[0m \u001b[0msectionID\u001b[0m \u001b[0;34m)\u001b[0m \u001b[0;34m:\u001b[0m\u001b[0;34m\u001b[0m\u001b[0m\n",
      "\u001b[0;31mTypeError\u001b[0m: InitWebDriver() takes 1 positional argument but 2 were given"
     ]
    }
   ],
   "source": [
    "isLinux = True\n",
    "isHidden = True\n",
    "\n",
    "import sys\n",
    "import time\n",
    "if( isLinux ) : sys.path.append('../Lib')\n",
    "import mod_craw as craw\n",
    "from time import sleep\n",
    "\n",
    "listSectionNm    = ['종합', '정치', '경제', '사회', '생활/문화', '세계', 'IT/과학', '포토', 'TV']\n",
    "listSectionID    = ['100', '101', '102', '103', '104', '105', '106', '003', '115']\n",
    "listSections     = []\n",
    "listSections_URL = []\n",
    "\n",
    "delay_sleep = 0.5\n",
    "\n",
    "wd = craw.InitWebDriver( isLinux, isHidden )\n",
    "\n",
    "def get_naver_section_url( wd , ymd , sectionID ) :\n",
    "    urlSect = \"https://news.naver.com/main/ranking/popularDay.nhn?rankingType=popular_day&sectionId=%s&date=%s\" % ( sectionID, ymd )\n",
    "    craw.OpenWebPage(wd, urlSect ,1)\n",
    "    listElem = wd.find_elements_by_class_name( 'ranking_item' )\n",
    "    for i,elem in enumerate( listElem ):\n",
    "        listSections.append( elem.text.split(\"\\n\")[0] )\n",
    "        listSections_URL.append( elem.find_element_by_tag_name('a').get_attribute('href')  )\n",
    "    return\n",
    "\n",
    "def crawling_naver_sections(wd, ymd):\n",
    "    css_head = \"tts_head\"\n",
    "    css_contents = \"article_body\"\n",
    "    for sectionID in listSectionID:\n",
    "        get_naver_section_url(wd, ymd, sectionID)\n",
    "        now = time.localtime()\n",
    "        time_str = \"%4d%02d%02d_%02d%02d%02d\" % (now.tm_year, now.tm_mon, now.tm_mday, now.tm_hour, now.tm_min, now.tm_sec)\n",
    "        time_str_day = \"%4d%02d%02d\" % (now.tm_year, now.tm_mon, now.tm_mday)\n",
    "        with open(\"naver_section_\" + sectionID + \"_\" + time_str + \".txt\", \"w+\", encoding='utf-8') as f:\n",
    "            idx = 0\n",
    "            for url in listSections_URL:\n",
    "                craw.OpenWebPage(wd, url, 1)\n",
    "                # 1.TODAY_INDEX\n",
    "                f.write(str(idx))\n",
    "                f.write(\"\\t\")\n",
    "\n",
    "                idx = idx + 1\n",
    "\n",
    "                # 2.time_str_day\n",
    "                f.write(time_str_day)\n",
    "                f.write(\"\\t\")\n",
    "\n",
    "                # 3.TITLE\n",
    "                elem = wd.find_elements_by_class_name(css_head)\n",
    "                print(elem[0].text)\n",
    "                f.write(elem[0].text)\n",
    "                f.write(\"\\t\")\n",
    "\n",
    "                # 4.CONTENT\n",
    "                elem = wd.find_elements_by_class_name(css_contents)\n",
    "                content_txt = elem[0].text.replace(\"\\n\", \"  \").replace(\"\\r\", \"  \")\n",
    "                \n",
    "                # Naver 좋아요 이후로 제거 \n",
    "                pos1 = content_txt.find( \"좋아요\" )\n",
    "                pos2 = content_txt.find(\"훈훈해요\")\n",
    "\n",
    "                if( (pos2 - pos1) < 20 ) :\n",
    "                    content_txt = content_txt[:pos1]\n",
    "\n",
    "                print(content_txt)\n",
    "                f.write(content_txt)\n",
    "                f.write(\"\\n\")\n",
    "                sleep( delay_sleep )\n",
    "\n",
    "def Main() :\n",
    "    crawling_naver_sections(wd, \"20180724\")\n",
    "Main()"
   ]
  }
 ],
 "metadata": {
  "kernelspec": {
   "display_name": "Python 3",
   "language": "python",
   "name": "python3"
  },
  "language_info": {
   "codemirror_mode": {
    "name": "ipython",
    "version": 3
   },
   "file_extension": ".py",
   "mimetype": "text/x-python",
   "name": "python",
   "nbconvert_exporter": "python",
   "pygments_lexer": "ipython3",
   "version": "3.6.5"
  }
 },
 "nbformat": 4,
 "nbformat_minor": 2
}
