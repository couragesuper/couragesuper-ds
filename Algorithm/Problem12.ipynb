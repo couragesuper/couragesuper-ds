{
 "cells": [
  {
   "cell_type": "code",
   "execution_count": 1,
   "metadata": {},
   "outputs": [
    {
     "name": "stdout",
     "output_type": "stream",
     "text": [
      "Input the number of hartal\n",
      "1\n",
      "Input the number of day\n",
      "2\n",
      "Input the 1 hartal \n",
      "3\n",
      "[3]\n",
      "checkHartal:{0},{1} [3] 2\n",
      "[]\n",
      "coperate of hartal is 0\n"
     ]
    }
   ],
   "source": [
    "\n",
    "def InputInt( szMsg ) : \n",
    "    print( szMsg ) \n",
    "    szInput = input() \n",
    "    if( szInput.isdigit() ) : \n",
    "        iNum = int(szInput) \n",
    "        return iNum \n",
    "    else : \n",
    "        print( \" wrong input .\") \n",
    "        exit(0) \n",
    "\n",
    "nHartal  = InputInt( \"Input the number of hartal\" ) \n",
    "nDay    = InputInt( \"Input the number of day\" ) \n",
    "\n",
    "listParamHartal = [0 for i in range(0,nHartal)] \n",
    "\n",
    "for i in range( 0 , nHartal ) : \n",
    "    listParamHartal[i] = InputInt(\"Input the {0} hartal \".format(i+1)) \n",
    "\n",
    "print( listParamHartal ) \n",
    "\n",
    "# list of day \n",
    "# 1 ~ 7  : 1w \n",
    "# 8 ~ 14  : 2w \n",
    "# 15 ~ 21 : 3w \n",
    "\n",
    "# 요일 계산하는 식 : n % 7 \n",
    "# 1베이스 수를 order에 사용할떄 mod를 사용하려면 \n",
    "\n",
    "def checkHartal( listHartal , nDay ) : \n",
    "    print( \"checkHartal:{0},{1}\",listHartal, nDay ) \n",
    "    nCopHartal = 0 \n",
    "    listDay = [] \n",
    "    for iDay in range(1,nDay + 1) : \n",
    "        iCop = 0 \n",
    "        thWeek = (iDay - 1) % 7 \n",
    "        if(  ((thWeek % 7 ) == 5)  or  ((thWeek%7) == 6)  ) : continue #요일 계산하는 방법이 틀렸음 \n",
    "        for nHartalParam in listHartal : \n",
    "            if( (iDay % nHartalParam) == 0 ) : \n",
    "                iCop = iCop + 1 \n",
    "        if( iCop >= 1 ) : \n",
    "            nCopHartal = nCopHartal + 1 \n",
    "            listDay.append( iDay ) \n",
    "    print( listDay ) \n",
    "    return nCopHartal \n",
    "\n",
    "iHartal = checkHartal( listParamHartal ,nDay ) \n",
    "print( \"coperate of hartal is {0}\".format( iHartal ) )"
   ]
  }
 ],
 "metadata": {
  "kernelspec": {
   "display_name": "Python 3",
   "language": "python",
   "name": "python3"
  },
  "language_info": {
   "codemirror_mode": {
    "name": "ipython",
    "version": 3
   },
   "file_extension": ".py",
   "mimetype": "text/x-python",
   "name": "python",
   "nbconvert_exporter": "python",
   "pygments_lexer": "ipython3",
   "version": "3.6.5"
  }
 },
 "nbformat": 4,
 "nbformat_minor": 2
}
