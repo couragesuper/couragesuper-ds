{
 "cells": [
  {
   "cell_type": "markdown",
   "metadata": {},
   "source": [
    "# Problem 1 \n",
    "\n"
   ]
  },
  {
   "cell_type": "code",
   "execution_count": 1,
   "metadata": {},
   "outputs": [
    {
     "name": "stdout",
     "output_type": "stream",
     "text": [
      "[9, 5, 6, 3, 0, 1, 2, 4, 7, 8]\n"
     ]
    },
    {
     "name": "stdout",
     "output_type": "stream",
     "text": [
      "[1, 7, 4, 3, 5, 8, 2, 6, 0, 9]\n"
     ]
    }
   ],
   "source": [
    "import random \n",
    "\n",
    "list = [i for i in range(0,10)] \n",
    "\n",
    "random.shuffle( list ) \n",
    "print(list) \n",
    "\n",
    "def sortFlip ( list ) : \n",
    "    lenList = len(list) \n",
    "    for i in range(0,lenList) : \n",
    "        maxIdx = i \n",
    "        for j in range( i + 1 , lenList ) : \n",
    "            if( list[maxIdx] < list[j] ) : maxIdx = j \n",
    "        # maxIdx 가 마지막 이면 loop에서 뒤집습니다. \n",
    "        # maxIdx 가 마지막이 아니면 일단 찾은 곳에서 뒤집습니다. \n",
    "        #print(\"loop:{0} maxIdx:{1}\".format(i, maxIdx)) \n",
    "        if( maxIdx != (lenList-1) ) : \n",
    "            reverseAfterIdx( list, maxIdx ) \n",
    "        reverseAfterIdx( list, i ) \n",
    "        #여기서 loop를 잘못만들었고, 찾는데 디버깅을 하였다. 처음부터 Logic을 잘 쓰는 연습을 할것. \n",
    "\n",
    "def reverseAfterIdx( list , idx ) : \n",
    "    print( \"flip idx\", idx  ) \n",
    "    first = idx \n",
    "    last  = len( list ) - 1 \n",
    "    while( first < last ) : \n",
    "        t = list[first] \n",
    "        list[first] = list[last] \n",
    "        list[last] = t \n",
    "        first = first + 1 \n",
    "        last  = last - 1 \n",
    "    #print( \"after reverse\", list  ) \n"
   ]
  },
  {
   "cell_type": "code",
   "execution_count": 3,
   "metadata": {},
   "outputs": [
    {
     "name": "stdout",
     "output_type": "stream",
     "text": [
      "flip idx 0\nflip idx 0\nflip idx 1\nflip idx 1\nflip idx 2\nflip idx 2\nflip idx 3\nflip idx 3\nflip idx 4\nflip idx 4\nflip idx 5\nflip idx 5\nflip idx 6\nflip idx 6\nflip idx 7\nflip idx 7\nflip idx 8\nflip idx 8\nflip idx 9\n[9, 8, 7, 6, 5, 4, 3, 2, 1, 0]\n"
     ]
    }
   ],
   "source": [
    "\n",
    "sortFlip(list) \n",
    "print(list)"
   ]
  },
  {
   "cell_type": "code",
   "execution_count": null,
   "metadata": {},
   "outputs": [],
   "source": []
  }
 ],
 "metadata": {
  "kernelspec": {
   "display_name": "Python 3",
   "language": "python",
   "name": "python3"
  },
  "language_info": {
   "codemirror_mode": {
    "name": "ipython",
    "version": 3
   },
   "file_extension": ".py",
   "mimetype": "text/x-python",
   "name": "python",
   "nbconvert_exporter": "python",
   "pygments_lexer": "ipython3",
   "version": "3.6.5"
  }
 },
 "nbformat": 4,
 "nbformat_minor": 2
}
