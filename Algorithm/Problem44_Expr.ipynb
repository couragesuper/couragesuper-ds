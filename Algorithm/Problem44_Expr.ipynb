{
 "cells": [
  {
   "cell_type": "markdown",
   "metadata": {},
   "source": [
    "문제 : 완성된 괄호를 생성하는 문제이다. 괄호가 열고 닫히는 것이 정상적인지를 찾아내는 것이 관건"
   ]
  },
  {
   "cell_type": "code",
   "execution_count": 2,
   "metadata": {},
   "outputs": [],
   "source": [
    "#  D(E) =\n",
    "#       1. 0\n",
    "#       2. D(A) + 1 단, E = (A)\n",
    "#       3. max ( D(A), D(B) )\n",
    "\n",
    "isDebug = False\n",
    "\n",
    "def chkBracStr( str , n , d) :\n",
    "    nDepth = 0\n",
    "    nMaxDepth = 0\n",
    "    listString = list( str )\n",
    "    # chk1 : length whether is excceed\n",
    "    if (len(str) > (n * 2)):\n",
    "        return {\"ret\": \"Fail\", \"msg\": \"excceed of len\", \"input\": str}\n",
    "    else :\n",
    "        #chk2 : elements\n",
    "        for i in range (0,len(str)) :\n",
    "            if( listString[i] == '(') :\n",
    "                nDepth = nDepth + 1\n",
    "                nMaxDepth = max( nDepth, nMaxDepth )\n",
    "            elif (listString[i] == ')'):\n",
    "                nDepth = nDepth - 1\n",
    "                if( nDepth < 0 ) :\n",
    "                    return { \"ret\":\"Fail\" , \"msg\":\"more closed bracket\" , \"input\": str }\n",
    "            else :\n",
    "                return { \"ret\":\"Fail\" , \"msg\":\"wrong char\" , \"input\": str }\n",
    "        #chk3 : is  checked\n",
    "        if( (nMaxDepth == d) and ((n*2) == len(listString)) ) :\n",
    "            return {\"ret\": \"Checked\", \"input\": str , \"len\": n , \"depth\": nMaxDepth }\n",
    "        else :\n",
    "            return {\"ret\": \"Checking\", \"input\": str , \"len\": n , \"depth\": nMaxDepth }\n",
    "\n",
    "    return\n",
    "\n",
    "def makeBracStr ( n , d , listSucceedCase ) :\n",
    "    _makeBracStr( 0 ,n, n, n, d, \"\",listSucceedCase )\n",
    "    _makeBracStr( 1, n, n, n, d, \"\",listSucceedCase )\n",
    "\n",
    "def _makeBracStr ( target , nRemainL, nRemainR , n , d , prvStr , listSuccedCase ) :\n",
    "    # add L\n",
    "    if( target == 0  ) :\n",
    "        nRemainL = nRemainL - 1\n",
    "        testCase = prvStr + \"(\"\n",
    "    elif( target == 1  ) :\n",
    "        nRemainR = nRemainR - 1\n",
    "        testCase = prvStr + \")\"\n",
    "    else :\n",
    "        if(isDebug) : print( \"_makeBracStr:{}={} {},{} ret:0\".format(target, testCase,nRemainL,nRemainR) )\n",
    "        return\n",
    "\n",
    "    if( (nRemainR < 0) or (nRemainL < 0) ) :\n",
    "        if (isDebug): print(\"_makeBracStr:{}={} {},{}ret:1\".format(target, testCase,nRemainL,nRemainR))\n",
    "        return\n",
    "\n",
    "    ret = chkBracStr( testCase , n, d)\n",
    "    if (isDebug): print( ret )\n",
    "    if( ret['ret']!=\"Failed\")  :\n",
    "        if( ret['ret'] == \"Checked\" ) :\n",
    "            listSuccedCase.append( testCase )\n",
    "        elif( ret['ret'] == \"Checking\" ) :\n",
    "            _makeBracStr( 0, nRemainL  , nRemainR, n,  d , testCase , listSuccedCase) # duplicated minus index\n",
    "            _makeBracStr( 1, nRemainL  , nRemainR, n,  d , testCase , listSuccedCase) # checking the transfer\n"
   ]
  },
  {
   "cell_type": "code",
   "execution_count": 3,
   "metadata": {},
   "outputs": [
    {
     "name": "stdout",
     "output_type": "stream",
     "text": [
      "len:1,depth:1=['()']\n",
      "len:2,depth:1=['()()']\n",
      "len:2,depth:2=['(())']\n",
      "len:3,depth:1=['()()()']\n",
      "len:3,depth:2=['(()())', '(())()', '()(())']\n",
      "len:3,depth:3=['((()))']\n",
      "len:4,depth:1=['()()()()']\n",
      "len:4,depth:2=['(()()())', '(()())()', '(())(())', '(())()()', '()(()())', '()(())()', '()()(())']\n",
      "len:4,depth:3=['((()()))', '((())())', '((()))()', '(()(()))', '()((()))']\n",
      "len:4,depth:4=['(((())))']\n",
      "len:5,depth:1=['()()()()()']\n",
      "len:5,depth:2=['(()()()())', '(()()())()', '(()())(())', '(()())()()', '(())(()())', '(())(())()', '(())()(())', '(())()()()', '()(()()())', '()(()())()', '()(())(())', '()(())()()', '()()(()())', '()()(())()', '()()()(())']\n",
      "len:5,depth:3=['((()()()))', '((()())())', '((()()))()', '((())(()))', '((())()())', '((())())()', '((()))(())', '((()))()()', '(()(()()))', '(()(())())', '(()(()))()', '(()()(()))', '(())((()))', '()((()()))', '()((())())', '()((()))()', '()(()(()))', '()()((()))']\n",
      "len:5,depth:4=['(((()())))', '(((())()))', '(((()))())', '(((())))()', '((()(())))', '(()((())))', '()(((())))']\n",
      "len:5,depth:5=['((((()))))']\n"
     ]
    }
   ],
   "source": [
    "if True :\n",
    "    for i in range( 1, 5 + 1 ) :  # length\n",
    "        for j in range(1, i + 1) :\n",
    "            listOKCase = []\n",
    "            makeBracStr(i,j,listOKCase)\n",
    "            if( len(listOKCase) > 0  ):\n",
    "                print( \"len:{0},depth:{1}={2}\".format(i,j,listOKCase))\n",
    "            else :\n",
    "                print(\"len:{0},depth:{1} has no case\".format(i, j, listOKCase))"
   ]
  }
 ],
 "metadata": {
  "kernelspec": {
   "display_name": "Python 3",
   "language": "python",
   "name": "python3"
  },
  "language_info": {
   "codemirror_mode": {
    "name": "ipython",
    "version": 3
   },
   "file_extension": ".py",
   "mimetype": "text/x-python",
   "name": "python",
   "nbconvert_exporter": "python",
   "pygments_lexer": "ipython3",
   "version": "3.6.5"
  }
 },
 "nbformat": 4,
 "nbformat_minor": 2
}
