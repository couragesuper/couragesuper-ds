{
 "cells": [
  {
   "cell_type": "markdown",
   "metadata": {},
   "source": [
    "<H2>*.Bridge 문제의 최적화 방법 </H2>\n",
    "<br>\n",
    "1,2,3,4,5,6  <br>\n",
    "[1.2] <- [3.4.5.6] + 2  <br>\n",
    "[2] -> [1,3,4,5,6] + 1 <br>\n",
    "[2,5,6] <- [1,3,4] + 6 <br>\n",
    "[5,6] -> [1,2,3,4] + 2 <br>\n",
    "[1,2,5,6] <- [3,4] + 2 <br>\n",
    "[2,5,6] -> [1,3,4] + 1 <br>\n",
    "[2,3,4,5,6] <- [1] + 4 <br>\n",
    "[3,4,5,6] -> [1,2] + 2 <br>\n",
    "[1,2,3,4,5,6]      + 2 <br>\n",
    "<br>\n",
    "<br>\n",
    "2,1,6,2,2,1,4,2,2 -> 22 <br>\n",
    "<br>\n",
    "[1,2,4,5,10] <br>\n",
    "[1,2] <- [4,5,10] + 2    1) Odd Send (smallest group) <br>\n",
    "[2] -> [1,4,5,10] + 1\t2) Odd Back (smallest solo) <br>\n",
    "[2,5,10] <- [1,4] + 10  3) Even Send (largest group) <br>\n",
    "[5,10] -> [1,2,4] + 2\t4) Even Back (smallest solo) <br>\n",
    "<br>\n",
    "1)OddSend <br>\n",
    "[1,2,5,10] <- [4] + 2 <br>\n",
    "<br>\n",
    "2)OddBack <br>\n",
    "[2,5,10] -> 1,4  + 1  if(total member is two , all send)<br>"
   ]
  }
 ],
 "metadata": {
  "kernelspec": {
   "display_name": "Python 3",
   "language": "python",
   "name": "python3"
  },
  "language_info": {
   "codemirror_mode": {
    "name": "ipython",
    "version": 3
   },
   "file_extension": ".py",
   "mimetype": "text/x-python",
   "name": "python",
   "nbconvert_exporter": "python",
   "pygments_lexer": "ipython3",
   "version": "3.6.5"
  }
 },
 "nbformat": 4,
 "nbformat_minor": 2
}
