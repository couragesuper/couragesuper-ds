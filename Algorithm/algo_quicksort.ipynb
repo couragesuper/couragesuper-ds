{
 "cells": [
  {
   "cell_type": "code",
   "execution_count": 1,
   "metadata": {
    "collapsed": true
   },
   "outputs": [],
   "source": [
    "import random \n",
    "\n",
    "def QuickSort( arrList, first , last ) : \n",
    "    if( first >= last ) : return \n",
    "    pVal = arrList[last] \n",
    "    pIdx = last \n",
    "    l = first \n",
    "    r = last - 1 \n",
    "    while( l < r ) : \n",
    "        while( (l <=r) and (arrList[l] <= pVal)  ) : l = l + 1 \n",
    "        while( (l <= r) and (arrList[r] >= pVal)  ) : r = r - 1 \n",
    "        if( l < r ) : \n",
    "            t = arrList[l] \n",
    "            arrList[l] = arrList[r] \n",
    "            arrList[r] = t \n",
    "    if( arrList[l] > arrList[pIdx] ) : # WRONG 1 \n",
    "        t = arrList[l] \n",
    "        arrList[l] = arrList[pIdx] \n",
    "        arrList[pIdx] = t \n",
    "        pIdx = l # WRONG 2 \n",
    "    QuickSort( arrList, first, pIdx - 1 ) \n",
    "    QuickSort( arrList, pIdx + 1, last ) \n"
   ]
  },
  {
   "cell_type": "code",
   "execution_count": 9,
   "metadata": {},
   "outputs": [
    {
     "name": "stdout",
     "output_type": "stream",
     "text": [
      "[67, 91, 42, 54, 89, 34, 91, 5, 0, 59, 36, 6, 38, 40, 68, 15, 0, 23, 55, 27]\n[0, 0, 5, 6, 15, 23, 27, 34, 36, 38, 40, 42, 54, 55, 59, 67, 68, 89, 91, 91]\n"
     ]
    }
   ],
   "source": [
    "randList = [ random.randrange(0,100) for i in range(0,20) ] \n",
    "print( randList )\n",
    "QuickSort( randList, 0, len(randList)-1) \n",
    "print( randList )"
   ]
  },
  {
   "cell_type": "code",
   "execution_count": 11,
   "metadata": {},
   "outputs": [
    {
     "name": "stdout",
     "output_type": "stream",
     "text": [
      "[0, 0, 5, 6, 15, 23, 27, 34, 36, 38, 40, 42, 54, 55, 59, 67, 68, 89, 91, 91]\n"
     ]
    }
   ],
   "source": [
    ""
   ]
  }
 ],
 "metadata": {
  "kernelspec": {
   "display_name": "Python 2",
   "language": "python",
   "name": "python2"
  },
  "language_info": {
   "codemirror_mode": {
    "name": "ipython",
    "version": 2
   },
   "file_extension": ".py",
   "mimetype": "text/x-python",
   "name": "python",
   "nbconvert_exporter": "python",
   "pygments_lexer": "ipython2",
   "version": "2.7.6"
  }
 },
 "nbformat": 4,
 "nbformat_minor": 0
}
