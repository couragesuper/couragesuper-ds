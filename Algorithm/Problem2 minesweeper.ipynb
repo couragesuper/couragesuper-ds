{
 "cells": [
  {
   "cell_type": "markdown",
   "metadata": {},
   "source": [
    "1.NUMPY의 RANDOM에 일정 갯수를 채워주는 것이 있으나, NDARRY 타입을 반환함. TOLIST로 변경할 것. \n",
    "np.array.tolist() \n",
    "\n",
    "2.if 문 2개로 중첩하여 만들던 범위 측정을 in range로 대체하니 깔끔하다. "
   ]
  },
  {
   "cell_type": "code",
   "execution_count": 1,
   "metadata": {},
   "outputs": [],
   "source": [
    "import random \n",
    "import numpy as np\n",
    "# 2dimensional array \n",
    "\n",
    "strInput = \"*...\" + \"..*.\" + \"...*\" + \"...*\"  \n",
    "diff = [[-1,-1], [0,-1] , [1,-1], [-1,0] , [1,0], [-1,1], [0,1], [1,1]] \n",
    "\n",
    "\n",
    "\n",
    "def createBoard( nx, ny ):\n",
    "    board = []\n",
    "    score = []\n",
    "    for i in range(0,ny):\n",
    "        board.append(  np.random.randint(2, size=nx).tolist()  )\n",
    "        score.append( [ 0 for i in range(0,nx) ] )\n",
    "    return board, score;\n",
    "       \n",
    "def printBoard( bd ):\n",
    "    for row in bd :\n",
    "        print( row )\n",
    "            \n",
    "def checkBoard( bd , score ) :\n",
    "    global diff\n",
    "    lenW = len(bd[0])\n",
    "    lenH = len(bd)\n",
    "    for h in range(0,lenH) :\n",
    "        for w in range(0,lenW) :\n",
    "            for loop in range(0,8):\n",
    "                tx = w + diff[loop][0]\n",
    "                ty = h + diff[loop][1]\n",
    "                #if ( ((tx >= 0) and (tx < lenW)) and ((ty >= 0) and (ty < lenH)) ) :                    \n",
    "                if (tx in range(0,lenW)) and (ty in range(0,lenH)) :\n",
    "                    if  bd[ty][tx]  :\n",
    "                        score[h][w] = score[h][w] + 1   \n",
    "    "
   ]
  },
  {
   "cell_type": "code",
   "execution_count": 34,
   "metadata": {},
   "outputs": [
    {
     "name": "stdout",
     "output_type": "stream",
     "text": [
      "board\n",
      "[1, 1, 1, 0]\n",
      "[1, 1, 1, 1]\n",
      "[1, 1, 1, 1]\n",
      "[0, 0, 1, 1]\n",
      "[0, 0, 0, 1]\n",
      "score\n",
      "[0, 0, 0, 0]\n",
      "[0, 0, 0, 0]\n",
      "[0, 0, 0, 0]\n",
      "[0, 0, 0, 0]\n",
      "[0, 0, 0, 0]\n",
      "check\n",
      "[3, 5, 4, 3]\n",
      "[5, 8, 7, 4]\n",
      "[3, 6, 7, 5]\n",
      "[2, 4, 5, 4]\n",
      "[0, 1, 3, 2]\n"
     ]
    }
   ],
   "source": [
    "nWidth  = random.randint(4,10)\n",
    "nHeight = random.randint(4,10)\n",
    "\n",
    "board, score = createBoard( nWidth, nHeight )\n",
    "\n",
    "print(\"board\")\n",
    "printBoard( board )\n",
    "print(\"score\")\n",
    "printBoard( score )\n",
    "print(\"check\")\n",
    "\n",
    "checkBoard( board, score )\n",
    "\n",
    "printBoard( score )\n"
   ]
  }
 ],
 "metadata": {
  "kernelspec": {
   "display_name": "Python 3",
   "language": "python",
   "name": "python3"
  },
  "language_info": {
   "codemirror_mode": {
    "name": "ipython",
    "version": 3
   },
   "file_extension": ".py",
   "mimetype": "text/x-python",
   "name": "python",
   "nbconvert_exporter": "python",
   "pygments_lexer": "ipython3",
   "version": "3.6.5"
  }
 },
 "nbformat": 4,
 "nbformat_minor": 2
}
