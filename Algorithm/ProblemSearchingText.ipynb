{
 "cells": [
  {
   "cell_type": "code",
   "execution_count": 5,
   "metadata": {},
   "outputs": [
    {
     "ename": "SyntaxError",
     "evalue": "unexpected character after line continuation character (<ipython-input-5-68e99bb070ec>, line 3)",
     "output_type": "error",
     "traceback": [
      "\u001b[0;36m  File \u001b[0;32m\"<ipython-input-5-68e99bb070ec>\"\u001b[0;36m, line \u001b[0;32m3\u001b[0m\n\u001b[0;31m    strLeft = \"*jesusrf***\"\\\u001b[0m\n\u001b[0m                             ^\u001b[0m\n\u001b[0;31mSyntaxError\u001b[0m\u001b[0;31m:\u001b[0m unexpected character after line continuation character\n"
     ]
    }
   ],
   "source": [
    "\n",
    "\n",
    "strLeft = \"*jesusrf***\"\\ \n",
    "\"***********\"\\\n",
    "***********\"\\  \n",
    "\"****godbi**\"\\  \n",
    "\"*peace*****\"\\  \n",
    "\"***********\"\\  \n",
    "\"*peace*****\"\\  \n",
    "\"**love*****\"\n",
    "\n",
    "strings = [ \"jesus\" , \"god\" , \"peace\", \"love\" ] \n",
    "nWidth  = 11 \n",
    "nHeight = 8 \n",
    "\n",
    "for i in range(0,len(strings)) : \n",
    "    nWord = len(strings[i]) \n",
    "    print (strings[i] , \"=len:\" , nWord ) \n",
    "    for k in range(0, nHeight ): \n",
    "        for j in range(0,nWidth - nWord) : \n",
    "            for l in range(0,nWord): \n",
    "                ch = strLeft[ k * nWidth + j + l] \n",
    "                wch = strings[i][l] \n",
    "                if( ch != wch ) : break \n",
    "            else : \n",
    "                print(\"matched\", j,\",\",k)\n"
   ]
  }
 ],
 "metadata": {
  "kernelspec": {
   "display_name": "Python 3",
   "language": "python",
   "name": "python3"
  },
  "language_info": {
   "codemirror_mode": {
    "name": "ipython",
    "version": 3
   },
   "file_extension": ".py",
   "mimetype": "text/x-python",
   "name": "python",
   "nbconvert_exporter": "python",
   "pygments_lexer": "ipython3",
   "version": "3.6.5"
  }
 },
 "nbformat": 4,
 "nbformat_minor": 2
}
