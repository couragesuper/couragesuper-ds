{
 "cells": [
  {
   "cell_type": "code",
   "execution_count": 1,
   "metadata": {},
   "outputs": [],
   "source": [
    "import os\n",
    "\n",
    "plainText = \"the quick brown fox jumps over the lazy dog\"\n",
    "\n",
    "inputText = [ \"vtz ud xnm xugm itr py jttk gmv xt otgm t xnm puk ti xnm fprxq\",\n",
    "              \"xnm ceuob lrtzv ita hegfd tsmr xnm ypwq ktj\",\n",
    "              \"frtjrpgguvj otvxmdxd prm iev prmvx xnmq\"\n",
    "              ]\n"
   ]
  },
  {
   "cell_type": "code",
   "execution_count": 2,
   "metadata": {},
   "outputs": [],
   "source": [
    "\n",
    "def MakePlainTextToPattern( input ) :\n",
    "    lenText = len( input )\n",
    "    listText = list( input )\n",
    "    listTxtPattern = [ 99 for i in range(0,lenText) ]\n",
    "    #source is input\n",
    "    #target is listTxtPattern\n",
    "    #if target is\n",
    "    for idx in range( 0, lenText ):\n",
    "        CurCh = listText[idx]\n",
    "        if( CurCh == \" \" ) : ordCh = 100\n",
    "        else : ordCh = ord( CurCh ) - ord('a')\n",
    "        listTxtPattern[idx] = ordCh\n",
    "    return listTxtPattern"
   ]
  },
  {
   "cell_type": "markdown",
   "metadata": {},
   "source": [
    "ord() : char -> int "
   ]
  },
  {
   "cell_type": "code",
   "execution_count": 3,
   "metadata": {},
   "outputs": [],
   "source": [
    "\n",
    "def MakeConvertor( plain , input ) :\n",
    "    lenInputText = len( input )\n",
    "    lenPlainText = len( plain )\n",
    "    if( lenInputText != lenPlainText ) : return {\"ret\":\"False\",\"reason\":\"length between plain and input is different\"}\n",
    "\n",
    "    listPlain = list( plain )\n",
    "    listInput = list( input )\n",
    "    listConvert = [99 for i in range(0,26)]\n",
    "\n",
    "    for idx in range( 0, lenInputText ):\n",
    "        if( listInput[idx] == ' ' and  listPlain[idx] == ' ' ) : continue\n",
    "        ordPlain = ord( listPlain[idx] ) - ord('a')\n",
    "        ordInput = ord( listInput[idx] ) - ord('a')\n",
    "        if( listConvert[ordInput] == 99 ) : listConvert[ordInput] = ordPlain\n",
    "        elif( listConvert[ordInput] == ordPlain ) : continue\n",
    "        else : return {\"ret\":\"False\",\"reason\":\"cant make pattern , duplicated index is occured.\"}\n",
    "    return {\"ret\":\"True\", \"data\":listConvert }"
   ]
  },
  {
   "cell_type": "code",
   "execution_count": 4,
   "metadata": {},
   "outputs": [],
   "source": [
    "\n",
    "def DecodingText( listConvert , inputText ):\n",
    "    output = \"\"\n",
    "    for idx in range(0,len(inputText)) :\n",
    "        if( inputText[idx] == \" \" ): output += \" \"\n",
    "        else :\n",
    "            chIdx = ord(inputText[idx]) - ord('a')\n",
    "            output += chr( listConvert[chIdx] + ord('a') )\n",
    "    return output"
   ]
  },
  {
   "cell_type": "code",
   "execution_count": 5,
   "metadata": {},
   "outputs": [
    {
     "name": "stdout",
     "output_type": "stream",
     "text": [
      "matching plainText and inputText 0 =>{'ret': 'False', 'reason': 'length between plain and input is different'}\n",
      "matching plainText and inputText 0 =>{'ret': 'True', 'data': [23, 10, 16, 18, 20, 15, 12, 9, 5, 6, 3, 1, 4, 7, 2, 0, 24, 17, 21, 14, 8, 13, 25, 19, 11, 22]}\n",
      "matching plainText and inputText 0 =>{'ret': 'False', 'reason': 'length between plain and input is different'}\n",
      "now is the time for al good men to come o the aid of the party\n",
      "the quick brown fox jumps over the lazy dog\n",
      "programming contests are fun arent they\n"
     ]
    }
   ],
   "source": [
    "print( \"matching plainText and inputText 0 =>{}\".format(MakeConvertor(plainText, inputText[0])))\n",
    "print( \"matching plainText and inputText 0 =>{}\".format(MakeConvertor(plainText, inputText[1])))\n",
    "print( \"matching plainText and inputText 0 =>{}\".format(MakeConvertor( plainText, inputText[2])))\n",
    "\n",
    "result = MakeConvertor( plainText, inputText[1] )\n",
    "\n",
    "print( DecodingText( result[\"data\"], inputText[0]))\n",
    "print( DecodingText( result[\"data\"], inputText[1]))\n",
    "print( DecodingText( result[\"data\"], inputText[2]))\n"
   ]
  }
 ],
 "metadata": {
  "kernelspec": {
   "display_name": "Python 3",
   "language": "python",
   "name": "python3"
  },
  "language_info": {
   "codemirror_mode": {
    "name": "ipython",
    "version": 3
   },
   "file_extension": ".py",
   "mimetype": "text/x-python",
   "name": "python",
   "nbconvert_exporter": "python",
   "pygments_lexer": "ipython3",
   "version": "3.6.5"
  }
 },
 "nbformat": 4,
 "nbformat_minor": 2
}
