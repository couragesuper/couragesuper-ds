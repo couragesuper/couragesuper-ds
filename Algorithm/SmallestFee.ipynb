{
 "cells": [
  {
   "cell_type": "code",
   "execution_count": 2,
   "metadata": {},
   "outputs": [
    {
     "name": "stdout",
     "output_type": "stream",
     "text": [
      "sumDay= 11\n"
     ]
    }
   ],
   "source": [
    "datalist = [[3,4],[1,1000],[2,2],[5,5]]\n",
    "\n",
    "from itertools import combinations\n",
    "from itertools import permutations\n",
    "\n",
    "listEle     = [ i for i in range(0,4) ]\n",
    "perm = permutations( listEle ,4  )\n",
    "\n",
    "print( list(perm) )\n",
    "\n",
    "\n",
    "# example\n",
    "# fee 4/3 , 1000 ,1 , 1  1일당 벌금\n",
    "# 1일당 벌금이 큰 순서대로 정렬\n",
    "# 그 다음은 날수가 짧은 것을 정렬\n",
    "# 하루가 지나면\n",
    "\n",
    "# python에서 특정 조건으로 정렬하기\n",
    "\n",
    "def caculateFee( program ) :\n",
    "    sumDay = 0\n",
    "    for i in range(0, len(datalist)) :\n",
    "        sumDay = sumDay + datalist[i][0]\n",
    "    print(\"sumDay=\", sumDay )\n",
    "\n",
    "\n",
    "\n",
    "caculateFee( datalist )\n"
   ]
  }
 ],
 "metadata": {
  "kernelspec": {
   "display_name": "Python 3",
   "language": "python",
   "name": "python3"
  },
  "language_info": {
   "codemirror_mode": {
    "name": "ipython",
    "version": 3
   },
   "file_extension": ".py",
   "mimetype": "text/x-python",
   "name": "python",
   "nbconvert_exporter": "python",
   "pygments_lexer": "ipython3",
   "version": "3.6.5"
  }
 },
 "nbformat": 4,
 "nbformat_minor": 2
}
