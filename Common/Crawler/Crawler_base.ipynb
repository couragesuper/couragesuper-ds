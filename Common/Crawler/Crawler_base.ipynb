{
 "cells": [
  {
   "cell_type": "code",
   "execution_count": 1,
   "metadata": {},
   "outputs": [
    {
     "name": "stdout",
     "output_type": "stream",
     "text": [
      "[Load] module for crawler\n"
     ]
    }
   ],
   "source": [
    "from selenium import webdriver\n",
    "import time\n",
    "from time import sleep\n",
    "\n",
    "path_chrome_driver_linux = \"/root/chromedriver/chromedriver\"\n",
    "path_chrome_driver_win = \"D:\\\\Workspace\\\\temp\\\\DataScience-GitData\\\\DataScience-master\\\\chromedriver\"\n",
    "\n",
    "def crawling_sendkey( driver, by , name, sendvalue ) :\n",
    "    if( by.lower() == \"name \") : elem = driver.find_element_by_name(name)\n",
    "    elif (by.lower() == \"xpath\"): elem = driver.find_element_by_xpath(name)\n",
    "    else : return False\n",
    "    elem.clear()\n",
    "    elem.send_keys(sendvalue)\n",
    "    sleep(0.1)\n",
    "    return True;\n",
    "\n",
    "def crawling_select_getlist( driver, xpath ) :\n",
    "    list = driver.find_element_by_xpath(xpath).find_elements_by_tag_name(\"option\")\n",
    "    value = [option.text for option in list]\n",
    "    value = value[1:]  # 전체 제거?\n",
    "    sleep(0.5)  # this makes correct result\n",
    "    return value\n",
    "\n",
    "def crawling_table_getlist_tag_xpath(driver, xpath, tag , isElemList ):\n",
    "    list_webelem = driver.find_element_by_xpath(xpath).find_elements_by_tag_name(tag)\n",
    "    if isElemList == True : return list_webelem\n",
    "    else:  return [ {\"text\":elem.text, \"href\":elem.get_attribute(\"href\"), \"elem\":elem , \"src\":elem.get_attribute(\"src\")} for elem in list_webelem ]\n",
    "\n",
    "def crawling_select_Item( driver, xpath , selectId , order ) :\n",
    "    list = driver.find_element_by_xpath(xpath).find_elements_by_tag_name(\"option\")\n",
    "    value = [option.text for option in list]\n",
    "    value = value[1:]  # 전체 제거?\n",
    "    element = driver.find_element_by_id( selectId )\n",
    "    element.send_keys(value[order])\n",
    "    sleep(0.5)  # this makes correct result\n",
    "    \n",
    "def InitWebDriver( isLinux = False, isHidden = False  ) :\n",
    "    if( isLinux ) : path_chrome_driver = path_chrome_driver_linux       \n",
    "    else : path_chrome_driver = path_chrome_driver_win               \n",
    "    if( isHidden ) :\n",
    "        options = webdriver.ChromeOptions()\n",
    "        options.add_argument('--headless')\n",
    "        options.add_argument('--window-size=1920x1080')\n",
    "        options.add_argument(\"--disable-gpu\")\n",
    "        options.add_argument(\"--no-sandbox\")\n",
    "        webDrv = webdriver.Chrome(path_chrome_driver, chrome_options=options)\n",
    "    else :\n",
    "        webDrv  = webdriver.Chrome(path_chrome_driver)\n",
    "    return webDrv\n",
    "    \n",
    "def OpenWebPage( webDrv, URL , delay ) :\n",
    "    webDrv.get(URL)\n",
    "    webDrv.implicitly_wait(delay)\n",
    "    \n",
    "print( \"[Load] module for crawler\" )"
   ]
  },
  {
   "cell_type": "code",
   "execution_count": 4,
   "metadata": {},
   "outputs": [],
   "source": [
    "webDrv = InitWebDriver(True,True )\n",
    "\n"
   ]
  },
  {
   "cell_type": "code",
   "execution_count": null,
   "metadata": {},
   "outputs": [],
   "source": []
  }
 ],
 "metadata": {
  "kernelspec": {
   "display_name": "Python 3",
   "language": "python",
   "name": "python3"
  },
  "language_info": {
   "codemirror_mode": {
    "name": "ipython",
    "version": 3
   },
   "file_extension": ".py",
   "mimetype": "text/x-python",
   "name": "python",
   "nbconvert_exporter": "python",
   "pygments_lexer": "ipython3",
   "version": "3.6.5"
  }
 },
 "nbformat": 4,
 "nbformat_minor": 2
}
