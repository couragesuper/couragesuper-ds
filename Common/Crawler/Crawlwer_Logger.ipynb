{
 "cells": [
  {
   "cell_type": "code",
   "execution_count": 6,
   "metadata": {},
   "outputs": [],
   "source": [
    "import os\n",
    "import sys\n",
    "from  xml.etree import ElementTree as ET"
   ]
  },
  {
   "cell_type": "code",
   "execution_count": 7,
   "metadata": {},
   "outputs": [],
   "source": [
    "#XML을 전달하면, 줄을 바꾸어 줍니다.\n",
    "def indent(elem, level=0):\n",
    "    i = \"\\n\" + level*\"  \"\n",
    "    if len(elem):\n",
    "        if not elem.text or not elem.text.strip():\n",
    "            elem.text = i + \"  \"\n",
    "        if not elem.tail or not elem.tail.strip():\n",
    "            elem.tail = i\n",
    "        for elem in elem:\n",
    "            indent(elem, level+1)\n",
    "        if not elem.tail or not elem.tail.strip():\n",
    "            elem.tail = i\n",
    "    else:\n",
    "        if level and (not elem.tail or not elem.tail.strip()):\n",
    "            elem.tail = i\n",
    "\n",
    "class Crawler_Logger :\n",
    "    def __init__(self, filename, isDebug ) :\n",
    "        self.filename = filename\n",
    "        self.isDebug  = isDebug\n",
    "        if( os.path.exists( filename ) == True ) :\n",
    "            if (self.isDebug): print(\"[Crawler_Logger] open existed file\")\n",
    "            self.xmltree = ET.parse(filename)\n",
    "            self.xmlroot = self.xmltree.getroot()\n",
    "        else :\n",
    "            if (self.isDebug): print(\"[Crawler_Logger] create new file\")\n",
    "            self.xmlroot = ET.Element('root')\n",
    "        history_node = self.xmlroot.find('histories')\n",
    "        if (self.isDebug): print(\"[Crawler_Logger] history node:\", history_node )\n",
    "        if( history_node == None) :\n",
    "            ET.SubElement( self.xmlroot , 'histories' )\n",
    "    def updateHistory( self, url , ret ) :\n",
    "        node_his = self.xmlroot.find(\"histories\")\n",
    "        node_history = node_his.find(\"history[@url='%s']\" % (url) )\n",
    "        if( ret == False ) : szRet = \"False\"\n",
    "        else : szRet = \"True\"\n",
    "        if( node_history == None ) :\n",
    "            node_history = ET.SubElement( node_his , 'history' )\n",
    "            node_history.attrib['url'] = url                    \n",
    "            if (self.isDebug): print(\"[Crawler_Logger] history node:\", history.attrib)        \n",
    "        node_history.attrib['ret'] = szRet\n",
    "    def getHistory(self , url ):\n",
    "        node_his = self.xmlroot.find(\"histories\")\n",
    "        node_history = node_his.find(\"history[@url='%s']\" % (url))\n",
    "        if( node_history == None ) :\n",
    "            return { \"exist\":False }\n",
    "        else :\n",
    "            valBool = True\n",
    "            if( node_history.attrib['ret'] == \"False\" ) : valBool = False            \n",
    "            return { \"exist\":True , \"ret\": valBool }\n",
    "    def updateXML(self) :\n",
    "        indent(self.xmlroot)\n",
    "        tree = ET.ElementTree(self.xmlroot)\n",
    "        tree.write(self.filename, encoding='utf-8', xml_declaration=True)"
   ]
  },
  {
   "cell_type": "code",
   "execution_count": 27,
   "metadata": {},
   "outputs": [],
   "source": [
    "craw_logger = Crawler_Logger( \"history.xml\" , False ) \n",
    "craw_logger.updateHistory(\"aaaa1\", False )\n",
    "craw_logger.updateHistory(\"aaaa2\", True )\n",
    "craw_logger.updateHistory(\"aaaa3\", False )\n",
    "craw_logger.updateHistory(\"aaaa4\", True )\n",
    "craw_logger.updateXML()"
   ]
  },
  {
   "cell_type": "code",
   "execution_count": 25,
   "metadata": {},
   "outputs": [],
   "source": [
    "craw_logger2 = Crawler_Logger( \"history.xml\" , False ) \n",
    "craw_logger2.updateHistory(\"aaaa1\",True) \n",
    "craw_logger2.updateHistory(\"aaaa2\",False) \n",
    "craw_logger2.updateHistory(\"aaaa3\",True) \n",
    "craw_logger2.updateHistory(\"aaaa4\",False) \n",
    "craw_logger2.updateXML()"
   ]
  },
  {
   "cell_type": "code",
   "execution_count": 28,
   "metadata": {},
   "outputs": [
    {
     "name": "stdout",
     "output_type": "stream",
     "text": [
      "{'exist': True, 'ret': False}\n",
      "{'exist': True, 'ret': True}\n",
      "{'exist': True, 'ret': False}\n",
      "{'exist': True, 'ret': True}\n"
     ]
    }
   ],
   "source": [
    "craw_logger3 = Crawler_Logger( \"history.xml\" , False ) \n",
    "\n",
    "print( craw_logger3.getHistory(\"aaaa1\") )\n",
    "print( craw_logger3.getHistory(\"aaaa2\") )\n",
    "print( craw_logger3.getHistory(\"aaaa3\") )\n",
    "print( craw_logger3.getHistory(\"aaaa4\") )\n"
   ]
  }
 ],
 "metadata": {
  "kernelspec": {
   "display_name": "Python 3",
   "language": "python",
   "name": "python3"
  },
  "language_info": {
   "codemirror_mode": {
    "name": "ipython",
    "version": 3
   },
   "file_extension": ".py",
   "mimetype": "text/x-python",
   "name": "python",
   "nbconvert_exporter": "python",
   "pygments_lexer": "ipython3",
   "version": "3.6.5"
  }
 },
 "nbformat": 4,
 "nbformat_minor": 2
}
